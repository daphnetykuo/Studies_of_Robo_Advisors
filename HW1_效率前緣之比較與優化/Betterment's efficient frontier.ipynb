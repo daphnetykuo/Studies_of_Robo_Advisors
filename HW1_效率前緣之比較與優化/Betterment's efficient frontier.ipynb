{
 "cells": [
  {
   "cell_type": "markdown",
   "metadata": {},
   "source": [
    "# Betterment 效率前緣"
   ]
  },
  {
   "cell_type": "markdown",
   "metadata": {},
   "source": [
    "#### 1. 匯入Robo Adivisor的資產池"
   ]
  },
  {
   "cell_type": "code",
   "execution_count": 54,
   "metadata": {},
   "outputs": [],
   "source": [
    "import pandas as pd\n",
    "import numpy as np\n",
    "import statsmodels.api as sm\n",
    "import scipy.stats as scs\n",
    "import scipy.optimize as sco\n",
    "import matplotlib.pyplot as plt\n",
    "import pandas_datareader.data as web\n",
    "import datetime"
   ]
  },
  {
   "cell_type": "code",
   "execution_count": 85,
   "metadata": {},
   "outputs": [],
   "source": [
    "data = pd.DataFrame()\n",
    "tickers = ['IVE','VTI','VEA','VWO', 'IWS', 'IWN', 'SHV', 'VTIP', 'IUSB', 'LQD', 'BNDX', 'VWOB', 'MUB']\n",
    "q = len(tickers)\n",
    "records = 0\n",
    "for i in tickers:\n",
    "    tmp = web.DataReader(i, 'yahoo', '4/1/2015', datetime.date.today())\n",
    "    data[i] = tmp['Adj Close']\n",
    "    if records == 0:\n",
    "        records = len(tmp)\n",
    "    else:\n",
    "        records = min(records, len(tmp))"
   ]
  },
  {
   "cell_type": "code",
   "execution_count": 56,
   "metadata": {},
   "outputs": [
    {
     "data": {
      "text/html": [
       "<div>\n",
       "<style scoped>\n",
       "    .dataframe tbody tr th:only-of-type {\n",
       "        vertical-align: middle;\n",
       "    }\n",
       "\n",
       "    .dataframe tbody tr th {\n",
       "        vertical-align: top;\n",
       "    }\n",
       "\n",
       "    .dataframe thead th {\n",
       "        text-align: right;\n",
       "    }\n",
       "</style>\n",
       "<table border=\"1\" class=\"dataframe\">\n",
       "  <thead>\n",
       "    <tr style=\"text-align: right;\">\n",
       "      <th></th>\n",
       "      <th>IVE</th>\n",
       "      <th>VTI</th>\n",
       "      <th>VEA</th>\n",
       "      <th>VWO</th>\n",
       "      <th>IWS</th>\n",
       "      <th>IWN</th>\n",
       "      <th>SHV</th>\n",
       "      <th>VTIP</th>\n",
       "      <th>IUSB</th>\n",
       "      <th>LQD</th>\n",
       "      <th>BNDX</th>\n",
       "      <th>VWOB</th>\n",
       "      <th>MUB</th>\n",
       "    </tr>\n",
       "    <tr>\n",
       "      <th>Date</th>\n",
       "      <th></th>\n",
       "      <th></th>\n",
       "      <th></th>\n",
       "      <th></th>\n",
       "      <th></th>\n",
       "      <th></th>\n",
       "      <th></th>\n",
       "      <th></th>\n",
       "      <th></th>\n",
       "      <th></th>\n",
       "      <th></th>\n",
       "      <th></th>\n",
       "      <th></th>\n",
       "    </tr>\n",
       "  </thead>\n",
       "  <tbody>\n",
       "    <tr>\n",
       "      <th>2015-03-31</th>\n",
       "      <td>81.945343</td>\n",
       "      <td>97.390610</td>\n",
       "      <td>34.281384</td>\n",
       "      <td>35.533504</td>\n",
       "      <td>67.267891</td>\n",
       "      <td>93.617088</td>\n",
       "      <td>104.539825</td>\n",
       "      <td>45.346844</td>\n",
       "      <td>45.074539</td>\n",
       "      <td>102.635757</td>\n",
       "      <td>47.938328</td>\n",
       "      <td>61.866901</td>\n",
       "      <td>98.075836</td>\n",
       "    </tr>\n",
       "    <tr>\n",
       "      <th>2015-04-01</th>\n",
       "      <td>81.688614</td>\n",
       "      <td>97.209015</td>\n",
       "      <td>34.522369</td>\n",
       "      <td>36.011684</td>\n",
       "      <td>67.089142</td>\n",
       "      <td>93.780373</td>\n",
       "      <td>104.539825</td>\n",
       "      <td>45.440422</td>\n",
       "      <td>45.074112</td>\n",
       "      <td>102.930870</td>\n",
       "      <td>47.952518</td>\n",
       "      <td>62.228790</td>\n",
       "      <td>98.126472</td>\n",
       "    </tr>\n",
       "    <tr>\n",
       "      <th>2015-04-02</th>\n",
       "      <td>81.971909</td>\n",
       "      <td>97.517754</td>\n",
       "      <td>34.780582</td>\n",
       "      <td>36.568111</td>\n",
       "      <td>67.401985</td>\n",
       "      <td>94.125061</td>\n",
       "      <td>104.530380</td>\n",
       "      <td>45.449783</td>\n",
       "      <td>44.968620</td>\n",
       "      <td>102.761749</td>\n",
       "      <td>47.863811</td>\n",
       "      <td>62.380577</td>\n",
       "      <td>97.975410</td>\n",
       "    </tr>\n",
       "    <tr>\n",
       "      <th>2015-04-06</th>\n",
       "      <td>82.627052</td>\n",
       "      <td>98.189728</td>\n",
       "      <td>35.116238</td>\n",
       "      <td>37.011520</td>\n",
       "      <td>67.884613</td>\n",
       "      <td>94.578575</td>\n",
       "      <td>104.539825</td>\n",
       "      <td>45.562069</td>\n",
       "      <td>45.034550</td>\n",
       "      <td>102.897026</td>\n",
       "      <td>47.961384</td>\n",
       "      <td>62.612198</td>\n",
       "      <td>97.966499</td>\n",
       "    </tr>\n",
       "    <tr>\n",
       "      <th>2015-04-07</th>\n",
       "      <td>82.361458</td>\n",
       "      <td>97.862808</td>\n",
       "      <td>35.116238</td>\n",
       "      <td>36.924583</td>\n",
       "      <td>67.446655</td>\n",
       "      <td>93.834793</td>\n",
       "      <td>104.539825</td>\n",
       "      <td>45.505928</td>\n",
       "      <td>45.069710</td>\n",
       "      <td>103.269104</td>\n",
       "      <td>47.925911</td>\n",
       "      <td>62.524330</td>\n",
       "      <td>98.082031</td>\n",
       "    </tr>\n",
       "  </tbody>\n",
       "</table>\n",
       "</div>"
      ],
      "text/plain": [
       "                  IVE        VTI        VEA        VWO        IWS        IWN  \\\n",
       "Date                                                                           \n",
       "2015-03-31  81.945343  97.390610  34.281384  35.533504  67.267891  93.617088   \n",
       "2015-04-01  81.688614  97.209015  34.522369  36.011684  67.089142  93.780373   \n",
       "2015-04-02  81.971909  97.517754  34.780582  36.568111  67.401985  94.125061   \n",
       "2015-04-06  82.627052  98.189728  35.116238  37.011520  67.884613  94.578575   \n",
       "2015-04-07  82.361458  97.862808  35.116238  36.924583  67.446655  93.834793   \n",
       "\n",
       "                   SHV       VTIP       IUSB         LQD       BNDX  \\\n",
       "Date                                                                  \n",
       "2015-03-31  104.539825  45.346844  45.074539  102.635757  47.938328   \n",
       "2015-04-01  104.539825  45.440422  45.074112  102.930870  47.952518   \n",
       "2015-04-02  104.530380  45.449783  44.968620  102.761749  47.863811   \n",
       "2015-04-06  104.539825  45.562069  45.034550  102.897026  47.961384   \n",
       "2015-04-07  104.539825  45.505928  45.069710  103.269104  47.925911   \n",
       "\n",
       "                 VWOB        MUB  \n",
       "Date                              \n",
       "2015-03-31  61.866901  98.075836  \n",
       "2015-04-01  62.228790  98.126472  \n",
       "2015-04-02  62.380577  97.975410  \n",
       "2015-04-06  62.612198  97.966499  \n",
       "2015-04-07  62.524330  98.082031  "
      ]
     },
     "execution_count": 56,
     "metadata": {},
     "output_type": "execute_result"
    }
   ],
   "source": [
    "data.head()"
   ]
  },
  {
   "cell_type": "markdown",
   "metadata": {},
   "source": [
    "#### 2. 計算各檔ETF的年化報酬及共變數矩陣"
   ]
  },
  {
   "cell_type": "code",
   "execution_count": 57,
   "metadata": {},
   "outputs": [
    {
     "data": {
      "text/html": [
       "<div>\n",
       "<style scoped>\n",
       "    .dataframe tbody tr th:only-of-type {\n",
       "        vertical-align: middle;\n",
       "    }\n",
       "\n",
       "    .dataframe tbody tr th {\n",
       "        vertical-align: top;\n",
       "    }\n",
       "\n",
       "    .dataframe thead th {\n",
       "        text-align: right;\n",
       "    }\n",
       "</style>\n",
       "<table border=\"1\" class=\"dataframe\">\n",
       "  <thead>\n",
       "    <tr style=\"text-align: right;\">\n",
       "      <th></th>\n",
       "      <th>IVE</th>\n",
       "      <th>VTI</th>\n",
       "      <th>VEA</th>\n",
       "      <th>VWO</th>\n",
       "      <th>IWS</th>\n",
       "      <th>IWN</th>\n",
       "      <th>SHV</th>\n",
       "      <th>VTIP</th>\n",
       "      <th>IUSB</th>\n",
       "      <th>LQD</th>\n",
       "      <th>BNDX</th>\n",
       "      <th>VWOB</th>\n",
       "      <th>MUB</th>\n",
       "    </tr>\n",
       "    <tr>\n",
       "      <th>Date</th>\n",
       "      <th></th>\n",
       "      <th></th>\n",
       "      <th></th>\n",
       "      <th></th>\n",
       "      <th></th>\n",
       "      <th></th>\n",
       "      <th></th>\n",
       "      <th></th>\n",
       "      <th></th>\n",
       "      <th></th>\n",
       "      <th></th>\n",
       "      <th></th>\n",
       "      <th></th>\n",
       "    </tr>\n",
       "  </thead>\n",
       "  <tbody>\n",
       "    <tr>\n",
       "      <th>2015-03-31</th>\n",
       "      <td>NaN</td>\n",
       "      <td>NaN</td>\n",
       "      <td>NaN</td>\n",
       "      <td>NaN</td>\n",
       "      <td>NaN</td>\n",
       "      <td>NaN</td>\n",
       "      <td>NaN</td>\n",
       "      <td>NaN</td>\n",
       "      <td>NaN</td>\n",
       "      <td>NaN</td>\n",
       "      <td>NaN</td>\n",
       "      <td>NaN</td>\n",
       "      <td>NaN</td>\n",
       "    </tr>\n",
       "    <tr>\n",
       "      <th>2015-04-01</th>\n",
       "      <td>-0.003138</td>\n",
       "      <td>-0.001866</td>\n",
       "      <td>0.007005</td>\n",
       "      <td>0.013367</td>\n",
       "      <td>-0.002661</td>\n",
       "      <td>0.001743</td>\n",
       "      <td>0.00000</td>\n",
       "      <td>0.002061</td>\n",
       "      <td>-0.000009</td>\n",
       "      <td>0.002871</td>\n",
       "      <td>0.000296</td>\n",
       "      <td>0.005832</td>\n",
       "      <td>0.000516</td>\n",
       "    </tr>\n",
       "    <tr>\n",
       "      <th>2015-04-02</th>\n",
       "      <td>0.003462</td>\n",
       "      <td>0.003171</td>\n",
       "      <td>0.007452</td>\n",
       "      <td>0.015333</td>\n",
       "      <td>0.004652</td>\n",
       "      <td>0.003669</td>\n",
       "      <td>-0.00009</td>\n",
       "      <td>0.000206</td>\n",
       "      <td>-0.002343</td>\n",
       "      <td>-0.001644</td>\n",
       "      <td>-0.001852</td>\n",
       "      <td>0.002436</td>\n",
       "      <td>-0.001541</td>\n",
       "    </tr>\n",
       "    <tr>\n",
       "      <th>2015-04-06</th>\n",
       "      <td>0.007961</td>\n",
       "      <td>0.006867</td>\n",
       "      <td>0.009604</td>\n",
       "      <td>0.012053</td>\n",
       "      <td>0.007135</td>\n",
       "      <td>0.004807</td>\n",
       "      <td>0.00009</td>\n",
       "      <td>0.002467</td>\n",
       "      <td>0.001465</td>\n",
       "      <td>0.001316</td>\n",
       "      <td>0.002036</td>\n",
       "      <td>0.003706</td>\n",
       "      <td>-0.000091</td>\n",
       "    </tr>\n",
       "    <tr>\n",
       "      <th>2015-04-07</th>\n",
       "      <td>-0.003220</td>\n",
       "      <td>-0.003335</td>\n",
       "      <td>0.000000</td>\n",
       "      <td>-0.002352</td>\n",
       "      <td>-0.006472</td>\n",
       "      <td>-0.007895</td>\n",
       "      <td>0.00000</td>\n",
       "      <td>-0.001233</td>\n",
       "      <td>0.000780</td>\n",
       "      <td>0.003610</td>\n",
       "      <td>-0.000740</td>\n",
       "      <td>-0.001404</td>\n",
       "      <td>0.001179</td>\n",
       "    </tr>\n",
       "  </tbody>\n",
       "</table>\n",
       "</div>"
      ],
      "text/plain": [
       "                 IVE       VTI       VEA       VWO       IWS       IWN  \\\n",
       "Date                                                                     \n",
       "2015-03-31       NaN       NaN       NaN       NaN       NaN       NaN   \n",
       "2015-04-01 -0.003138 -0.001866  0.007005  0.013367 -0.002661  0.001743   \n",
       "2015-04-02  0.003462  0.003171  0.007452  0.015333  0.004652  0.003669   \n",
       "2015-04-06  0.007961  0.006867  0.009604  0.012053  0.007135  0.004807   \n",
       "2015-04-07 -0.003220 -0.003335  0.000000 -0.002352 -0.006472 -0.007895   \n",
       "\n",
       "                SHV      VTIP      IUSB       LQD      BNDX      VWOB  \\\n",
       "Date                                                                    \n",
       "2015-03-31      NaN       NaN       NaN       NaN       NaN       NaN   \n",
       "2015-04-01  0.00000  0.002061 -0.000009  0.002871  0.000296  0.005832   \n",
       "2015-04-02 -0.00009  0.000206 -0.002343 -0.001644 -0.001852  0.002436   \n",
       "2015-04-06  0.00009  0.002467  0.001465  0.001316  0.002036  0.003706   \n",
       "2015-04-07  0.00000 -0.001233  0.000780  0.003610 -0.000740 -0.001404   \n",
       "\n",
       "                 MUB  \n",
       "Date                  \n",
       "2015-03-31       NaN  \n",
       "2015-04-01  0.000516  \n",
       "2015-04-02 -0.001541  \n",
       "2015-04-06 -0.000091  \n",
       "2015-04-07  0.001179  "
      ]
     },
     "execution_count": 57,
     "metadata": {},
     "output_type": "execute_result"
    }
   ],
   "source": [
    "returns = np.log(data / data.shift(1))\n",
    "returns.head()"
   ]
  },
  {
   "cell_type": "code",
   "execution_count": 58,
   "metadata": {},
   "outputs": [
    {
     "data": {
      "text/html": [
       "<div>\n",
       "<style scoped>\n",
       "    .dataframe tbody tr th:only-of-type {\n",
       "        vertical-align: middle;\n",
       "    }\n",
       "\n",
       "    .dataframe tbody tr th {\n",
       "        vertical-align: top;\n",
       "    }\n",
       "\n",
       "    .dataframe thead th {\n",
       "        text-align: right;\n",
       "    }\n",
       "</style>\n",
       "<table border=\"1\" class=\"dataframe\">\n",
       "  <thead>\n",
       "    <tr style=\"text-align: right;\">\n",
       "      <th></th>\n",
       "      <th>IVE</th>\n",
       "      <th>VTI</th>\n",
       "      <th>VEA</th>\n",
       "      <th>VWO</th>\n",
       "      <th>IWS</th>\n",
       "      <th>IWN</th>\n",
       "      <th>SHV</th>\n",
       "      <th>VTIP</th>\n",
       "      <th>IUSB</th>\n",
       "      <th>LQD</th>\n",
       "      <th>BNDX</th>\n",
       "      <th>VWOB</th>\n",
       "      <th>MUB</th>\n",
       "    </tr>\n",
       "  </thead>\n",
       "  <tbody>\n",
       "    <tr>\n",
       "      <th>IVE</th>\n",
       "      <td>0.034384</td>\n",
       "      <td>0.033800</td>\n",
       "      <td>0.030006</td>\n",
       "      <td>0.031854</td>\n",
       "      <td>0.035545</td>\n",
       "      <td>0.036663</td>\n",
       "      <td>-1.005686e-04</td>\n",
       "      <td>1.238925e-03</td>\n",
       "      <td>0.000149</td>\n",
       "      <td>0.002925</td>\n",
       "      <td>0.000337</td>\n",
       "      <td>0.009158</td>\n",
       "      <td>0.002799</td>\n",
       "    </tr>\n",
       "    <tr>\n",
       "      <th>VTI</th>\n",
       "      <td>0.033800</td>\n",
       "      <td>0.034735</td>\n",
       "      <td>0.030447</td>\n",
       "      <td>0.032802</td>\n",
       "      <td>0.035444</td>\n",
       "      <td>0.036848</td>\n",
       "      <td>-9.807228e-05</td>\n",
       "      <td>1.293283e-03</td>\n",
       "      <td>0.000334</td>\n",
       "      <td>0.003203</td>\n",
       "      <td>0.000475</td>\n",
       "      <td>0.009477</td>\n",
       "      <td>0.002863</td>\n",
       "    </tr>\n",
       "    <tr>\n",
       "      <th>VEA</th>\n",
       "      <td>0.030006</td>\n",
       "      <td>0.030447</td>\n",
       "      <td>0.033221</td>\n",
       "      <td>0.034872</td>\n",
       "      <td>0.031825</td>\n",
       "      <td>0.032796</td>\n",
       "      <td>-8.877202e-05</td>\n",
       "      <td>1.518380e-03</td>\n",
       "      <td>0.000684</td>\n",
       "      <td>0.003609</td>\n",
       "      <td>0.000532</td>\n",
       "      <td>0.010224</td>\n",
       "      <td>0.002957</td>\n",
       "    </tr>\n",
       "    <tr>\n",
       "      <th>VWO</th>\n",
       "      <td>0.031854</td>\n",
       "      <td>0.032802</td>\n",
       "      <td>0.034872</td>\n",
       "      <td>0.046634</td>\n",
       "      <td>0.033892</td>\n",
       "      <td>0.034761</td>\n",
       "      <td>-8.822639e-05</td>\n",
       "      <td>1.684246e-03</td>\n",
       "      <td>0.000577</td>\n",
       "      <td>0.003556</td>\n",
       "      <td>0.000698</td>\n",
       "      <td>0.011590</td>\n",
       "      <td>0.003078</td>\n",
       "    </tr>\n",
       "    <tr>\n",
       "      <th>IWS</th>\n",
       "      <td>0.035545</td>\n",
       "      <td>0.035444</td>\n",
       "      <td>0.031825</td>\n",
       "      <td>0.033892</td>\n",
       "      <td>0.039112</td>\n",
       "      <td>0.040628</td>\n",
       "      <td>-9.938893e-05</td>\n",
       "      <td>1.659534e-03</td>\n",
       "      <td>0.000669</td>\n",
       "      <td>0.004107</td>\n",
       "      <td>0.000794</td>\n",
       "      <td>0.011008</td>\n",
       "      <td>0.003704</td>\n",
       "    </tr>\n",
       "    <tr>\n",
       "      <th>IWN</th>\n",
       "      <td>0.036663</td>\n",
       "      <td>0.036848</td>\n",
       "      <td>0.032796</td>\n",
       "      <td>0.034761</td>\n",
       "      <td>0.040628</td>\n",
       "      <td>0.047052</td>\n",
       "      <td>-1.296813e-04</td>\n",
       "      <td>1.833309e-03</td>\n",
       "      <td>0.000377</td>\n",
       "      <td>0.003707</td>\n",
       "      <td>0.000528</td>\n",
       "      <td>0.011121</td>\n",
       "      <td>0.003488</td>\n",
       "    </tr>\n",
       "    <tr>\n",
       "      <th>SHV</th>\n",
       "      <td>-0.000101</td>\n",
       "      <td>-0.000098</td>\n",
       "      <td>-0.000089</td>\n",
       "      <td>-0.000088</td>\n",
       "      <td>-0.000099</td>\n",
       "      <td>-0.000130</td>\n",
       "      <td>6.382487e-06</td>\n",
       "      <td>6.036251e-07</td>\n",
       "      <td>0.000012</td>\n",
       "      <td>0.000011</td>\n",
       "      <td>0.000005</td>\n",
       "      <td>-0.000023</td>\n",
       "      <td>-0.000001</td>\n",
       "    </tr>\n",
       "    <tr>\n",
       "      <th>VTIP</th>\n",
       "      <td>0.001239</td>\n",
       "      <td>0.001293</td>\n",
       "      <td>0.001518</td>\n",
       "      <td>0.001684</td>\n",
       "      <td>0.001660</td>\n",
       "      <td>0.001833</td>\n",
       "      <td>6.036251e-07</td>\n",
       "      <td>7.230739e-04</td>\n",
       "      <td>0.000511</td>\n",
       "      <td>0.001047</td>\n",
       "      <td>0.000332</td>\n",
       "      <td>0.001452</td>\n",
       "      <td>0.000647</td>\n",
       "    </tr>\n",
       "    <tr>\n",
       "      <th>IUSB</th>\n",
       "      <td>0.000149</td>\n",
       "      <td>0.000334</td>\n",
       "      <td>0.000684</td>\n",
       "      <td>0.000577</td>\n",
       "      <td>0.000669</td>\n",
       "      <td>0.000377</td>\n",
       "      <td>1.216198e-05</td>\n",
       "      <td>5.110097e-04</td>\n",
       "      <td>0.001833</td>\n",
       "      <td>0.002890</td>\n",
       "      <td>0.000864</td>\n",
       "      <td>0.001903</td>\n",
       "      <td>0.001535</td>\n",
       "    </tr>\n",
       "    <tr>\n",
       "      <th>LQD</th>\n",
       "      <td>0.002925</td>\n",
       "      <td>0.003203</td>\n",
       "      <td>0.003609</td>\n",
       "      <td>0.003556</td>\n",
       "      <td>0.004107</td>\n",
       "      <td>0.003707</td>\n",
       "      <td>1.071956e-05</td>\n",
       "      <td>1.047361e-03</td>\n",
       "      <td>0.002890</td>\n",
       "      <td>0.007188</td>\n",
       "      <td>0.001510</td>\n",
       "      <td>0.004476</td>\n",
       "      <td>0.003324</td>\n",
       "    </tr>\n",
       "    <tr>\n",
       "      <th>BNDX</th>\n",
       "      <td>0.000337</td>\n",
       "      <td>0.000475</td>\n",
       "      <td>0.000532</td>\n",
       "      <td>0.000698</td>\n",
       "      <td>0.000794</td>\n",
       "      <td>0.000528</td>\n",
       "      <td>4.890099e-06</td>\n",
       "      <td>3.323503e-04</td>\n",
       "      <td>0.000864</td>\n",
       "      <td>0.001510</td>\n",
       "      <td>0.001062</td>\n",
       "      <td>0.001245</td>\n",
       "      <td>0.001028</td>\n",
       "    </tr>\n",
       "    <tr>\n",
       "      <th>VWOB</th>\n",
       "      <td>0.009158</td>\n",
       "      <td>0.009477</td>\n",
       "      <td>0.010224</td>\n",
       "      <td>0.011590</td>\n",
       "      <td>0.011008</td>\n",
       "      <td>0.011121</td>\n",
       "      <td>-2.261659e-05</td>\n",
       "      <td>1.451618e-03</td>\n",
       "      <td>0.001903</td>\n",
       "      <td>0.004476</td>\n",
       "      <td>0.001245</td>\n",
       "      <td>0.008243</td>\n",
       "      <td>0.003003</td>\n",
       "    </tr>\n",
       "    <tr>\n",
       "      <th>MUB</th>\n",
       "      <td>0.002799</td>\n",
       "      <td>0.002863</td>\n",
       "      <td>0.002957</td>\n",
       "      <td>0.003078</td>\n",
       "      <td>0.003704</td>\n",
       "      <td>0.003488</td>\n",
       "      <td>-1.049899e-06</td>\n",
       "      <td>6.470906e-04</td>\n",
       "      <td>0.001535</td>\n",
       "      <td>0.003324</td>\n",
       "      <td>0.001028</td>\n",
       "      <td>0.003003</td>\n",
       "      <td>0.003222</td>\n",
       "    </tr>\n",
       "  </tbody>\n",
       "</table>\n",
       "</div>"
      ],
      "text/plain": [
       "           IVE       VTI       VEA       VWO       IWS       IWN  \\\n",
       "IVE   0.034384  0.033800  0.030006  0.031854  0.035545  0.036663   \n",
       "VTI   0.033800  0.034735  0.030447  0.032802  0.035444  0.036848   \n",
       "VEA   0.030006  0.030447  0.033221  0.034872  0.031825  0.032796   \n",
       "VWO   0.031854  0.032802  0.034872  0.046634  0.033892  0.034761   \n",
       "IWS   0.035545  0.035444  0.031825  0.033892  0.039112  0.040628   \n",
       "IWN   0.036663  0.036848  0.032796  0.034761  0.040628  0.047052   \n",
       "SHV  -0.000101 -0.000098 -0.000089 -0.000088 -0.000099 -0.000130   \n",
       "VTIP  0.001239  0.001293  0.001518  0.001684  0.001660  0.001833   \n",
       "IUSB  0.000149  0.000334  0.000684  0.000577  0.000669  0.000377   \n",
       "LQD   0.002925  0.003203  0.003609  0.003556  0.004107  0.003707   \n",
       "BNDX  0.000337  0.000475  0.000532  0.000698  0.000794  0.000528   \n",
       "VWOB  0.009158  0.009477  0.010224  0.011590  0.011008  0.011121   \n",
       "MUB   0.002799  0.002863  0.002957  0.003078  0.003704  0.003488   \n",
       "\n",
       "               SHV          VTIP      IUSB       LQD      BNDX      VWOB  \\\n",
       "IVE  -1.005686e-04  1.238925e-03  0.000149  0.002925  0.000337  0.009158   \n",
       "VTI  -9.807228e-05  1.293283e-03  0.000334  0.003203  0.000475  0.009477   \n",
       "VEA  -8.877202e-05  1.518380e-03  0.000684  0.003609  0.000532  0.010224   \n",
       "VWO  -8.822639e-05  1.684246e-03  0.000577  0.003556  0.000698  0.011590   \n",
       "IWS  -9.938893e-05  1.659534e-03  0.000669  0.004107  0.000794  0.011008   \n",
       "IWN  -1.296813e-04  1.833309e-03  0.000377  0.003707  0.000528  0.011121   \n",
       "SHV   6.382487e-06  6.036251e-07  0.000012  0.000011  0.000005 -0.000023   \n",
       "VTIP  6.036251e-07  7.230739e-04  0.000511  0.001047  0.000332  0.001452   \n",
       "IUSB  1.216198e-05  5.110097e-04  0.001833  0.002890  0.000864  0.001903   \n",
       "LQD   1.071956e-05  1.047361e-03  0.002890  0.007188  0.001510  0.004476   \n",
       "BNDX  4.890099e-06  3.323503e-04  0.000864  0.001510  0.001062  0.001245   \n",
       "VWOB -2.261659e-05  1.451618e-03  0.001903  0.004476  0.001245  0.008243   \n",
       "MUB  -1.049899e-06  6.470906e-04  0.001535  0.003324  0.001028  0.003003   \n",
       "\n",
       "           MUB  \n",
       "IVE   0.002799  \n",
       "VTI   0.002863  \n",
       "VEA   0.002957  \n",
       "VWO   0.003078  \n",
       "IWS   0.003704  \n",
       "IWN   0.003488  \n",
       "SHV  -0.000001  \n",
       "VTIP  0.000647  \n",
       "IUSB  0.001535  \n",
       "LQD   0.003324  \n",
       "BNDX  0.001028  \n",
       "VWOB  0.003003  \n",
       "MUB   0.003222  "
      ]
     },
     "execution_count": 58,
     "metadata": {},
     "output_type": "execute_result"
    }
   ],
   "source": [
    "returns.cov()*252"
   ]
  },
  {
   "cell_type": "markdown",
   "metadata": {},
   "source": [
    "- 觀察各資產的年化報酬，可取其最大值與最小值作為後續繪製效率前緣時作為投資組合的報酬範圍。"
   ]
  },
  {
   "cell_type": "code",
   "execution_count": 59,
   "metadata": {},
   "outputs": [
    {
     "data": {
      "text/plain": [
       "IVE     0.049968\n",
       "VTI     0.074776\n",
       "VEA     0.004803\n",
       "VWO     0.000650\n",
       "IWS     0.010451\n",
       "IWN    -0.013180\n",
       "SHV     0.011756\n",
       "VTIP    0.017937\n",
       "IUSB    0.033424\n",
       "LQD     0.046834\n",
       "BNDX    0.032693\n",
       "VWOB    0.032177\n",
       "MUB     0.028572\n",
       "dtype: float64"
      ]
     },
     "execution_count": 59,
     "metadata": {},
     "output_type": "execute_result"
    }
   ],
   "source": [
    "annual_returns = returns.mean()*252\n",
    "annual_returns"
   ]
  },
  {
   "cell_type": "markdown",
   "metadata": {},
   "source": [
    "#### 3. 隨機分配資產初始權重"
   ]
  },
  {
   "cell_type": "code",
   "execution_count": 60,
   "metadata": {},
   "outputs": [
    {
     "data": {
      "text/plain": [
       "array([0.05095909, 0.09816867, 0.06253169, 0.03924323, 0.11905002,\n",
       "       0.05751384, 0.02665369, 0.1191771 , 0.09682502, 0.11258347,\n",
       "       0.05537615, 0.07146053, 0.0904575 ])"
      ]
     },
     "execution_count": 60,
     "metadata": {},
     "output_type": "execute_result"
    }
   ],
   "source": [
    "weights = np.random.random(q)\n",
    "weights /= np.sum(weights)\n",
    "weights"
   ]
  },
  {
   "cell_type": "markdown",
   "metadata": {},
   "source": [
    "#### 4. 計算預期組合年化Return、Var、std"
   ]
  },
  {
   "cell_type": "code",
   "execution_count": 61,
   "metadata": {},
   "outputs": [
    {
     "data": {
      "text/plain": [
       "0.028353374323177055"
      ]
     },
     "execution_count": 61,
     "metadata": {},
     "output_type": "execute_result"
    }
   ],
   "source": [
    "np.sum(returns.mean()*weights)*252"
   ]
  },
  {
   "cell_type": "code",
   "execution_count": 62,
   "metadata": {},
   "outputs": [
    {
     "data": {
      "text/plain": [
       "0.00848577118596146"
      ]
     },
     "execution_count": 62,
     "metadata": {},
     "output_type": "execute_result"
    }
   ],
   "source": [
    "np.dot(weights.T, np.dot(returns.cov()*252, weights))"
   ]
  },
  {
   "cell_type": "code",
   "execution_count": 63,
   "metadata": {},
   "outputs": [
    {
     "data": {
      "text/plain": [
       "0.09211824567349"
      ]
     },
     "execution_count": 63,
     "metadata": {},
     "output_type": "execute_result"
    }
   ],
   "source": [
    "np.sqrt(np.dot(weights.T, np.dot(returns.cov()*252, weights)))"
   ]
  },
  {
   "cell_type": "markdown",
   "metadata": {},
   "source": [
    "#### 5. 模擬隨機組合（略）"
   ]
  },
  {
   "cell_type": "markdown",
   "metadata": {},
   "source": [
    "#### 6. 投資組合優化_1（Tangency Portfolio）"
   ]
  },
  {
   "cell_type": "code",
   "execution_count": 64,
   "metadata": {},
   "outputs": [],
   "source": [
    "def statistics(weights):\n",
    "    weights = np.array(weights)\n",
    "    port_return = np.sum(returns.mean()*weights)*252\n",
    "    port_variance = np.sqrt(np.dot(weights.T, np.dot(returns.cov()*252, weights)))\n",
    "    return np.array([port_return, port_variance, port_return/port_variance])"
   ]
  },
  {
   "cell_type": "code",
   "execution_count": 65,
   "metadata": {},
   "outputs": [
    {
     "data": {
      "text/plain": [
       "     fun: -4.896732760119008\n",
       "     jac: array([ 4.23208767e+00, -8.70132446e-03,  2.33279395e+01,  3.36691039e+01,\n",
       "        2.94694968e+01,  1.76847557e+01,  1.07824802e-04, -2.14612484e-03,\n",
       "        3.65032071e+00,  1.06383173e+01, -7.82430172e-03,  7.36328924e+00,\n",
       "        4.02295816e+00])\n",
       " message: 'Optimization terminated successfully.'\n",
       "    nfev: 219\n",
       "     nit: 14\n",
       "    njev: 14\n",
       "  status: 0\n",
       " success: True\n",
       "       x: array([1.73684582e-09, 3.71888161e-03, 2.09982862e-09, 2.23746896e-09,\n",
       "       2.26055057e-09, 2.29912965e-09, 9.86211211e-01, 9.27453546e-04,\n",
       "       7.14059962e-10, 1.01681361e-08, 9.14243723e-03, 0.00000000e+00,\n",
       "       0.00000000e+00])"
      ]
     },
     "execution_count": 65,
     "metadata": {},
     "output_type": "execute_result"
    }
   ],
   "source": [
    "# 最小化Sharpe的負值\n",
    "def min_sharpe(weights):\n",
    "    return -statistics(weights)[2]\n",
    "\n",
    "# 限制權重總和為1\n",
    "cons = ({'type': 'eq', 'fun': lambda x: np.sum(x) - 1})\n",
    "# 限制權重範圍在0和1之間\n",
    "bnds = tuple((0,1) for x in range(q))\n",
    "# 優化起始參數值(x0)\n",
    "opts = sco.minimize(min_sharpe, q*[1./q,], method='SLSQP', bounds=bnds, constraints=cons)\n",
    "\n",
    "opts"
   ]
  },
  {
   "cell_type": "code",
   "execution_count": 66,
   "metadata": {},
   "outputs": [
    {
     "data": {
      "text/plain": [
       "array([0.   , 0.004, 0.   , 0.   , 0.   , 0.   , 0.986, 0.001, 0.   ,\n",
       "       0.   , 0.009, 0.   , 0.   ])"
      ]
     },
     "execution_count": 66,
     "metadata": {},
     "output_type": "execute_result"
    }
   ],
   "source": [
    "# 最優組合的權重向量\n",
    "opts['x'].round(3)"
   ]
  },
  {
   "cell_type": "code",
   "execution_count": 67,
   "metadata": {},
   "outputs": [
    {
     "data": {
      "text/plain": [
       "array([1.22022573e-02, 2.49247506e-03, 4.89563869e+00])"
      ]
     },
     "execution_count": 67,
     "metadata": {},
     "output_type": "execute_result"
    }
   ],
   "source": [
    "#Tangency portfolio 的預期收益率、預期波動率、最大Sharpe\n",
    "statistics(opts['x'].round(3))"
   ]
  },
  {
   "cell_type": "markdown",
   "metadata": {},
   "source": [
    "#### 7. 投資組合優化_2（Minimum Variance Portfolio)"
   ]
  },
  {
   "cell_type": "code",
   "execution_count": 68,
   "metadata": {},
   "outputs": [
    {
     "data": {
      "text/plain": [
       "     fun: 0.0024477061712190845\n",
       "     jac: array([0.00323655, 0.00452204, 0.00379204, 0.00647772, 0.00877384,\n",
       "       0.00415001, 0.00244191, 0.00311705, 0.00589627, 0.00974306,\n",
       "       0.00293925, 0.00527256, 0.00430189])\n",
       " message: 'Optimization terminated successfully.'\n",
       "    nfev: 197\n",
       "     nit: 13\n",
       "    njev: 13\n",
       "  status: 0\n",
       " success: True\n",
       "       x: array([9.32818401e-19, 3.07628370e-18, 1.77847451e-19, 1.64180727e-18,\n",
       "       0.00000000e+00, 2.84989543e-03, 9.97150105e-01, 0.00000000e+00,\n",
       "       1.31952475e-17, 0.00000000e+00, 0.00000000e+00, 0.00000000e+00,\n",
       "       2.40961529e-18])"
      ]
     },
     "execution_count": 68,
     "metadata": {},
     "output_type": "execute_result"
    }
   ],
   "source": [
    "def min_variance(weights):\n",
    "    return statistics(weights)[1]\n",
    "\n",
    "optv = sco.minimize(min_variance, q*[1./q,], method='SLSQP',bounds=bnds, constraints=cons)\n",
    "\n",
    "optv"
   ]
  },
  {
   "cell_type": "code",
   "execution_count": 69,
   "metadata": {},
   "outputs": [
    {
     "data": {
      "text/plain": [
       "array([1.200e-02, 2.000e-03, 4.774e+00])"
      ]
     },
     "execution_count": 69,
     "metadata": {},
     "output_type": "execute_result"
    }
   ],
   "source": [
    "# MVP 的預期收益率、預期波動率、最大Sharpe\n",
    "statistics(optv['x']).round(3)"
   ]
  },
  {
   "cell_type": "markdown",
   "metadata": {},
   "source": [
    "#### 8. 投資組合的有效前緣"
   ]
  },
  {
   "cell_type": "code",
   "execution_count": 70,
   "metadata": {},
   "outputs": [],
   "source": [
    "def min_variance(weights):\n",
    "    return statistics(weights)[1]\n",
    "\n",
    "# 在不同目標收益率(target_returns)水平循環時，最小化的約束條件會變化\n",
    "target_returns = np.linspace(statistics(optv['x'])[0], annual_returns.max(), 50)\n",
    "target_variance = []\n",
    "\n",
    "for tar in target_returns:\n",
    "    cons = ({'type':'eq', 'fun': lambda x: statistics(x)[0]-tar},\n",
    "           {'type':'eq', 'fun': lambda x: np.sum(x) - 1})\n",
    "    res = sco.minimize(min_variance, q*[1./q,], method='SLSQP', bounds=bnds, constraints=cons)\n",
    "    target_variance.append(res['fun'])\n",
    "\n",
    "target_variance = np.array(target_variance)"
   ]
  },
  {
   "cell_type": "code",
   "execution_count": 71,
   "metadata": {},
   "outputs": [
    {
     "data": {
      "text/plain": [
       "<matplotlib.colorbar.Colorbar at 0x1c2447cac8>"
      ]
     },
     "execution_count": 71,
     "metadata": {},
     "output_type": "execute_result"
    },
    {
     "data": {
      "image/png": "[encoded data removed]",
      "text/plain": [
       "<Figure size 864x576 with 2 Axes>"
      ]
     },
     "metadata": {
      "needs_background": "light"
     },
     "output_type": "display_data"
    }
   ],
   "source": [
    "plt.figure(figsize=(12,8))\n",
    "#圈圈：模擬點\n",
    "#plt.scatter(port_variance, port_returns, c=port_returns/port_variance, marker='o')\n",
    "# 叉號：有效前緣\n",
    "plt.scatter(target_variance, target_returns, c=target_returns/target_variance, marker='x', label='Efficient Frontier')\n",
    "#紅星：最高Sharpe\n",
    "plt.plot(statistics(opts['x'])[1],statistics(opts['x'])[0],'r*', markersize=15.0, label='Tangency Portfolio')\n",
    "#黃星：MVP\n",
    "plt.plot(statistics(optv['x'])[1],statistics(optv['x'])[0],'y*', markersize=15.0, label='Minimum Variance Portfolio')\n",
    "\n",
    "plt.grid(True)\n",
    "plt.xlabel('expected volatility')\n",
    "plt.ylabel('expected return')\n",
    "plt.legend(loc='upper left', fontsize=12)\n",
    "plt.colorbar(label='Sharpe ratio')\n",
    "plt.title(\"Betterment's Efficient Frontier\")\n",
    "plt.show()"
   ]
  },
  {
   "cell_type": "markdown",
   "metadata": {},
   "source": [
    "- 匯出效率前緣上的點資料（存成csv）"
   ]
  },
  {
   "cell_type": "code",
   "execution_count": 42,
   "metadata": {},
   "outputs": [],
   "source": [
    "ret_var = np.vstack((target_returns,target_variance))\n",
    "np.savetxt(\"Betterment.csv\", ret_var, delimiter=\",\")"
   ]
  },
  {
   "cell_type": "markdown",
   "metadata": {},
   "source": [
    "#### 9. 加入新一檔ETF"
   ]
  },
  {
   "cell_type": "markdown",
   "metadata": {},
   "source": [
    "- try: VUG, IVW, IUSG, VOT, SCHG, IJK\n",
    "- fail: VOT, IJK\n",
    "- success: SCHG, VUG, IUSG(better)"
   ]
  },
  {
   "cell_type": "code",
   "execution_count": 194,
   "metadata": {},
   "outputs": [
    {
     "data": {
      "text/html": [
       "<div>\n",
       "<style scoped>\n",
       "    .dataframe tbody tr th:only-of-type {\n",
       "        vertical-align: middle;\n",
       "    }\n",
       "\n",
       "    .dataframe tbody tr th {\n",
       "        vertical-align: top;\n",
       "    }\n",
       "\n",
       "    .dataframe thead th {\n",
       "        text-align: right;\n",
       "    }\n",
       "</style>\n",
       "<table border=\"1\" class=\"dataframe\">\n",
       "  <thead>\n",
       "    <tr style=\"text-align: right;\">\n",
       "      <th></th>\n",
       "      <th>IVE</th>\n",
       "      <th>VTI</th>\n",
       "      <th>VEA</th>\n",
       "      <th>VWO</th>\n",
       "      <th>IWS</th>\n",
       "      <th>IWN</th>\n",
       "      <th>SHV</th>\n",
       "      <th>VTIP</th>\n",
       "      <th>IUSB</th>\n",
       "      <th>LQD</th>\n",
       "      <th>BNDX</th>\n",
       "      <th>VWOB</th>\n",
       "      <th>MUB</th>\n",
       "      <th>QQQ</th>\n",
       "    </tr>\n",
       "    <tr>\n",
       "      <th>Date</th>\n",
       "      <th></th>\n",
       "      <th></th>\n",
       "      <th></th>\n",
       "      <th></th>\n",
       "      <th></th>\n",
       "      <th></th>\n",
       "      <th></th>\n",
       "      <th></th>\n",
       "      <th></th>\n",
       "      <th></th>\n",
       "      <th></th>\n",
       "      <th></th>\n",
       "      <th></th>\n",
       "      <th></th>\n",
       "    </tr>\n",
       "  </thead>\n",
       "  <tbody>\n",
       "    <tr>\n",
       "      <th>2015-03-31</th>\n",
       "      <td>81.945343</td>\n",
       "      <td>97.390610</td>\n",
       "      <td>34.281384</td>\n",
       "      <td>35.533504</td>\n",
       "      <td>67.267891</td>\n",
       "      <td>93.617088</td>\n",
       "      <td>104.539825</td>\n",
       "      <td>45.346844</td>\n",
       "      <td>45.074539</td>\n",
       "      <td>102.635757</td>\n",
       "      <td>47.938328</td>\n",
       "      <td>61.866901</td>\n",
       "      <td>98.075836</td>\n",
       "      <td>100.784111</td>\n",
       "    </tr>\n",
       "    <tr>\n",
       "      <th>2015-04-01</th>\n",
       "      <td>81.688614</td>\n",
       "      <td>97.209015</td>\n",
       "      <td>34.522369</td>\n",
       "      <td>36.011684</td>\n",
       "      <td>67.089142</td>\n",
       "      <td>93.780373</td>\n",
       "      <td>104.539825</td>\n",
       "      <td>45.440422</td>\n",
       "      <td>45.074112</td>\n",
       "      <td>102.930870</td>\n",
       "      <td>47.952518</td>\n",
       "      <td>62.228790</td>\n",
       "      <td>98.126472</td>\n",
       "      <td>100.259209</td>\n",
       "    </tr>\n",
       "    <tr>\n",
       "      <th>2015-04-02</th>\n",
       "      <td>81.971909</td>\n",
       "      <td>97.517754</td>\n",
       "      <td>34.780582</td>\n",
       "      <td>36.568111</td>\n",
       "      <td>67.401985</td>\n",
       "      <td>94.125061</td>\n",
       "      <td>104.530380</td>\n",
       "      <td>45.449783</td>\n",
       "      <td>44.968620</td>\n",
       "      <td>102.761749</td>\n",
       "      <td>47.863811</td>\n",
       "      <td>62.380577</td>\n",
       "      <td>97.975410</td>\n",
       "      <td>100.326019</td>\n",
       "    </tr>\n",
       "    <tr>\n",
       "      <th>2015-04-06</th>\n",
       "      <td>82.627052</td>\n",
       "      <td>98.189728</td>\n",
       "      <td>35.116238</td>\n",
       "      <td>37.011520</td>\n",
       "      <td>67.884613</td>\n",
       "      <td>94.578575</td>\n",
       "      <td>104.539825</td>\n",
       "      <td>45.562069</td>\n",
       "      <td>45.034550</td>\n",
       "      <td>102.897026</td>\n",
       "      <td>47.961384</td>\n",
       "      <td>62.612198</td>\n",
       "      <td>97.966499</td>\n",
       "      <td>101.146805</td>\n",
       "    </tr>\n",
       "    <tr>\n",
       "      <th>2015-04-07</th>\n",
       "      <td>82.361458</td>\n",
       "      <td>97.862808</td>\n",
       "      <td>35.116238</td>\n",
       "      <td>36.924583</td>\n",
       "      <td>67.446655</td>\n",
       "      <td>93.834793</td>\n",
       "      <td>104.539825</td>\n",
       "      <td>45.505928</td>\n",
       "      <td>45.069710</td>\n",
       "      <td>103.269104</td>\n",
       "      <td>47.925911</td>\n",
       "      <td>62.524330</td>\n",
       "      <td>98.082031</td>\n",
       "      <td>100.975021</td>\n",
       "    </tr>\n",
       "  </tbody>\n",
       "</table>\n",
       "</div>"
      ],
      "text/plain": [
       "                  IVE        VTI        VEA        VWO        IWS        IWN  \\\n",
       "Date                                                                           \n",
       "2015-03-31  81.945343  97.390610  34.281384  35.533504  67.267891  93.617088   \n",
       "2015-04-01  81.688614  97.209015  34.522369  36.011684  67.089142  93.780373   \n",
       "2015-04-02  81.971909  97.517754  34.780582  36.568111  67.401985  94.125061   \n",
       "2015-04-06  82.627052  98.189728  35.116238  37.011520  67.884613  94.578575   \n",
       "2015-04-07  82.361458  97.862808  35.116238  36.924583  67.446655  93.834793   \n",
       "\n",
       "                   SHV       VTIP       IUSB         LQD       BNDX  \\\n",
       "Date                                                                  \n",
       "2015-03-31  104.539825  45.346844  45.074539  102.635757  47.938328   \n",
       "2015-04-01  104.539825  45.440422  45.074112  102.930870  47.952518   \n",
       "2015-04-02  104.530380  45.449783  44.968620  102.761749  47.863811   \n",
       "2015-04-06  104.539825  45.562069  45.034550  102.897026  47.961384   \n",
       "2015-04-07  104.539825  45.505928  45.069710  103.269104  47.925911   \n",
       "\n",
       "                 VWOB        MUB         QQQ  \n",
       "Date                                          \n",
       "2015-03-31  61.866901  98.075836  100.784111  \n",
       "2015-04-01  62.228790  98.126472  100.259209  \n",
       "2015-04-02  62.380577  97.975410  100.326019  \n",
       "2015-04-06  62.612198  97.966499  101.146805  \n",
       "2015-04-07  62.524330  98.082031  100.975021  "
      ]
     },
     "execution_count": 194,
     "metadata": {},
     "output_type": "execute_result"
    }
   ],
   "source": [
    "add_etf = web.DataReader('QQQ', 'yahoo', '4/1/2015', datetime.date.today())\n",
    "data['QQQ'] = add_etf['Adj Close']\n",
    "new_q = len(data.columns)\n",
    "\n",
    "data.head()"
   ]
  },
  {
   "cell_type": "code",
   "execution_count": 195,
   "metadata": {},
   "outputs": [
    {
     "data": {
      "text/html": [
       "<div>\n",
       "<style scoped>\n",
       "    .dataframe tbody tr th:only-of-type {\n",
       "        vertical-align: middle;\n",
       "    }\n",
       "\n",
       "    .dataframe tbody tr th {\n",
       "        vertical-align: top;\n",
       "    }\n",
       "\n",
       "    .dataframe thead th {\n",
       "        text-align: right;\n",
       "    }\n",
       "</style>\n",
       "<table border=\"1\" class=\"dataframe\">\n",
       "  <thead>\n",
       "    <tr style=\"text-align: right;\">\n",
       "      <th></th>\n",
       "      <th>IVE</th>\n",
       "      <th>VTI</th>\n",
       "      <th>VEA</th>\n",
       "      <th>VWO</th>\n",
       "      <th>IWS</th>\n",
       "      <th>IWN</th>\n",
       "      <th>SHV</th>\n",
       "      <th>VTIP</th>\n",
       "      <th>IUSB</th>\n",
       "      <th>LQD</th>\n",
       "      <th>BNDX</th>\n",
       "      <th>VWOB</th>\n",
       "      <th>MUB</th>\n",
       "      <th>QQQ</th>\n",
       "    </tr>\n",
       "    <tr>\n",
       "      <th>Date</th>\n",
       "      <th></th>\n",
       "      <th></th>\n",
       "      <th></th>\n",
       "      <th></th>\n",
       "      <th></th>\n",
       "      <th></th>\n",
       "      <th></th>\n",
       "      <th></th>\n",
       "      <th></th>\n",
       "      <th></th>\n",
       "      <th></th>\n",
       "      <th></th>\n",
       "      <th></th>\n",
       "      <th></th>\n",
       "    </tr>\n",
       "  </thead>\n",
       "  <tbody>\n",
       "    <tr>\n",
       "      <th>2015-03-31</th>\n",
       "      <td>NaN</td>\n",
       "      <td>NaN</td>\n",
       "      <td>NaN</td>\n",
       "      <td>NaN</td>\n",
       "      <td>NaN</td>\n",
       "      <td>NaN</td>\n",
       "      <td>NaN</td>\n",
       "      <td>NaN</td>\n",
       "      <td>NaN</td>\n",
       "      <td>NaN</td>\n",
       "      <td>NaN</td>\n",
       "      <td>NaN</td>\n",
       "      <td>NaN</td>\n",
       "      <td>NaN</td>\n",
       "    </tr>\n",
       "    <tr>\n",
       "      <th>2015-04-01</th>\n",
       "      <td>-0.003138</td>\n",
       "      <td>-0.001866</td>\n",
       "      <td>0.007005</td>\n",
       "      <td>0.013367</td>\n",
       "      <td>-0.002661</td>\n",
       "      <td>0.001743</td>\n",
       "      <td>0.00000</td>\n",
       "      <td>0.002061</td>\n",
       "      <td>-0.000009</td>\n",
       "      <td>0.002871</td>\n",
       "      <td>0.000296</td>\n",
       "      <td>0.005832</td>\n",
       "      <td>0.000516</td>\n",
       "      <td>-0.005222</td>\n",
       "    </tr>\n",
       "    <tr>\n",
       "      <th>2015-04-02</th>\n",
       "      <td>0.003462</td>\n",
       "      <td>0.003171</td>\n",
       "      <td>0.007452</td>\n",
       "      <td>0.015333</td>\n",
       "      <td>0.004652</td>\n",
       "      <td>0.003669</td>\n",
       "      <td>-0.00009</td>\n",
       "      <td>0.000206</td>\n",
       "      <td>-0.002343</td>\n",
       "      <td>-0.001644</td>\n",
       "      <td>-0.001852</td>\n",
       "      <td>0.002436</td>\n",
       "      <td>-0.001541</td>\n",
       "      <td>0.000666</td>\n",
       "    </tr>\n",
       "    <tr>\n",
       "      <th>2015-04-06</th>\n",
       "      <td>0.007961</td>\n",
       "      <td>0.006867</td>\n",
       "      <td>0.009604</td>\n",
       "      <td>0.012053</td>\n",
       "      <td>0.007135</td>\n",
       "      <td>0.004807</td>\n",
       "      <td>0.00009</td>\n",
       "      <td>0.002467</td>\n",
       "      <td>0.001465</td>\n",
       "      <td>0.001316</td>\n",
       "      <td>0.002036</td>\n",
       "      <td>0.003706</td>\n",
       "      <td>-0.000091</td>\n",
       "      <td>0.008148</td>\n",
       "    </tr>\n",
       "    <tr>\n",
       "      <th>2015-04-07</th>\n",
       "      <td>-0.003220</td>\n",
       "      <td>-0.003335</td>\n",
       "      <td>0.000000</td>\n",
       "      <td>-0.002352</td>\n",
       "      <td>-0.006472</td>\n",
       "      <td>-0.007895</td>\n",
       "      <td>0.00000</td>\n",
       "      <td>-0.001233</td>\n",
       "      <td>0.000780</td>\n",
       "      <td>0.003610</td>\n",
       "      <td>-0.000740</td>\n",
       "      <td>-0.001404</td>\n",
       "      <td>0.001179</td>\n",
       "      <td>-0.001700</td>\n",
       "    </tr>\n",
       "  </tbody>\n",
       "</table>\n",
       "</div>"
      ],
      "text/plain": [
       "                 IVE       VTI       VEA       VWO       IWS       IWN  \\\n",
       "Date                                                                     \n",
       "2015-03-31       NaN       NaN       NaN       NaN       NaN       NaN   \n",
       "2015-04-01 -0.003138 -0.001866  0.007005  0.013367 -0.002661  0.001743   \n",
       "2015-04-02  0.003462  0.003171  0.007452  0.015333  0.004652  0.003669   \n",
       "2015-04-06  0.007961  0.006867  0.009604  0.012053  0.007135  0.004807   \n",
       "2015-04-07 -0.003220 -0.003335  0.000000 -0.002352 -0.006472 -0.007895   \n",
       "\n",
       "                SHV      VTIP      IUSB       LQD      BNDX      VWOB  \\\n",
       "Date                                                                    \n",
       "2015-03-31      NaN       NaN       NaN       NaN       NaN       NaN   \n",
       "2015-04-01  0.00000  0.002061 -0.000009  0.002871  0.000296  0.005832   \n",
       "2015-04-02 -0.00009  0.000206 -0.002343 -0.001644 -0.001852  0.002436   \n",
       "2015-04-06  0.00009  0.002467  0.001465  0.001316  0.002036  0.003706   \n",
       "2015-04-07  0.00000 -0.001233  0.000780  0.003610 -0.000740 -0.001404   \n",
       "\n",
       "                 MUB       QQQ  \n",
       "Date                            \n",
       "2015-03-31       NaN       NaN  \n",
       "2015-04-01  0.000516 -0.005222  \n",
       "2015-04-02 -0.001541  0.000666  \n",
       "2015-04-06 -0.000091  0.008148  \n",
       "2015-04-07  0.001179 -0.001700  "
      ]
     },
     "execution_count": 195,
     "metadata": {},
     "output_type": "execute_result"
    }
   ],
   "source": [
    "new_returns = np.log(data / data.shift(1))\n",
    "new_returns.head()"
   ]
  },
  {
   "cell_type": "code",
   "execution_count": 196,
   "metadata": {},
   "outputs": [
    {
     "data": {
      "text/plain": [
       "IVE     0.049968\n",
       "VTI     0.074776\n",
       "VEA     0.004803\n",
       "VWO     0.000650\n",
       "IWS     0.010451\n",
       "IWN    -0.013180\n",
       "SHV     0.011756\n",
       "VTIP    0.017937\n",
       "IUSB    0.033424\n",
       "LQD     0.046834\n",
       "BNDX    0.032693\n",
       "VWOB    0.032177\n",
       "MUB     0.028572\n",
       "QQQ     0.147652\n",
       "dtype: float64"
      ]
     },
     "execution_count": 196,
     "metadata": {},
     "output_type": "execute_result"
    }
   ],
   "source": [
    "new_annual_returns = new_returns.mean()*252\n",
    "new_annual_returns"
   ]
  },
  {
   "cell_type": "code",
   "execution_count": 197,
   "metadata": {},
   "outputs": [
    {
     "data": {
      "text/plain": [
       "array([0.00418884, 0.02518302, 0.16144574, 0.00941176, 0.04130531,\n",
       "       0.17853741, 0.02768637, 0.12374901, 0.10592882, 0.14680556,\n",
       "       0.02798031, 0.00108642, 0.02060241, 0.12608903])"
      ]
     },
     "execution_count": 197,
     "metadata": {},
     "output_type": "execute_result"
    }
   ],
   "source": [
    "new_weights = np.random.random(new_q)\n",
    "new_weights /= np.sum(new_weights)\n",
    "new_weights"
   ]
  },
  {
   "cell_type": "markdown",
   "metadata": {},
   "source": [
    "#### New Tangency Portfolio"
   ]
  },
  {
   "cell_type": "code",
   "execution_count": 198,
   "metadata": {},
   "outputs": [
    {
     "data": {
      "text/plain": [
       "     fun: -4.94856474676311\n",
       "     jac: array([ 4.39767057e+00,  6.13681000e+00,  2.76873011e+01,  4.27002060e+01,\n",
       "        2.76224944e+01,  1.57127805e+01,  3.51667404e-06,  2.29537487e-03,\n",
       "        3.36776417e+00,  1.00366148e+01,  9.75728035e-05,  6.98733675e+00,\n",
       "        2.98199046e+00, -2.65479088e-03])\n",
       " message: 'Optimization terminated successfully.'\n",
       "    nfev: 320\n",
       "     nit: 19\n",
       "    njev: 19\n",
       "  status: 0\n",
       " success: True\n",
       "       x: array([3.63113700e-13, 6.30550070e-13, 1.42692984e-12, 2.45763436e-12,\n",
       "       1.55105048e-12, 7.58839106e-13, 9.84601720e-01, 2.73850224e-03,\n",
       "       0.00000000e+00, 5.90122750e-12, 9.02733676e-03, 0.00000000e+00,\n",
       "       2.68297493e-13, 3.63244090e-03])"
      ]
     },
     "execution_count": 198,
     "metadata": {},
     "output_type": "execute_result"
    }
   ],
   "source": [
    "def new_statistics(new_weights):\n",
    "    new_weights = np.array(new_weights)\n",
    "    port_return = np.sum(new_returns.mean()*new_weights)*252\n",
    "    port_variance = np.sqrt(np.dot(new_weights.T, np.dot(new_returns.cov()*252, new_weights)))\n",
    "    return np.array([port_return, port_variance, port_return/port_variance])\n",
    "\n",
    "# 最小化Sharpe的負值\n",
    "def new_min_sharpe(new_weights):\n",
    "    return -new_statistics(new_weights)[2]\n",
    "\n",
    "# 限制權重總和為1\n",
    "cons = ({'type': 'eq', 'fun': lambda x: np.sum(x) - 1})\n",
    "# 限制權重範圍在0和1之間\n",
    "new_bnds = tuple((0,1) for x in range(new_q))\n",
    "# 優化起始參數值(x0)\n",
    "new_opts = sco.minimize(new_min_sharpe, new_q*[1./new_q,], method='SLSQP', bounds=new_bnds, constraints=cons)\n",
    "\n",
    "new_opts"
   ]
  },
  {
   "cell_type": "code",
   "execution_count": 199,
   "metadata": {},
   "outputs": [
    {
     "data": {
      "text/plain": [
       "array([0.   , 0.   , 0.   , 0.   , 0.   , 0.   , 0.985, 0.003, 0.   ,\n",
       "       0.   , 0.009, 0.   , 0.   , 0.004])"
      ]
     },
     "execution_count": 199,
     "metadata": {},
     "output_type": "execute_result"
    }
   ],
   "source": [
    "new_opts['x'].round(3)"
   ]
  },
  {
   "cell_type": "code",
   "execution_count": 200,
   "metadata": {},
   "outputs": [
    {
     "data": {
      "text/plain": [
       "array([1.25178796e-02, 2.53081268e-03, 4.94618971e+00])"
      ]
     },
     "execution_count": 200,
     "metadata": {},
     "output_type": "execute_result"
    }
   ],
   "source": [
    "new_statistics(new_opts['x'].round(3))"
   ]
  },
  {
   "cell_type": "markdown",
   "metadata": {},
   "source": [
    "#### New Minimum Variance Portfolio"
   ]
  },
  {
   "cell_type": "code",
   "execution_count": 201,
   "metadata": {},
   "outputs": [
    {
     "data": {
      "text/plain": [
       "     fun: 0.0024477005909684293\n",
       "     jac: array([0.00196866, 0.00320261, 0.00224542, 0.00476952, 0.0070933 ,\n",
       "       0.00227664, 0.00244819, 0.00239299, 0.00539545, 0.00870818,\n",
       "       0.00261085, 0.00381146, 0.00365696, 0.00297739])\n",
       " message: 'Optimization terminated successfully.'\n",
       "    nfev: 225\n",
       "     nit: 14\n",
       "    njev: 14\n",
       "  status: 0\n",
       " success: True\n",
       "       x: array([7.79006105e-19, 0.00000000e+00, 3.23217547e-19, 2.36275565e-18,\n",
       "       9.56077148e-19, 2.86663041e-03, 9.97133370e-01, 0.00000000e+00,\n",
       "       0.00000000e+00, 1.81413133e-17, 0.00000000e+00, 1.13031311e-17,\n",
       "       0.00000000e+00, 1.93146906e-18])"
      ]
     },
     "execution_count": 201,
     "metadata": {},
     "output_type": "execute_result"
    }
   ],
   "source": [
    "def new_min_variance(new_weights):\n",
    "    return new_statistics(new_weights)[1]\n",
    "\n",
    "new_optv = sco.minimize(new_min_variance, new_q*[1./new_q,], method='SLSQP', bounds=new_bnds, constraints=cons)\n",
    "\n",
    "new_optv"
   ]
  },
  {
   "cell_type": "code",
   "execution_count": 202,
   "metadata": {},
   "outputs": [
    {
     "data": {
      "text/plain": [
       "array([1.200e-02, 2.000e-03, 4.773e+00])"
      ]
     },
     "execution_count": 202,
     "metadata": {},
     "output_type": "execute_result"
    }
   ],
   "source": [
    "# new_MVP 的預期收益率、預期波動率、最大Sharpe\n",
    "new_statistics(new_optv['x']).round(3)"
   ]
  },
  {
   "cell_type": "markdown",
   "metadata": {},
   "source": [
    "#### 繪製新的效率前緣"
   ]
  },
  {
   "cell_type": "code",
   "execution_count": 203,
   "metadata": {},
   "outputs": [],
   "source": [
    "def new_min_variance(new_weights):\n",
    "    return new_statistics(new_weights)[1]\n",
    "\n",
    "# 在不同目標收益率(target_returns)水平循環時，最小化的約束條件會變化\n",
    "new_target_returns = np.linspace(new_statistics(new_optv['x'])[0], new_annual_returns.max(), 50)\n",
    "new_target_variance = []\n",
    "#cnt = 0\n",
    "\n",
    "for tar in new_target_returns:\n",
    "    #cnt+=1\n",
    "    new_cons = ({'type':'eq', 'fun': lambda x: new_statistics(x)[0]-tar},\n",
    "           {'type':'eq', 'fun': lambda x: np.sum(x) - 1})\n",
    "    new_res = sco.minimize(new_min_variance, new_q*[1./new_q,], method='SLSQP', bounds=new_bnds, constraints=new_cons)\n",
    "    new_target_variance.append(new_res['fun'])\n",
    "    #print(cnt)\n",
    "\n",
    "new_target_variance = np.array(new_target_variance)"
   ]
  },
  {
   "cell_type": "code",
   "execution_count": 215,
   "metadata": {},
   "outputs": [
    {
     "data": {
      "image/png": "[encoded data removed]",
      "text/plain": [
       "<Figure size 864x504 with 2 Axes>"
      ]
     },
     "metadata": {
      "needs_background": "light"
     },
     "output_type": "display_data"
    },
    {
     "name": "stdout",
     "output_type": "stream",
     "text": [
      "Decrease in MVP volatility: 5.580250655220359e-09\n",
      "Increase in tangency porfolio's sharpe ratio: 0.05183198664410238\n"
     ]
    }
   ],
   "source": [
    "#舊圖\n",
    "plt.figure(figsize=(12,7))\n",
    "# 叉號：有效前緣\n",
    "plt.scatter(target_variance, target_returns, c=target_returns/target_variance, marker='x', label='Efficient Frontier')\n",
    "#紅星：最高Sharpe\n",
    "plt.plot(statistics(opts['x'])[1],statistics(opts['x'])[0],'r*', markersize=15.0, label='Tangency Portfolio')\n",
    "#黃星：MVP\n",
    "plt.plot(statistics(optv['x'])[1],statistics(optv['x'])[0],'y*', markersize=15.0, label='Minimum Variance Portfolio')\n",
    "\n",
    "\n",
    "#新圖\n",
    "# 叉號：有效前緣\n",
    "plt.scatter(new_target_variance, new_target_returns, c=new_target_returns/new_target_variance, marker='^', label='New Efficient Frontier')\n",
    "#紅星：最高Sharpe\n",
    "plt.plot(new_statistics(new_opts['x'])[1],new_statistics(new_opts['x'])[0],'b*', markersize=15.0, label='New Tangency Portfolio')\n",
    "#黃星：MVP\n",
    "plt.plot(new_statistics(new_optv['x'])[1],new_statistics(new_optv['x'])[0],'g*', markersize=15.0, label='New Minimum Variance Portfolio')\n",
    "\n",
    "\n",
    "plt.grid(True)\n",
    "plt.xlabel('expected volatility')\n",
    "plt.ylabel('expected return')\n",
    "plt.legend(loc='lower right', fontsize=10)\n",
    "plt.colorbar(label='Sharpe ratio')\n",
    "plt.title(\"Betterment's Efficient Frontier: After\")\n",
    "plt.show()\n",
    "\n",
    "print(\"Decrease in MVP volatility:\", optv['fun']-new_optv['fun'])\n",
    "print(\"Increase in tangency porfolio's sharpe ratio:\",(-new_opts['fun'])-(-opts['fun']))"
   ]
  },
  {
   "cell_type": "code",
   "execution_count": null,
   "metadata": {},
   "outputs": [],
   "source": []
  }
 ],
 "metadata": {
  "kernelspec": {
   "display_name": "Python 3",
   "language": "python",
   "name": "python3"
  },
  "language_info": {
   "codemirror_mode": {
    "name": "ipython",
    "version": 3
   },
   "file_extension": ".py",
   "mimetype": "text/x-python",
   "name": "python",
   "nbconvert_exporter": "python",
   "pygments_lexer": "ipython3",
   "version": "3.7.1"
  }
 },
 "nbformat": 4,
 "nbformat_minor": 2
}
