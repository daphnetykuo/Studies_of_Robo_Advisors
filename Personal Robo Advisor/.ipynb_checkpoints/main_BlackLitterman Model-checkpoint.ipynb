{
 "cells": [
  {
   "cell_type": "code",
   "execution_count": 1,
   "metadata": {},
   "outputs": [],
   "source": [
    "import pandas as pd\n",
    "import numpy as np\n",
    "import matplotlib.pyplot as plt\n",
    "import pandas_datareader.data as web\n",
    "import datetime as dt\n",
    "import statistics as stat\n",
    "import csv\n",
    "import talib"
   ]
  },
  {
   "cell_type": "markdown",
   "metadata": {},
   "source": [
    "## 1.  資料匯入"
   ]
  },
  {
   "cell_type": "code",
   "execution_count": 2,
   "metadata": {
    "scrolled": true
   },
   "outputs": [
    {
     "data": {
      "text/html": [
       "<div>\n",
       "<style scoped>\n",
       "    .dataframe tbody tr th:only-of-type {\n",
       "        vertical-align: middle;\n",
       "    }\n",
       "\n",
       "    .dataframe tbody tr th {\n",
       "        vertical-align: top;\n",
       "    }\n",
       "\n",
       "    .dataframe thead th {\n",
       "        text-align: right;\n",
       "    }\n",
       "</style>\n",
       "<table border=\"1\" class=\"dataframe\">\n",
       "  <thead>\n",
       "    <tr style=\"text-align: right;\">\n",
       "      <th></th>\n",
       "      <th>VTI</th>\n",
       "      <th>VGK</th>\n",
       "      <th>VPL</th>\n",
       "      <th>VWO</th>\n",
       "      <th>PFF</th>\n",
       "      <th>IEI</th>\n",
       "      <th>BWX</th>\n",
       "      <th>AGG</th>\n",
       "      <th>BND</th>\n",
       "      <th>FXY</th>\n",
       "      <th>FXF</th>\n",
       "      <th>UDN</th>\n",
       "      <th>IAU</th>\n",
       "      <th>AOA</th>\n",
       "      <th>AOK</th>\n",
       "      <th>USO</th>\n",
       "    </tr>\n",
       "    <tr>\n",
       "      <th>Date</th>\n",
       "      <th></th>\n",
       "      <th></th>\n",
       "      <th></th>\n",
       "      <th></th>\n",
       "      <th></th>\n",
       "      <th></th>\n",
       "      <th></th>\n",
       "      <th></th>\n",
       "      <th></th>\n",
       "      <th></th>\n",
       "      <th></th>\n",
       "      <th></th>\n",
       "      <th></th>\n",
       "      <th></th>\n",
       "      <th></th>\n",
       "      <th></th>\n",
       "    </tr>\n",
       "  </thead>\n",
       "  <tbody>\n",
       "    <tr>\n",
       "      <th>2014-01-02</th>\n",
       "      <td>84.378860</td>\n",
       "      <td>46.217941</td>\n",
       "      <td>51.057976</td>\n",
       "      <td>33.389236</td>\n",
       "      <td>25.745323</td>\n",
       "      <td>108.694878</td>\n",
       "      <td>27.300598</td>\n",
       "      <td>90.548790</td>\n",
       "      <td>67.201050</td>\n",
       "      <td>93.250000</td>\n",
       "      <td>108.667809</td>\n",
       "      <td>26.176607</td>\n",
       "      <td>11.88</td>\n",
       "      <td>37.321964</td>\n",
       "      <td>27.329165</td>\n",
       "      <td>273.839996</td>\n",
       "    </tr>\n",
       "    <tr>\n",
       "      <th>2014-01-03</th>\n",
       "      <td>84.361145</td>\n",
       "      <td>46.225983</td>\n",
       "      <td>51.244526</td>\n",
       "      <td>33.347179</td>\n",
       "      <td>25.898182</td>\n",
       "      <td>108.613411</td>\n",
       "      <td>27.233980</td>\n",
       "      <td>90.582863</td>\n",
       "      <td>67.209480</td>\n",
       "      <td>93.220001</td>\n",
       "      <td>108.008736</td>\n",
       "      <td>26.050152</td>\n",
       "      <td>12.01</td>\n",
       "      <td>37.347317</td>\n",
       "      <td>27.380636</td>\n",
       "      <td>270.000000</td>\n",
       "    </tr>\n",
       "    <tr>\n",
       "      <th>2014-01-06</th>\n",
       "      <td>84.139259</td>\n",
       "      <td>46.266125</td>\n",
       "      <td>51.032539</td>\n",
       "      <td>33.027584</td>\n",
       "      <td>26.051073</td>\n",
       "      <td>108.785301</td>\n",
       "      <td>27.352930</td>\n",
       "      <td>90.701874</td>\n",
       "      <td>67.268166</td>\n",
       "      <td>93.779999</td>\n",
       "      <td>108.208450</td>\n",
       "      <td>26.137697</td>\n",
       "      <td>12.01</td>\n",
       "      <td>37.296593</td>\n",
       "      <td>27.346323</td>\n",
       "      <td>268.559998</td>\n",
       "    </tr>\n",
       "    <tr>\n",
       "      <th>2014-01-07</th>\n",
       "      <td>84.680595</td>\n",
       "      <td>46.579334</td>\n",
       "      <td>51.185162</td>\n",
       "      <td>33.162144</td>\n",
       "      <td>26.002424</td>\n",
       "      <td>108.875786</td>\n",
       "      <td>27.371956</td>\n",
       "      <td>90.744354</td>\n",
       "      <td>67.352066</td>\n",
       "      <td>93.419998</td>\n",
       "      <td>107.549370</td>\n",
       "      <td>26.079332</td>\n",
       "      <td>11.95</td>\n",
       "      <td>37.465664</td>\n",
       "      <td>27.432093</td>\n",
       "      <td>268.640015</td>\n",
       "    </tr>\n",
       "    <tr>\n",
       "      <th>2014-01-08</th>\n",
       "      <td>84.742729</td>\n",
       "      <td>46.555244</td>\n",
       "      <td>51.261486</td>\n",
       "      <td>33.103275</td>\n",
       "      <td>26.044107</td>\n",
       "      <td>108.468697</td>\n",
       "      <td>27.272049</td>\n",
       "      <td>90.472290</td>\n",
       "      <td>67.133980</td>\n",
       "      <td>93.250000</td>\n",
       "      <td>107.409569</td>\n",
       "      <td>26.020967</td>\n",
       "      <td>11.89</td>\n",
       "      <td>37.448750</td>\n",
       "      <td>27.397795</td>\n",
       "      <td>265.279999</td>\n",
       "    </tr>\n",
       "  </tbody>\n",
       "</table>\n",
       "</div>"
      ],
      "text/plain": [
       "                  VTI        VGK        VPL        VWO        PFF         IEI  \\\n",
       "Date                                                                            \n",
       "2014-01-02  84.378860  46.217941  51.057976  33.389236  25.745323  108.694878   \n",
       "2014-01-03  84.361145  46.225983  51.244526  33.347179  25.898182  108.613411   \n",
       "2014-01-06  84.139259  46.266125  51.032539  33.027584  26.051073  108.785301   \n",
       "2014-01-07  84.680595  46.579334  51.185162  33.162144  26.002424  108.875786   \n",
       "2014-01-08  84.742729  46.555244  51.261486  33.103275  26.044107  108.468697   \n",
       "\n",
       "                  BWX        AGG        BND        FXY         FXF        UDN  \\\n",
       "Date                                                                            \n",
       "2014-01-02  27.300598  90.548790  67.201050  93.250000  108.667809  26.176607   \n",
       "2014-01-03  27.233980  90.582863  67.209480  93.220001  108.008736  26.050152   \n",
       "2014-01-06  27.352930  90.701874  67.268166  93.779999  108.208450  26.137697   \n",
       "2014-01-07  27.371956  90.744354  67.352066  93.419998  107.549370  26.079332   \n",
       "2014-01-08  27.272049  90.472290  67.133980  93.250000  107.409569  26.020967   \n",
       "\n",
       "              IAU        AOA        AOK         USO  \n",
       "Date                                                 \n",
       "2014-01-02  11.88  37.321964  27.329165  273.839996  \n",
       "2014-01-03  12.01  37.347317  27.380636  270.000000  \n",
       "2014-01-06  12.01  37.296593  27.346323  268.559998  \n",
       "2014-01-07  11.95  37.465664  27.432093  268.640015  \n",
       "2014-01-08  11.89  37.448750  27.397795  265.279999  "
      ]
     },
     "execution_count": 2,
     "metadata": {},
     "output_type": "execute_result"
    }
   ],
   "source": [
    "data = pd.read_csv(\"data_adjclose.csv\", index_col=0 )\n",
    "data.index = pd.to_datetime(data.index)\n",
    "tickers = [i for i in data]\n",
    "data.head()"
   ]
  },
  {
   "cell_type": "code",
   "execution_count": 3,
   "metadata": {},
   "outputs": [],
   "source": [
    "returns = (data - data.shift(1)) / data.shift(1)"
   ]
  },
  {
   "cell_type": "markdown",
   "metadata": {},
   "source": [
    "## 2. 兩種觀點下的long-short portfolio"
   ]
  },
  {
   "cell_type": "markdown",
   "metadata": {},
   "source": [
    "### 技術指標1：KD值"
   ]
  },
  {
   "cell_type": "code",
   "execution_count": 4,
   "metadata": {},
   "outputs": [],
   "source": [
    "from talib import abstract\n",
    "#匯入最高價、最低價、收盤價(未調整)資料\n",
    "high = pd.read_csv(\"data_high.csv\", index_col=0 )\n",
    "high.index = pd.to_datetime(high.index)\n",
    "\n",
    "low = pd.read_csv(\"data_low.csv\", index_col=0 )\n",
    "low.index = pd.to_datetime(low.index)\n",
    "\n",
    "close = pd.read_csv(\"data_close.csv\", index_col=0 )\n",
    "close.index = pd.to_datetime(close.index)"
   ]
  },
  {
   "cell_type": "markdown",
   "metadata": {},
   "source": [
    "<b> (1) 計算KD值"
   ]
  },
  {
   "cell_type": "code",
   "execution_count": 5,
   "metadata": {},
   "outputs": [],
   "source": [
    "def etf2pd(etf):\n",
    "    etf_pd = pd.DataFrame(index=data.index)\n",
    "    etf_pd[\"high\"] = high[etf]\n",
    "    etf_pd[\"low\"] = low[etf]\n",
    "    etf_pd[\"close\"] = close[etf]\n",
    "    return etf_pd"
   ]
  },
  {
   "cell_type": "code",
   "execution_count": 6,
   "metadata": {
    "scrolled": false
   },
   "outputs": [
    {
     "data": {
      "text/html": [
       "<div>\n",
       "<style scoped>\n",
       "    .dataframe tbody tr th:only-of-type {\n",
       "        vertical-align: middle;\n",
       "    }\n",
       "\n",
       "    .dataframe tbody tr th {\n",
       "        vertical-align: top;\n",
       "    }\n",
       "\n",
       "    .dataframe thead th {\n",
       "        text-align: right;\n",
       "    }\n",
       "</style>\n",
       "<table border=\"1\" class=\"dataframe\">\n",
       "  <thead>\n",
       "    <tr style=\"text-align: right;\">\n",
       "      <th></th>\n",
       "      <th>VTI</th>\n",
       "      <th>VGK</th>\n",
       "      <th>VPL</th>\n",
       "      <th>VWO</th>\n",
       "      <th>PFF</th>\n",
       "      <th>IEI</th>\n",
       "      <th>BWX</th>\n",
       "      <th>AGG</th>\n",
       "      <th>BND</th>\n",
       "      <th>FXY</th>\n",
       "      <th>FXF</th>\n",
       "      <th>UDN</th>\n",
       "      <th>IAU</th>\n",
       "      <th>AOA</th>\n",
       "      <th>AOK</th>\n",
       "      <th>USO</th>\n",
       "    </tr>\n",
       "    <tr>\n",
       "      <th>Date</th>\n",
       "      <th></th>\n",
       "      <th></th>\n",
       "      <th></th>\n",
       "      <th></th>\n",
       "      <th></th>\n",
       "      <th></th>\n",
       "      <th></th>\n",
       "      <th></th>\n",
       "      <th></th>\n",
       "      <th></th>\n",
       "      <th></th>\n",
       "      <th></th>\n",
       "      <th></th>\n",
       "      <th></th>\n",
       "      <th></th>\n",
       "      <th></th>\n",
       "    </tr>\n",
       "  </thead>\n",
       "  <tbody>\n",
       "    <tr>\n",
       "      <th>2014-01-31</th>\n",
       "      <td>-0.373405</td>\n",
       "      <td>-4.488967</td>\n",
       "      <td>-1.558912</td>\n",
       "      <td>-0.273394</td>\n",
       "      <td>8.108870</td>\n",
       "      <td>4.734404</td>\n",
       "      <td>-6.240443</td>\n",
       "      <td>6.611788</td>\n",
       "      <td>4.731743</td>\n",
       "      <td>1.876289</td>\n",
       "      <td>-15.047688</td>\n",
       "      <td>-24.857753</td>\n",
       "      <td>-11.111142</td>\n",
       "      <td>-1.024270</td>\n",
       "      <td>0.231531</td>\n",
       "      <td>-0.569352</td>\n",
       "    </tr>\n",
       "    <tr>\n",
       "      <th>2014-02-28</th>\n",
       "      <td>2.386223</td>\n",
       "      <td>-1.898027</td>\n",
       "      <td>-1.829584</td>\n",
       "      <td>5.207537</td>\n",
       "      <td>3.566856</td>\n",
       "      <td>8.161874</td>\n",
       "      <td>3.373307</td>\n",
       "      <td>5.773956</td>\n",
       "      <td>4.646533</td>\n",
       "      <td>11.068509</td>\n",
       "      <td>-2.339315</td>\n",
       "      <td>0.128231</td>\n",
       "      <td>-14.478681</td>\n",
       "      <td>2.319607</td>\n",
       "      <td>1.847188</td>\n",
       "      <td>-2.350346</td>\n",
       "    </tr>\n",
       "    <tr>\n",
       "      <th>2014-03-31</th>\n",
       "      <td>12.747101</td>\n",
       "      <td>15.961315</td>\n",
       "      <td>8.716466</td>\n",
       "      <td>1.808538</td>\n",
       "      <td>0.514737</td>\n",
       "      <td>-1.511757</td>\n",
       "      <td>-0.088840</td>\n",
       "      <td>3.886334</td>\n",
       "      <td>2.368098</td>\n",
       "      <td>-11.905247</td>\n",
       "      <td>-1.168874</td>\n",
       "      <td>-5.285479</td>\n",
       "      <td>0.457240</td>\n",
       "      <td>11.851646</td>\n",
       "      <td>13.777500</td>\n",
       "      <td>0.401607</td>\n",
       "    </tr>\n",
       "    <tr>\n",
       "      <th>2014-04-30</th>\n",
       "      <td>1.588648</td>\n",
       "      <td>3.886991</td>\n",
       "      <td>-6.688849</td>\n",
       "      <td>6.452840</td>\n",
       "      <td>1.286832</td>\n",
       "      <td>16.452395</td>\n",
       "      <td>8.217681</td>\n",
       "      <td>9.046464</td>\n",
       "      <td>7.844880</td>\n",
       "      <td>2.989304</td>\n",
       "      <td>5.062615</td>\n",
       "      <td>7.175798</td>\n",
       "      <td>3.987554</td>\n",
       "      <td>3.378424</td>\n",
       "      <td>1.542213</td>\n",
       "      <td>1.045620</td>\n",
       "    </tr>\n",
       "    <tr>\n",
       "      <th>2014-05-30</th>\n",
       "      <td>-0.198858</td>\n",
       "      <td>4.226532</td>\n",
       "      <td>0.034360</td>\n",
       "      <td>-12.878495</td>\n",
       "      <td>11.366503</td>\n",
       "      <td>-11.109611</td>\n",
       "      <td>4.261365</td>\n",
       "      <td>-0.082890</td>\n",
       "      <td>-6.337857</td>\n",
       "      <td>4.958068</td>\n",
       "      <td>6.990604</td>\n",
       "      <td>0.926050</td>\n",
       "      <td>-0.830660</td>\n",
       "      <td>-2.546350</td>\n",
       "      <td>-11.685799</td>\n",
       "      <td>-13.322157</td>\n",
       "    </tr>\n",
       "  </tbody>\n",
       "</table>\n",
       "</div>"
      ],
      "text/plain": [
       "                  VTI        VGK       VPL        VWO        PFF        IEI  \\\n",
       "Date                                                                          \n",
       "2014-01-31  -0.373405  -4.488967 -1.558912  -0.273394   8.108870   4.734404   \n",
       "2014-02-28   2.386223  -1.898027 -1.829584   5.207537   3.566856   8.161874   \n",
       "2014-03-31  12.747101  15.961315  8.716466   1.808538   0.514737  -1.511757   \n",
       "2014-04-30   1.588648   3.886991 -6.688849   6.452840   1.286832  16.452395   \n",
       "2014-05-30  -0.198858   4.226532  0.034360 -12.878495  11.366503 -11.109611   \n",
       "\n",
       "                 BWX       AGG       BND        FXY        FXF        UDN  \\\n",
       "Date                                                                        \n",
       "2014-01-31 -6.240443  6.611788  4.731743   1.876289 -15.047688 -24.857753   \n",
       "2014-02-28  3.373307  5.773956  4.646533  11.068509  -2.339315   0.128231   \n",
       "2014-03-31 -0.088840  3.886334  2.368098 -11.905247  -1.168874  -5.285479   \n",
       "2014-04-30  8.217681  9.046464  7.844880   2.989304   5.062615   7.175798   \n",
       "2014-05-30  4.261365 -0.082890 -6.337857   4.958068   6.990604   0.926050   \n",
       "\n",
       "                  IAU        AOA        AOK        USO  \n",
       "Date                                                    \n",
       "2014-01-31 -11.111142  -1.024270   0.231531  -0.569352  \n",
       "2014-02-28 -14.478681   2.319607   1.847188  -2.350346  \n",
       "2014-03-31   0.457240  11.851646  13.777500   0.401607  \n",
       "2014-04-30   3.987554   3.378424   1.542213   1.045620  \n",
       "2014-05-30  -0.830660  -2.546350 -11.685799 -13.322157  "
      ]
     },
     "execution_count": 6,
     "metadata": {},
     "output_type": "execute_result"
    }
   ],
   "source": [
    "#K-D>0:買進；K-D<0:賣出\n",
    "kd = pd.DataFrame()\n",
    "for i in tickers:\n",
    "    tmp_kd = abstract.STOCH(etf2pd(i), fastk_period=9, slowk_period=3,slowd_period=3).fillna(value=0).asfreq(\"BM\")\n",
    "    comp_kd = tmp_kd[\"slowk\"] - tmp_kd[\"slowd\"]   #series\n",
    "    kd[i] = comp_kd\n",
    "\n",
    "kd.head()"
   ]
  },
  {
   "cell_type": "markdown",
   "metadata": {},
   "source": [
    "<b> (2) 定義函數：抓每個月KD前四和後四檔的ETF"
   ]
  },
  {
   "cell_type": "code",
   "execution_count": 7,
   "metadata": {},
   "outputs": [],
   "source": [
    "def get_8_etf_kd(time):   #time: \"y-m\" ex.\"2005-1\"   #output: 兩個list(long, short)\n",
    "    temp_kd_set = kd[time]   #type: pd.dataframe\n",
    "    monthly_kd_set = []   #每個月的etf排名及其kd值\n",
    "    for j in range(temp_kd_set.shape[1]):   #df行數\n",
    "        etf_kd = [tickers[j], temp_kd_set.iloc[0, j]]\n",
    "        monthly_kd_set.append(etf_kd)\n",
    "    monthly_kd_set.sort(key=lambda x: x[1], reverse=True)\n",
    "    #print(monthly_kd_set)\n",
    "    #取出每月前四檔和後四檔etf名稱\n",
    "    long_4_etf = [k[0] for k in monthly_kd_set[:4]]\n",
    "    short_4_etf = [l[0] for l in monthly_kd_set[-4:]]\n",
    "    return long_4_etf, short_4_etf"
   ]
  },
  {
   "cell_type": "markdown",
   "metadata": {},
   "source": [
    "<b> (3) 使用函數跑每月的權重與最終整體報酬率（period: 2014/1~2016/12)"
   ]
  },
  {
   "cell_type": "code",
   "execution_count": 8,
   "metadata": {
    "scrolled": false
   },
   "outputs": [],
   "source": [
    "weight_kd = pd.DataFrame(columns=tickers,index=kd.index).fillna(value=0)\n",
    "\n",
    "for y in range(2014, 2017):   #2014/1~2016/12\n",
    "    for m in range(1, 13):\n",
    "        time = str(y)+'-'+str(m)\n",
    "        #print(time)\n",
    "        tmp_etf = get_8_etf_kd(time)\n",
    "        for a in tmp_etf[0]:\n",
    "            weight_kd.loc[time, a] = 0.25\n",
    "        for b in tmp_etf[1]:\n",
    "            weight_kd.loc[time, b] = -0.25"
   ]
  },
  {
   "cell_type": "code",
   "execution_count": 9,
   "metadata": {
    "scrolled": false
   },
   "outputs": [
    {
     "name": "stdout",
     "output_type": "stream",
     "text": [
      "KD mean: -0.008774024496343793\n"
     ]
    }
   ],
   "source": [
    "q_kd = []    #q1~q95\n",
    "tmp_weight_kd = weight_kd.shift(1) #把前個月的權重換成下個月index，使ret_次月和weight_這個月配在一起\n",
    "for y in range(2014, 2017):\n",
    "    for m in range(1, 13):\n",
    "        time = str(y)+'-'+str(m)   #這個月\n",
    "        #print(time)\n",
    "        if time != '2014-1':\n",
    "            days = returns[time].shape[0]\n",
    "            tmp_ret = returns[time].mean()*days    #series   #若沒有取mean,則為dataframe\n",
    "            monthly_q_kd = float(tmp_weight_kd[time].dot(tmp_ret).to_numpy())\n",
    "            q_kd.append(monthly_q_kd)\n",
    "        else:\n",
    "            pass\n",
    "#print(len(q_kd))\n",
    "print('KD mean:', stat.mean(q_kd))"
   ]
  },
  {
   "cell_type": "markdown",
   "metadata": {},
   "source": [
    "<b/> ➤以KD作為投資組合選擇指標建構long-short portfolio，則平均報酬率為-0.877%。"
   ]
  },
  {
   "cell_type": "markdown",
   "metadata": {},
   "source": [
    "### 技術指標2：指數移動平均線 EMA"
   ]
  },
  {
   "cell_type": "markdown",
   "metadata": {},
   "source": [
    "<b> (1) 計算每日20日(短線)與35日(長線)的EMA差值，取每月月底MA數值作為預測。"
   ]
  },
  {
   "cell_type": "code",
   "execution_count": 10,
   "metadata": {},
   "outputs": [],
   "source": [
    "ma = pd.DataFrame()\n",
    "for i in tickers:\n",
    "    ma[i] = talib.EMA(data[i], timeperiod=20) - talib.EMA(data[i], timeperiod=35)\n",
    "monthly_ma = ma.asfreq(\"BM\")"
   ]
  },
  {
   "cell_type": "markdown",
   "metadata": {},
   "source": [
    "若為正數，即表示當日短均線超過長均線，為看漲的股票；反之則看跌。"
   ]
  },
  {
   "cell_type": "markdown",
   "metadata": {},
   "source": [
    "<b> (2) 同上步驟，抓出每月long-short portfolio的資產分配權重，並試算出2014~2016年的整體報酬率。"
   ]
  },
  {
   "cell_type": "code",
   "execution_count": 11,
   "metadata": {},
   "outputs": [],
   "source": [
    "def get_8_etf_ma(time):   #time: \"y-m\" ex.\"2014-1\"   #output: 兩個list(long, short)\n",
    "    temp_ma_set = monthly_ma[time]   #type: pd.dataframe\n",
    "    monthly_ma_set = []   #每個月的etf排名及其ma值\n",
    "    for j in range(temp_ma_set.shape[1]):   #df行數\n",
    "        etf_ma = [tickers[j], temp_ma_set.iloc[0, j]]   #ix: label or index searching\n",
    "        monthly_ma_set.append(etf_ma)\n",
    "    monthly_ma_set.sort(key=lambda x: x[1], reverse=True)\n",
    "    #取出每月前四檔和後四檔etf名稱\n",
    "    long_4_etf = [k[0] for k in monthly_ma_set[:4]]\n",
    "    short_4_etf = [l[0] for l in monthly_ma_set[-4:]]\n",
    "    return long_4_etf, short_4_etf"
   ]
  },
  {
   "cell_type": "code",
   "execution_count": 12,
   "metadata": {
    "scrolled": true
   },
   "outputs": [],
   "source": [
    "weight_ma = pd.DataFrame(columns=tickers,index=pd.date_range('2014/1/1','2019/4/30', freq='BM')).fillna(value=0)\n",
    "\n",
    "for y in range(2014, 2017):\n",
    "    for m in range(1, 13):\n",
    "        time = str(y)+'-'+str(m)\n",
    "        #print(time)\n",
    "        tmp_etf = get_8_etf_ma(time)\n",
    "        for a in tmp_etf[0]:\n",
    "            weight_ma.loc[time, a] = 0.25\n",
    "        for b in tmp_etf[1]:\n",
    "            weight_ma.loc[time, b] = -0.25"
   ]
  },
  {
   "cell_type": "code",
   "execution_count": 13,
   "metadata": {
    "scrolled": true
   },
   "outputs": [
    {
     "name": "stdout",
     "output_type": "stream",
     "text": [
      "EMA mean: 0.006097778761979994\n"
     ]
    }
   ],
   "source": [
    "q_ma = []    #q1~q36\n",
    "tmp_weight_ma = weight_ma.shift(1)\n",
    "for y in range(2014, 2017):\n",
    "    for m in range(1, 13):\n",
    "        time = str(y)+'-'+str(m)   #這個月\n",
    "        #print(time)\n",
    "        if time != '2014-1':\n",
    "            days = returns[time].shape[0]\n",
    "            tmp_ret = returns[time].mean()*days    #series   #若沒有取mean,則為dataframe\n",
    "            monthly_q_ma = float(tmp_weight_ma[time].dot(tmp_ret).to_numpy())\n",
    "            q_ma.append(monthly_q_ma)\n",
    "        else:\n",
    "            pass\n",
    "\n",
    "print('EMA mean:', stat.mean(q_ma))"
   ]
  },
  {
   "cell_type": "markdown",
   "metadata": {},
   "source": [
    "<b/> ➤以EMA作為投資組合選擇的指標，則平均報酬率為0.610%。"
   ]
  },
  {
   "cell_type": "markdown",
   "metadata": {},
   "source": [
    "### 合併兩種view的估計資料"
   ]
  },
  {
   "cell_type": "code",
   "execution_count": 14,
   "metadata": {},
   "outputs": [
    {
     "data": {
      "text/plain": [
       "array([[-0.00877402],\n",
       "       [ 0.00609778]])"
      ]
     },
     "execution_count": 14,
     "metadata": {},
     "output_type": "execute_result"
    }
   ],
   "source": [
    "Q = np.array([\n",
    "    [stat.mean(q_kd)],\n",
    "    [stat.mean(q_ma)]\n",
    "])\n",
    "Q"
   ]
  },
  {
   "cell_type": "code",
   "execution_count": 15,
   "metadata": {
    "scrolled": true
   },
   "outputs": [
    {
     "name": "stdout",
     "output_type": "stream",
     "text": [
      "[[ 0.00090179 -0.00012843]\n",
      " [-0.00012843  0.00134996]]\n"
     ]
    }
   ],
   "source": [
    "omega = np.cov(np.stack((q_kd, q_ma), axis = 0)  )\n",
    "print(omega) "
   ]
  },
  {
   "cell_type": "markdown",
   "metadata": {},
   "source": [
    "## 3. 代入Blacklitterman Model (period2： 2017/1/2 ~ 2019/4/30)"
   ]
  },
  {
   "cell_type": "markdown",
   "metadata": {},
   "source": [
    "<b> (1) 以KD與EMA作為技術指標，預測第二期的long-short portfolio權重"
   ]
  },
  {
   "cell_type": "code",
   "execution_count": 16,
   "metadata": {},
   "outputs": [],
   "source": [
    "asset_value = [860690000000, 15350000000, 5850000000, 74430000000, 15370000000, 12160000000, 786970000,\n",
    "              72640000000, 269050000000, 237470000, 238750000, 36110000, 24550000000, 957340000, 680370000, 8400000000]\n",
    "total_value = sum(asset_value)\n",
    "w_eq = [(i/total_value) for i in asset_value]"
   ]
  },
  {
   "cell_type": "code",
   "execution_count": 17,
   "metadata": {},
   "outputs": [],
   "source": [
    "#每個月一個共變數矩陣sigma\n",
    "tau = 0.05\n",
    "delta = 3  #風險趨避係數\n",
    "omega_inv = np.linalg.inv(omega)"
   ]
  },
  {
   "cell_type": "code",
   "execution_count": 18,
   "metadata": {},
   "outputs": [],
   "source": [
    "#第二段區間的時間(2017/1~2019/4)\n",
    "period_2 = []\n",
    "for y in range(2017, 2019):\n",
    "    for m in range(1, 13):\n",
    "        time = str(y)+'-'+str(m)\n",
    "        period_2.append(time)\n",
    "\n",
    "for m in range(1, 5):\n",
    "    time = '2019-'+str(m)\n",
    "    period_2.append(time)"
   ]
  },
  {
   "cell_type": "code",
   "execution_count": 19,
   "metadata": {
    "scrolled": true
   },
   "outputs": [],
   "source": [
    "for time in period_2:\n",
    "    tmp_etf = get_8_etf_kd(time)\n",
    "    for a in tmp_etf[0]:\n",
    "        weight_kd.loc[time, a] = 0.25\n",
    "    for b in tmp_etf[1]:\n",
    "        weight_kd.loc[time, b] = -0.25"
   ]
  },
  {
   "cell_type": "code",
   "execution_count": 20,
   "metadata": {
    "scrolled": true
   },
   "outputs": [],
   "source": [
    "for time in period_2:\n",
    "    tmp_etf = get_8_etf_ma(time)\n",
    "    for a in tmp_etf[0]:\n",
    "        weight_ma.loc[time, a] = 0.25\n",
    "    for b in tmp_etf[1]:\n",
    "        weight_ma.loc[time, b] = -0.25"
   ]
  },
  {
   "cell_type": "markdown",
   "metadata": {},
   "source": [
    "<b> (2) 代入Blacklitterman Model進行觀點調整，試算出每月最佳權重w*"
   ]
  },
  {
   "cell_type": "code",
   "execution_count": 21,
   "metadata": {},
   "outputs": [],
   "source": [
    "# 每個月的P矩陣(技術指標權重)\n",
    "def get_p_matrix(time):\n",
    "    view1 = weight_kd[time].values.tolist()[0]\n",
    "    view2 = weight_ma[time].values.tolist()[0]\n",
    "    p = np.stack([view1, view2])   #matrix:2x19，type:ndarray\n",
    "    return p  "
   ]
  },
  {
   "cell_type": "code",
   "execution_count": 22,
   "metadata": {},
   "outputs": [],
   "source": [
    "def get_optimal_weight(time):\n",
    "    P = get_p_matrix(time)\n",
    "    sigma = returns[time].cov()\n",
    "    A = omega/tau + (P.dot(sigma).dot(np.transpose(P))/(1+tau))\n",
    "    A_inv = np.linalg.inv(A)   #反矩陣\n",
    "    lmda = (omega_inv.dot(Q)*tau/delta) - A_inv.dot(P).dot((sigma/(1+tau))).dot(np.transpose(w_eq)) \\\n",
    "    - (A_inv.dot(P).dot((sigma/(1+tau))).dot(np.transpose(P)).dot(omega_inv).dot(Q))*(tau/delta)\n",
    "    optimal_w = (1/(1+tau))*(w_eq + np.transpose(np.transpose(P).dot(lmda)))\n",
    "    return optimal_w"
   ]
  },
  {
   "cell_type": "code",
   "execution_count": 23,
   "metadata": {},
   "outputs": [
    {
     "data": {
      "text/html": [
       "<div>\n",
       "<style scoped>\n",
       "    .dataframe tbody tr th:only-of-type {\n",
       "        vertical-align: middle;\n",
       "    }\n",
       "\n",
       "    .dataframe tbody tr th {\n",
       "        vertical-align: top;\n",
       "    }\n",
       "\n",
       "    .dataframe thead th {\n",
       "        text-align: right;\n",
       "    }\n",
       "</style>\n",
       "<table border=\"1\" class=\"dataframe\">\n",
       "  <thead>\n",
       "    <tr style=\"text-align: right;\">\n",
       "      <th></th>\n",
       "      <th>VTI</th>\n",
       "      <th>VGK</th>\n",
       "      <th>VPL</th>\n",
       "      <th>VWO</th>\n",
       "      <th>PFF</th>\n",
       "      <th>IEI</th>\n",
       "      <th>BWX</th>\n",
       "      <th>AGG</th>\n",
       "      <th>BND</th>\n",
       "      <th>FXY</th>\n",
       "      <th>FXF</th>\n",
       "      <th>UDN</th>\n",
       "      <th>IAU</th>\n",
       "      <th>AOA</th>\n",
       "      <th>AOK</th>\n",
       "      <th>USO</th>\n",
       "    </tr>\n",
       "  </thead>\n",
       "  <tbody>\n",
       "    <tr>\n",
       "      <th>2017-01-31</th>\n",
       "      <td>0.65296</td>\n",
       "      <td>0.0616056</td>\n",
       "      <td>0.05496</td>\n",
       "      <td>0.0520672</td>\n",
       "      <td>0.010752</td>\n",
       "      <td>-0.0423611</td>\n",
       "      <td>-0.0139886</td>\n",
       "      <td>-5.25839e-05</td>\n",
       "      <td>0.151884</td>\n",
       "      <td>-0.014373</td>\n",
       "      <td>0.000167017</td>\n",
       "      <td>2.52606e-05</td>\n",
       "      <td>-0.0191546</td>\n",
       "      <td>0.0369982</td>\n",
       "      <td>0.00047595</td>\n",
       "      <td>0.0204153</td>\n",
       "    </tr>\n",
       "    <tr>\n",
       "      <th>2017-02-28</th>\n",
       "      <td>0.616579</td>\n",
       "      <td>0.0471624</td>\n",
       "      <td>0.0550029</td>\n",
       "      <td>0.102978</td>\n",
       "      <td>-0.0256724</td>\n",
       "      <td>-0.00597969</td>\n",
       "      <td>-0.05036</td>\n",
       "      <td>0.050815</td>\n",
       "      <td>0.188213</td>\n",
       "      <td>0.000166121</td>\n",
       "      <td>-0.0507435</td>\n",
       "      <td>-0.0508853</td>\n",
       "      <td>0.0171739</td>\n",
       "      <td>0.0515803</td>\n",
       "      <td>0.00047595</td>\n",
       "      <td>0.00587619</td>\n",
       "    </tr>\n",
       "    <tr>\n",
       "      <th>2017-03-31</th>\n",
       "      <td>0.579813</td>\n",
       "      <td>0.0250616</td>\n",
       "      <td>0.0184159</td>\n",
       "      <td>0.102993</td>\n",
       "      <td>0.010752</td>\n",
       "      <td>-0.028096</td>\n",
       "      <td>0.037153</td>\n",
       "      <td>0.050815</td>\n",
       "      <td>0.173889</td>\n",
       "      <td>0.000166121</td>\n",
       "      <td>0.0367694</td>\n",
       "      <td>0.0223042</td>\n",
       "      <td>0.00285032</td>\n",
       "      <td>-0.0359327</td>\n",
       "      <td>0.00047595</td>\n",
       "      <td>-0.0450498</td>\n",
       "    </tr>\n",
       "    <tr>\n",
       "      <th>2017-04-28</th>\n",
       "      <td>0.65306</td>\n",
       "      <td>0.025252</td>\n",
       "      <td>0.00409234</td>\n",
       "      <td>0.0520672</td>\n",
       "      <td>0.010752</td>\n",
       "      <td>-0.0134333</td>\n",
       "      <td>0.0370043</td>\n",
       "      <td>0.0143612</td>\n",
       "      <td>0.151759</td>\n",
       "      <td>0.0146801</td>\n",
       "      <td>0.0221068</td>\n",
       "      <td>0.021965</td>\n",
       "      <td>0.00265985</td>\n",
       "      <td>0.000669703</td>\n",
       "      <td>-0.0359778</td>\n",
       "      <td>-0.00863782</td>\n",
       "    </tr>\n",
       "    <tr>\n",
       "      <th>2017-05-31</th>\n",
       "      <td>0.616662</td>\n",
       "      <td>0.0616699</td>\n",
       "      <td>0.0186616</td>\n",
       "      <td>0.0520672</td>\n",
       "      <td>0.0325453</td>\n",
       "      <td>-0.0278561</td>\n",
       "      <td>0.000550522</td>\n",
       "      <td>0.0144525</td>\n",
       "      <td>0.15185</td>\n",
       "      <td>-0.0507657</td>\n",
       "      <td>0.0147363</td>\n",
       "      <td>0.0363878</td>\n",
       "      <td>0.00260457</td>\n",
       "      <td>0.000669703</td>\n",
       "      <td>0.00047595</td>\n",
       "      <td>0.0276694</td>\n",
       "    </tr>\n",
       "  </tbody>\n",
       "</table>\n",
       "</div>"
      ],
      "text/plain": [
       "                 VTI        VGK         VPL        VWO        PFF         IEI  \\\n",
       "2017-01-31   0.65296  0.0616056     0.05496  0.0520672   0.010752  -0.0423611   \n",
       "2017-02-28  0.616579  0.0471624   0.0550029   0.102978 -0.0256724 -0.00597969   \n",
       "2017-03-31  0.579813  0.0250616   0.0184159   0.102993   0.010752   -0.028096   \n",
       "2017-04-28   0.65306   0.025252  0.00409234  0.0520672   0.010752  -0.0134333   \n",
       "2017-05-31  0.616662  0.0616699   0.0186616  0.0520672  0.0325453  -0.0278561   \n",
       "\n",
       "                    BWX          AGG       BND          FXY          FXF  \\\n",
       "2017-01-31   -0.0139886 -5.25839e-05  0.151884    -0.014373  0.000167017   \n",
       "2017-02-28     -0.05036     0.050815  0.188213  0.000166121   -0.0507435   \n",
       "2017-03-31     0.037153     0.050815  0.173889  0.000166121    0.0367694   \n",
       "2017-04-28    0.0370043    0.0143612  0.151759    0.0146801    0.0221068   \n",
       "2017-05-31  0.000550522    0.0144525   0.15185   -0.0507657    0.0147363   \n",
       "\n",
       "                    UDN         IAU          AOA         AOK         USO  \n",
       "2017-01-31  2.52606e-05  -0.0191546    0.0369982  0.00047595   0.0204153  \n",
       "2017-02-28   -0.0508853   0.0171739    0.0515803  0.00047595  0.00587619  \n",
       "2017-03-31    0.0223042  0.00285032   -0.0359327  0.00047595  -0.0450498  \n",
       "2017-04-28     0.021965  0.00265985  0.000669703  -0.0359778 -0.00863782  \n",
       "2017-05-31    0.0363878  0.00260457  0.000669703  0.00047595   0.0276694  "
      ]
     },
     "execution_count": 23,
     "metadata": {},
     "output_type": "execute_result"
    }
   ],
   "source": [
    "# BL模型的optimal weight\n",
    "w_bl = pd.DataFrame(columns=tickers,index=pd.date_range('2017/1/1','2019/4/30', freq='BM'))\n",
    "for time in period_2:\n",
    "    opt_w = [get_optimal_weight(time)[0]]\n",
    "    #print(len(opt_w))\n",
    "    w_bl[time] = opt_w\n",
    "\n",
    "w_bl.head()"
   ]
  },
  {
   "cell_type": "code",
   "execution_count": 24,
   "metadata": {},
   "outputs": [
    {
     "data": {
      "text/plain": [
       "0.9523809523809523"
      ]
     },
     "execution_count": 24,
     "metadata": {},
     "output_type": "execute_result"
    }
   ],
   "source": [
    "check_weight = w_bl[\"2017-1\"].values[0]\n",
    "sum(check_weight)"
   ]
  },
  {
   "cell_type": "markdown",
   "metadata": {},
   "source": [
    "<b> 經過檢查，權重總和為0.95238，也就是 1/(1+tau)。(tau=0.05)\n",
    "<br>確認模型使用正確。"
   ]
  },
  {
   "cell_type": "markdown",
   "metadata": {},
   "source": [
    "## 4. 模型投資組合績效比較"
   ]
  },
  {
   "cell_type": "markdown",
   "metadata": {},
   "source": [
    "<b> (1) 投資組合報酬率比較"
   ]
  },
  {
   "cell_type": "markdown",
   "metadata": {},
   "source": [
    "個別ETF報酬率比較：BL Model v.s. Equilibrium"
   ]
  },
  {
   "cell_type": "code",
   "execution_count": 25,
   "metadata": {},
   "outputs": [
    {
     "data": {
      "text/html": [
       "<div>\n",
       "<style scoped>\n",
       "    .dataframe tbody tr th:only-of-type {\n",
       "        vertical-align: middle;\n",
       "    }\n",
       "\n",
       "    .dataframe tbody tr th {\n",
       "        vertical-align: top;\n",
       "    }\n",
       "\n",
       "    .dataframe thead th {\n",
       "        text-align: right;\n",
       "    }\n",
       "</style>\n",
       "<table border=\"1\" class=\"dataframe\">\n",
       "  <thead>\n",
       "    <tr style=\"text-align: right;\">\n",
       "      <th></th>\n",
       "      <th>VTI</th>\n",
       "      <th>VGK</th>\n",
       "      <th>VPL</th>\n",
       "      <th>VWO</th>\n",
       "      <th>PFF</th>\n",
       "      <th>IEI</th>\n",
       "      <th>BWX</th>\n",
       "      <th>AGG</th>\n",
       "      <th>BND</th>\n",
       "      <th>FXY</th>\n",
       "      <th>FXF</th>\n",
       "      <th>UDN</th>\n",
       "      <th>IAU</th>\n",
       "      <th>AOA</th>\n",
       "      <th>AOK</th>\n",
       "      <th>USO</th>\n",
       "    </tr>\n",
       "  </thead>\n",
       "  <tbody>\n",
       "    <tr>\n",
       "      <th>2017-01-31</th>\n",
       "      <td>0.0121411</td>\n",
       "      <td>0.00181638</td>\n",
       "      <td>0.00266142</td>\n",
       "      <td>0.00293607</td>\n",
       "      <td>0.000256346</td>\n",
       "      <td>-0.000126085</td>\n",
       "      <td>-0.00020893</td>\n",
       "      <td>-1.14381e-07</td>\n",
       "      <td>0.000290472</td>\n",
       "      <td>-0.00050756</td>\n",
       "      <td>4.6609e-06</td>\n",
       "      <td>6.66046e-07</td>\n",
       "      <td>-0.00100504</td>\n",
       "      <td>0.000749228</td>\n",
       "      <td>2.94121e-06</td>\n",
       "      <td>-0.000657332</td>\n",
       "    </tr>\n",
       "    <tr>\n",
       "      <th>2017-02-28</th>\n",
       "      <td>0.0224497</td>\n",
       "      <td>0.000283031</td>\n",
       "      <td>0.0011773</td>\n",
       "      <td>0.00231925</td>\n",
       "      <td>-0.000531426</td>\n",
       "      <td>-1.58074e-05</td>\n",
       "      <td>-0.000158044</td>\n",
       "      <td>0.000328789</td>\n",
       "      <td>0.00116339</td>\n",
       "      <td>8.19264e-07</td>\n",
       "      <td>0.000778597</td>\n",
       "      <td>0.000753031</td>\n",
       "      <td>0.00054091</td>\n",
       "      <td>0.0012421</td>\n",
       "      <td>7.22626e-06</td>\n",
       "      <td>7.28807e-05</td>\n",
       "    </tr>\n",
       "    <tr>\n",
       "      <th>2017-03-31</th>\n",
       "      <td>0.00050556</td>\n",
       "      <td>0.0010971</td>\n",
       "      <td>0.000335808</td>\n",
       "      <td>0.00299473</td>\n",
       "      <td>5.46491e-05</td>\n",
       "      <td>-3.14029e-05</td>\n",
       "      <td>0.000292681</td>\n",
       "      <td>-2.51358e-05</td>\n",
       "      <td>-5.82276e-05</td>\n",
       "      <td>1.42394e-06</td>\n",
       "      <td>7.63984e-05</td>\n",
       "      <td>0.000134146</td>\n",
       "      <td>-5.76546e-06</td>\n",
       "      <td>-0.000433781</td>\n",
       "      <td>2.70518e-06</td>\n",
       "      <td>0.00316781</td>\n",
       "    </tr>\n",
       "    <tr>\n",
       "      <th>2017-04-28</th>\n",
       "      <td>0.00704733</td>\n",
       "      <td>0.000986735</td>\n",
       "      <td>3.18743e-05</td>\n",
       "      <td>0.000825638</td>\n",
       "      <td>0.000139602</td>\n",
       "      <td>-8.91079e-05</td>\n",
       "      <td>0.00052812</td>\n",
       "      <td>0.000130225</td>\n",
       "      <td>0.00120864</td>\n",
       "      <td>-1.86167e-05</td>\n",
       "      <td>0.00011987</td>\n",
       "      <td>0.000306683</td>\n",
       "      <td>4.47662e-05</td>\n",
       "      <td>1.04722e-05</td>\n",
       "      <td>-0.000394294</td>\n",
       "      <td>0.000316895</td>\n",
       "    </tr>\n",
       "    <tr>\n",
       "      <th>2017-05-31</th>\n",
       "      <td>0.00636993</td>\n",
       "      <td>0.00299292</td>\n",
       "      <td>0.000410524</td>\n",
       "      <td>0.000554462</td>\n",
       "      <td>0.000180641</td>\n",
       "      <td>-0.000121692</td>\n",
       "      <td>1.05951e-05</td>\n",
       "      <td>9.94542e-05</td>\n",
       "      <td>0.00107958</td>\n",
       "      <td>-0.000316843</td>\n",
       "      <td>0.00038788</td>\n",
       "      <td>0.000705693</td>\n",
       "      <td>-6.73083e-07</td>\n",
       "      <td>1.21759e-05</td>\n",
       "      <td>5.33167e-06</td>\n",
       "      <td>-0.000630462</td>\n",
       "    </tr>\n",
       "  </tbody>\n",
       "</table>\n",
       "</div>"
      ],
      "text/plain": [
       "                   VTI          VGK          VPL          VWO          PFF  \\\n",
       "2017-01-31   0.0121411   0.00181638   0.00266142   0.00293607  0.000256346   \n",
       "2017-02-28   0.0224497  0.000283031    0.0011773   0.00231925 -0.000531426   \n",
       "2017-03-31  0.00050556    0.0010971  0.000335808   0.00299473  5.46491e-05   \n",
       "2017-04-28  0.00704733  0.000986735  3.18743e-05  0.000825638  0.000139602   \n",
       "2017-05-31  0.00636993   0.00299292  0.000410524  0.000554462  0.000180641   \n",
       "\n",
       "                    IEI          BWX          AGG          BND          FXY  \\\n",
       "2017-01-31 -0.000126085  -0.00020893 -1.14381e-07  0.000290472  -0.00050756   \n",
       "2017-02-28 -1.58074e-05 -0.000158044  0.000328789   0.00116339  8.19264e-07   \n",
       "2017-03-31 -3.14029e-05  0.000292681 -2.51358e-05 -5.82276e-05  1.42394e-06   \n",
       "2017-04-28 -8.91079e-05   0.00052812  0.000130225   0.00120864 -1.86167e-05   \n",
       "2017-05-31 -0.000121692  1.05951e-05  9.94542e-05   0.00107958 -0.000316843   \n",
       "\n",
       "                    FXF          UDN          IAU          AOA          AOK  \\\n",
       "2017-01-31   4.6609e-06  6.66046e-07  -0.00100504  0.000749228  2.94121e-06   \n",
       "2017-02-28  0.000778597  0.000753031   0.00054091    0.0012421  7.22626e-06   \n",
       "2017-03-31  7.63984e-05  0.000134146 -5.76546e-06 -0.000433781  2.70518e-06   \n",
       "2017-04-28   0.00011987  0.000306683  4.47662e-05  1.04722e-05 -0.000394294   \n",
       "2017-05-31   0.00038788  0.000705693 -6.73083e-07  1.21759e-05  5.33167e-06   \n",
       "\n",
       "                    USO  \n",
       "2017-01-31 -0.000657332  \n",
       "2017-02-28  7.28807e-05  \n",
       "2017-03-31   0.00316781  \n",
       "2017-04-28  0.000316895  \n",
       "2017-05-31 -0.000630462  "
      ]
     },
     "execution_count": 25,
     "metadata": {},
     "output_type": "execute_result"
    }
   ],
   "source": [
    "# BL Model各資產每月報酬率\n",
    "returns_bl = pd.DataFrame(columns=tickers,index=pd.date_range('2017/1/1','2019/4/30', freq='BM'))\n",
    "for time in period_2:\n",
    "    days = returns[time].shape[0]\n",
    "    r = np.array(returns[time].mean().values)*days\n",
    "    w = w_bl[time].values\n",
    "    tmp_ret_bl = r * w\n",
    "    returns_bl[time] = tmp_ret_bl\n",
    "        \n",
    "returns_bl.head()"
   ]
  },
  {
   "cell_type": "code",
   "execution_count": 26,
   "metadata": {},
   "outputs": [
    {
     "data": {
      "text/html": [
       "<div>\n",
       "<style scoped>\n",
       "    .dataframe tbody tr th:only-of-type {\n",
       "        vertical-align: middle;\n",
       "    }\n",
       "\n",
       "    .dataframe tbody tr th {\n",
       "        vertical-align: top;\n",
       "    }\n",
       "\n",
       "    .dataframe thead th {\n",
       "        text-align: right;\n",
       "    }\n",
       "</style>\n",
       "<table border=\"1\" class=\"dataframe\">\n",
       "  <thead>\n",
       "    <tr style=\"text-align: right;\">\n",
       "      <th></th>\n",
       "      <th>VTI</th>\n",
       "      <th>VGK</th>\n",
       "      <th>VPL</th>\n",
       "      <th>VWO</th>\n",
       "      <th>PFF</th>\n",
       "      <th>IEI</th>\n",
       "      <th>BWX</th>\n",
       "      <th>AGG</th>\n",
       "      <th>BND</th>\n",
       "      <th>FXY</th>\n",
       "      <th>FXF</th>\n",
       "      <th>UDN</th>\n",
       "      <th>IAU</th>\n",
       "      <th>AOA</th>\n",
       "      <th>AOK</th>\n",
       "      <th>USO</th>\n",
       "    </tr>\n",
       "  </thead>\n",
       "  <tbody>\n",
       "    <tr>\n",
       "      <th>2017-01-31</th>\n",
       "      <td>0.011755</td>\n",
       "      <td>0.000332429</td>\n",
       "      <td>0.000208079</td>\n",
       "      <td>0.00308287</td>\n",
       "      <td>0.000269163</td>\n",
       "      <td>2.6585e-05</td>\n",
       "      <td>8.63355e-06</td>\n",
       "      <td>0.00011606</td>\n",
       "      <td>0.000377946</td>\n",
       "      <td>6.15963e-06</td>\n",
       "      <td>4.89395e-06</td>\n",
       "      <td>6.99349e-07</td>\n",
       "      <td>0.000946161</td>\n",
       "      <td>1.42398e-05</td>\n",
       "      <td>3.08827e-06</td>\n",
       "      <td>-0.000198661</td>\n",
       "    </tr>\n",
       "    <tr>\n",
       "      <th>2017-02-28</th>\n",
       "      <td>0.0230184</td>\n",
       "      <td>6.76631e-05</td>\n",
       "      <td>9.19738e-05</td>\n",
       "      <td>0.00123128</td>\n",
       "      <td>0.000233699</td>\n",
       "      <td>2.36113e-05</td>\n",
       "      <td>1.81407e-06</td>\n",
       "      <td>0.000345228</td>\n",
       "      <td>0.00122156</td>\n",
       "      <td>8.60227e-07</td>\n",
       "      <td>-2.6908e-06</td>\n",
       "      <td>-3.92512e-07</td>\n",
       "      <td>0.000567955</td>\n",
       "      <td>1.69334e-05</td>\n",
       "      <td>7.58757e-06</td>\n",
       "      <td>7.65247e-05</td>\n",
       "    </tr>\n",
       "    <tr>\n",
       "      <th>2017-03-31</th>\n",
       "      <td>0.000551235</td>\n",
       "      <td>0.000493576</td>\n",
       "      <td>7.83538e-05</td>\n",
       "      <td>0.00158966</td>\n",
       "      <td>5.73816e-05</td>\n",
       "      <td>9.98308e-06</td>\n",
       "      <td>4.5537e-06</td>\n",
       "      <td>-2.63926e-05</td>\n",
       "      <td>-6.61751e-05</td>\n",
       "      <td>1.49514e-06</td>\n",
       "      <td>3.64373e-07</td>\n",
       "      <td>1.59523e-07</td>\n",
       "      <td>-3.64752e-05</td>\n",
       "      <td>8.48892e-06</td>\n",
       "      <td>2.84044e-06</td>\n",
       "      <td>-0.000433862</td>\n",
       "    </tr>\n",
       "    <tr>\n",
       "      <th>2017-04-28</th>\n",
       "      <td>0.00682219</td>\n",
       "      <td>0.000440573</td>\n",
       "      <td>3.3468e-05</td>\n",
       "      <td>0.000866919</td>\n",
       "      <td>0.000146582</td>\n",
       "      <td>5.92479e-05</td>\n",
       "      <td>8.24982e-06</td>\n",
       "      <td>0.000483819</td>\n",
       "      <td>0.00157391</td>\n",
       "      <td>-2.21201e-07</td>\n",
       "      <td>9.50899e-07</td>\n",
       "      <td>3.70332e-07</td>\n",
       "      <td>0.000303494</td>\n",
       "      <td>1.09959e-05</td>\n",
       "      <td>5.47692e-06</td>\n",
       "      <td>-0.000226358</td>\n",
       "    </tr>\n",
       "    <tr>\n",
       "      <th>2017-05-31</th>\n",
       "      <td>0.0065304</td>\n",
       "      <td>0.000547188</td>\n",
       "      <td>9.45259e-05</td>\n",
       "      <td>0.000582186</td>\n",
       "      <td>6.26625e-05</td>\n",
       "      <td>3.90196e-05</td>\n",
       "      <td>1.11249e-05</td>\n",
       "      <td>0.000367165</td>\n",
       "      <td>0.001405</td>\n",
       "      <td>1.08865e-06</td>\n",
       "      <td>4.61592e-06</td>\n",
       "      <td>5.14391e-07</td>\n",
       "      <td>-4.66004e-06</td>\n",
       "      <td>1.27846e-05</td>\n",
       "      <td>5.59825e-06</td>\n",
       "      <td>-0.000140587</td>\n",
       "    </tr>\n",
       "  </tbody>\n",
       "</table>\n",
       "</div>"
      ],
      "text/plain": [
       "                    VTI          VGK          VPL          VWO          PFF  \\\n",
       "2017-01-31     0.011755  0.000332429  0.000208079   0.00308287  0.000269163   \n",
       "2017-02-28    0.0230184  6.76631e-05  9.19738e-05   0.00123128  0.000233699   \n",
       "2017-03-31  0.000551235  0.000493576  7.83538e-05   0.00158966  5.73816e-05   \n",
       "2017-04-28   0.00682219  0.000440573   3.3468e-05  0.000866919  0.000146582   \n",
       "2017-05-31    0.0065304  0.000547188  9.45259e-05  0.000582186  6.26625e-05   \n",
       "\n",
       "                    IEI          BWX          AGG          BND          FXY  \\\n",
       "2017-01-31   2.6585e-05  8.63355e-06   0.00011606  0.000377946  6.15963e-06   \n",
       "2017-02-28  2.36113e-05  1.81407e-06  0.000345228   0.00122156  8.60227e-07   \n",
       "2017-03-31  9.98308e-06   4.5537e-06 -2.63926e-05 -6.61751e-05  1.49514e-06   \n",
       "2017-04-28  5.92479e-05  8.24982e-06  0.000483819   0.00157391 -2.21201e-07   \n",
       "2017-05-31  3.90196e-05  1.11249e-05  0.000367165     0.001405  1.08865e-06   \n",
       "\n",
       "                    FXF          UDN          IAU          AOA          AOK  \\\n",
       "2017-01-31  4.89395e-06  6.99349e-07  0.000946161  1.42398e-05  3.08827e-06   \n",
       "2017-02-28  -2.6908e-06 -3.92512e-07  0.000567955  1.69334e-05  7.58757e-06   \n",
       "2017-03-31  3.64373e-07  1.59523e-07 -3.64752e-05  8.48892e-06  2.84044e-06   \n",
       "2017-04-28  9.50899e-07  3.70332e-07  0.000303494  1.09959e-05  5.47692e-06   \n",
       "2017-05-31  4.61592e-06  5.14391e-07 -4.66004e-06  1.27846e-05  5.59825e-06   \n",
       "\n",
       "                    USO  \n",
       "2017-01-31 -0.000198661  \n",
       "2017-02-28  7.65247e-05  \n",
       "2017-03-31 -0.000433862  \n",
       "2017-04-28 -0.000226358  \n",
       "2017-05-31 -0.000140587  "
      ]
     },
     "execution_count": 26,
     "metadata": {},
     "output_type": "execute_result"
    }
   ],
   "source": [
    "# Equilibrium 各資產每月報酬率\n",
    "returns_eq = pd.DataFrame(columns=tickers,index=pd.date_range('2017/1/1','2019/4/30', freq='BM'))\n",
    "for time in period_2:\n",
    "    days = returns[time].shape[0]\n",
    "    r = np.array(returns[time].mean().values)*days\n",
    "    w = w_eq\n",
    "    tmp_ret_eq = r * w\n",
    "    #print(\"port ret:\", tmp_ret_eq)\n",
    "    returns_eq[time] = tmp_ret_eq[np.newaxis,:]    #ret[time].shape = (1,16)\n",
    "\n",
    "returns_eq.head()"
   ]
  },
  {
   "cell_type": "markdown",
   "metadata": {},
   "source": [
    "<b>兩投資組合每月報酬率比較"
   ]
  },
  {
   "cell_type": "code",
   "execution_count": 27,
   "metadata": {
    "scrolled": true
   },
   "outputs": [
    {
     "data": {
      "text/html": [
       "<div>\n",
       "<style scoped>\n",
       "    .dataframe tbody tr th:only-of-type {\n",
       "        vertical-align: middle;\n",
       "    }\n",
       "\n",
       "    .dataframe tbody tr th {\n",
       "        vertical-align: top;\n",
       "    }\n",
       "\n",
       "    .dataframe thead th {\n",
       "        text-align: right;\n",
       "    }\n",
       "</style>\n",
       "<table border=\"1\" class=\"dataframe\">\n",
       "  <thead>\n",
       "    <tr style=\"text-align: right;\">\n",
       "      <th></th>\n",
       "      <th>Equilibrium</th>\n",
       "      <th>BL Model</th>\n",
       "      <th>Outperform</th>\n",
       "    </tr>\n",
       "  </thead>\n",
       "  <tbody>\n",
       "    <tr>\n",
       "      <th>2017-01</th>\n",
       "      <td>0.0169533</td>\n",
       "      <td>0.0183542</td>\n",
       "      <td>Yes</td>\n",
       "    </tr>\n",
       "    <tr>\n",
       "      <th>2017-02</th>\n",
       "      <td>0.026902</td>\n",
       "      <td>0.0304118</td>\n",
       "      <td>Yes</td>\n",
       "    </tr>\n",
       "    <tr>\n",
       "      <th>2017-03</th>\n",
       "      <td>0.00223518</td>\n",
       "      <td>0.00810871</td>\n",
       "      <td>Yes</td>\n",
       "    </tr>\n",
       "    <tr>\n",
       "      <th>2017-04</th>\n",
       "      <td>0.0105297</td>\n",
       "      <td>0.0111948</td>\n",
       "      <td>Yes</td>\n",
       "    </tr>\n",
       "    <tr>\n",
       "      <th>2017-05</th>\n",
       "      <td>0.00951863</td>\n",
       "      <td>0.0117395</td>\n",
       "      <td>Yes</td>\n",
       "    </tr>\n",
       "  </tbody>\n",
       "</table>\n",
       "</div>"
      ],
      "text/plain": [
       "        Equilibrium    BL Model Outperform\n",
       "2017-01   0.0169533   0.0183542        Yes\n",
       "2017-02    0.026902   0.0304118        Yes\n",
       "2017-03  0.00223518  0.00810871        Yes\n",
       "2017-04   0.0105297   0.0111948        Yes\n",
       "2017-05  0.00951863   0.0117395        Yes"
      ]
     },
     "execution_count": 27,
     "metadata": {},
     "output_type": "execute_result"
    }
   ],
   "source": [
    "port_ret_bl = returns_bl.sum(axis=1)   #列加總\n",
    "port_ret_eq = returns_eq.sum(axis=1)\n",
    "\n",
    "comparison_ret = pd.DataFrame(columns=[\"Equilibrium\", \"BL Model\", \"Outperform\"], index=pd.period_range('2017/1',freq='M', periods=28))\n",
    "for time in period_2:\n",
    "    comparison_ret.loc[time, \"Equilibrium\"] = port_ret_eq[time].values[0]   #type: ndarray\n",
    "    comparison_ret.loc[time, \"BL Model\"] = port_ret_bl[time].values[0]\n",
    "    if port_ret_eq[time].values[0] < port_ret_bl[time].values[0]:\n",
    "        comparison_ret.loc[time, \"Outperform\"] = \"Yes\"\n",
    "    else:\n",
    "        comparison_ret.loc[time, \"Outperform\"] = \"No\"\n",
    "\n",
    "comparison_ret.head()"
   ]
  },
  {
   "cell_type": "code",
   "execution_count": 28,
   "metadata": {},
   "outputs": [
    {
     "data": {
      "text/plain": [
       "Yes    19\n",
       "No      9\n",
       "Name: Outperform, dtype: int64"
      ]
     },
     "execution_count": 28,
     "metadata": {},
     "output_type": "execute_result"
    }
   ],
   "source": [
    "comparison_ret[\"Outperform\"].value_counts()"
   ]
  },
  {
   "cell_type": "markdown",
   "metadata": {},
   "source": [
    "<b> 〈結果〉兩投資組合第二段期間的整體年報酬率比較"
   ]
  },
  {
   "cell_type": "code",
   "execution_count": 29,
   "metadata": {
    "scrolled": true
   },
   "outputs": [
    {
     "name": "stdout",
     "output_type": "stream",
     "text": [
      "Equilibrium return: 0.10640639397742974\n",
      "BL Model return: 0.1291231643760275\n"
     ]
    }
   ],
   "source": [
    "eq_ret = comparison_ret[\"Equilibrium\"].mean()*12\n",
    "bl_ret = comparison_ret[\"BL Model\"].mean()*12\n",
    "print(\"Equilibrium return:\", eq_ret)\n",
    "print(\"BL Model return:\", bl_ret)"
   ]
  },
  {
   "cell_type": "markdown",
   "metadata": {},
   "source": [
    "<b> (2) 投資組合波動率比較"
   ]
  },
  {
   "cell_type": "markdown",
   "metadata": {},
   "source": [
    "投資組合波動率公式：var(p) = wa^2 * var(a) + wb^2 * var(b) + 2 * wa * wb * cov(a,b)\n",
    "<br>matrix method： var(p) = w(1,19) * var-cov matrix(19,19) * w'(19,1)"
   ]
  },
  {
   "cell_type": "code",
   "execution_count": 30,
   "metadata": {},
   "outputs": [],
   "source": [
    "volatility = pd.DataFrame(columns=tickers, index=pd.period_range('2017/1',freq='M', periods=28))\n",
    "for time in period_2:\n",
    "    volatility[time] = returns[time].std().values[np.newaxis, :]   #增加dim from (19,)to (1,19)"
   ]
  },
  {
   "cell_type": "markdown",
   "metadata": {},
   "source": [
    "<b>兩投資組合每月波動率比較"
   ]
  },
  {
   "cell_type": "code",
   "execution_count": 31,
   "metadata": {
    "scrolled": true
   },
   "outputs": [
    {
     "data": {
      "text/html": [
       "<div>\n",
       "<style scoped>\n",
       "    .dataframe tbody tr th:only-of-type {\n",
       "        vertical-align: middle;\n",
       "    }\n",
       "\n",
       "    .dataframe tbody tr th {\n",
       "        vertical-align: top;\n",
       "    }\n",
       "\n",
       "    .dataframe thead th {\n",
       "        text-align: right;\n",
       "    }\n",
       "</style>\n",
       "<table border=\"1\" class=\"dataframe\">\n",
       "  <thead>\n",
       "    <tr style=\"text-align: right;\">\n",
       "      <th></th>\n",
       "      <th>Equilibrium</th>\n",
       "      <th>BL Model</th>\n",
       "      <th>Outperform</th>\n",
       "    </tr>\n",
       "  </thead>\n",
       "  <tbody>\n",
       "    <tr>\n",
       "      <th>2017-01</th>\n",
       "      <td>0.00298959</td>\n",
       "      <td>0.00382962</td>\n",
       "      <td>No</td>\n",
       "    </tr>\n",
       "    <tr>\n",
       "      <th>2017-02</th>\n",
       "      <td>0.00208415</td>\n",
       "      <td>0.00275433</td>\n",
       "      <td>No</td>\n",
       "    </tr>\n",
       "    <tr>\n",
       "      <th>2017-03</th>\n",
       "      <td>0.00399513</td>\n",
       "      <td>0.00380049</td>\n",
       "      <td>Yes</td>\n",
       "    </tr>\n",
       "    <tr>\n",
       "      <th>2017-04</th>\n",
       "      <td>0.00310141</td>\n",
       "      <td>0.0034178</td>\n",
       "      <td>No</td>\n",
       "    </tr>\n",
       "    <tr>\n",
       "      <th>2017-05</th>\n",
       "      <td>0.00326688</td>\n",
       "      <td>0.00384442</td>\n",
       "      <td>No</td>\n",
       "    </tr>\n",
       "  </tbody>\n",
       "</table>\n",
       "</div>"
      ],
      "text/plain": [
       "        Equilibrium    BL Model Outperform\n",
       "2017-01  0.00298959  0.00382962         No\n",
       "2017-02  0.00208415  0.00275433         No\n",
       "2017-03  0.00399513  0.00380049        Yes\n",
       "2017-04  0.00310141   0.0034178         No\n",
       "2017-05  0.00326688  0.00384442         No"
      ]
     },
     "execution_count": 31,
     "metadata": {},
     "output_type": "execute_result"
    }
   ],
   "source": [
    "#cov(assets) = sigma\n",
    "comparison_vol = pd.DataFrame(columns=[\"Equilibrium\", \"BL Model\", \"Outperform\"], index=pd.period_range('2017/1',freq='M', periods=28))\n",
    "#print(comparison_vol)\n",
    "for time in period_2:\n",
    "    sigma = returns[time].cov()\n",
    "    # variance\n",
    "    tmp_bl = np.array(w_bl[time].values.dot(sigma).dot(np.transpose(w_bl[time])), dtype=np.float64)  #.values shape: (1,19) #outcome: (1,1)\n",
    "    tmp_eq = np.array(w_eq).dot(sigma).dot(np.transpose(w_eq))\n",
    "    #print(type(tmp_bl))\n",
    "    # std\n",
    "    #print(comparison_vol.ix[time,0])\n",
    "    comparison_vol.loc[time, \"Equilibrium\"] = np.sqrt(tmp_eq)\n",
    "    comparison_vol.loc[time, \"BL Model\"] = np.sqrt(tmp_bl)[0][0]  #float64才能使用sqrt\n",
    "    if tmp_bl < tmp_eq:\n",
    "        comparison_vol.loc[time, \"Outperform\"] = \"Yes\"\n",
    "    else:\n",
    "        comparison_vol.loc[time, \"Outperform\"] = \"No\"\n",
    "    \n",
    "comparison_vol.head()"
   ]
  },
  {
   "cell_type": "code",
   "execution_count": 32,
   "metadata": {
    "scrolled": false
   },
   "outputs": [
    {
     "data": {
      "text/plain": [
       "No     15\n",
       "Yes    13\n",
       "Name: Outperform, dtype: int64"
      ]
     },
     "execution_count": 32,
     "metadata": {},
     "output_type": "execute_result"
    }
   ],
   "source": [
    "comparison_vol[\"Outperform\"].value_counts()"
   ]
  },
  {
   "cell_type": "markdown",
   "metadata": {},
   "source": [
    "<b> 〈結果〉兩投資組合第二段期間的整體年波動率比較"
   ]
  },
  {
   "cell_type": "code",
   "execution_count": 33,
   "metadata": {},
   "outputs": [
    {
     "name": "stdout",
     "output_type": "stream",
     "text": [
      "Equilibrium volatility: 0.08395839448321883\n",
      "BL Model volatility: 0.07660208491691488\n"
     ]
    }
   ],
   "source": [
    "eq_vol = comparison_ret[\"Equilibrium\"].std()*np.sqrt(12)\n",
    "bl_vol = comparison_ret[\"BL Model\"].std()*np.sqrt(12)\n",
    "print(\"Equilibrium volatility:\", eq_vol)\n",
    "print(\"BL Model volatility:\", bl_vol)"
   ]
  },
  {
   "cell_type": "markdown",
   "metadata": {},
   "source": [
    "<b> (3) 投資組合Sharpe ratio比較"
   ]
  },
  {
   "cell_type": "markdown",
   "metadata": {},
   "source": [
    "<b>兩投資組合每月Sharpe ratio比較"
   ]
  },
  {
   "cell_type": "code",
   "execution_count": 34,
   "metadata": {
    "scrolled": true
   },
   "outputs": [
    {
     "data": {
      "text/html": [
       "<div>\n",
       "<style scoped>\n",
       "    .dataframe tbody tr th:only-of-type {\n",
       "        vertical-align: middle;\n",
       "    }\n",
       "\n",
       "    .dataframe tbody tr th {\n",
       "        vertical-align: top;\n",
       "    }\n",
       "\n",
       "    .dataframe thead th {\n",
       "        text-align: right;\n",
       "    }\n",
       "</style>\n",
       "<table border=\"1\" class=\"dataframe\">\n",
       "  <thead>\n",
       "    <tr style=\"text-align: right;\">\n",
       "      <th></th>\n",
       "      <th>Equilibrium</th>\n",
       "      <th>BL Model</th>\n",
       "      <th>Outperform</th>\n",
       "    </tr>\n",
       "  </thead>\n",
       "  <tbody>\n",
       "    <tr>\n",
       "      <th>2017-01</th>\n",
       "      <td>5.6708</td>\n",
       "      <td>4.79268</td>\n",
       "      <td>No</td>\n",
       "    </tr>\n",
       "    <tr>\n",
       "      <th>2017-02</th>\n",
       "      <td>12.9079</td>\n",
       "      <td>11.0414</td>\n",
       "      <td>No</td>\n",
       "    </tr>\n",
       "    <tr>\n",
       "      <th>2017-03</th>\n",
       "      <td>0.559476</td>\n",
       "      <td>2.1336</td>\n",
       "      <td>Yes</td>\n",
       "    </tr>\n",
       "    <tr>\n",
       "      <th>2017-04</th>\n",
       "      <td>3.39513</td>\n",
       "      <td>3.27544</td>\n",
       "      <td>No</td>\n",
       "    </tr>\n",
       "    <tr>\n",
       "      <th>2017-05</th>\n",
       "      <td>2.91368</td>\n",
       "      <td>3.05365</td>\n",
       "      <td>Yes</td>\n",
       "    </tr>\n",
       "  </tbody>\n",
       "</table>\n",
       "</div>"
      ],
      "text/plain": [
       "        Equilibrium BL Model Outperform\n",
       "2017-01      5.6708  4.79268         No\n",
       "2017-02     12.9079  11.0414         No\n",
       "2017-03    0.559476   2.1336        Yes\n",
       "2017-04     3.39513  3.27544         No\n",
       "2017-05     2.91368  3.05365        Yes"
      ]
     },
     "execution_count": 34,
     "metadata": {},
     "output_type": "execute_result"
    }
   ],
   "source": [
    "comparison_sharpe = pd.DataFrame(columns=[\"Equilibrium\", \"BL Model\", \"Outperform\"], index=pd.period_range('2017/1',freq='M', periods=28))\n",
    "for time in period_2:\n",
    "    tmp_eq = comparison_ret.loc[time,\"Equilibrium\"] / comparison_vol.loc[time,\"Equilibrium\"]\n",
    "    tmp_bl = comparison_ret.loc[time,\"BL Model\"] / comparison_vol.loc[time,\"BL Model\"]\n",
    "    comparison_sharpe.loc[time, \"Equilibrium\"] = tmp_eq\n",
    "    comparison_sharpe.loc[time, \"BL Model\"] = tmp_bl\n",
    "    if tmp_bl > tmp_eq:\n",
    "        comparison_sharpe.loc[time, \"Outperform\"] = \"Yes\"\n",
    "    else:\n",
    "        comparison_sharpe.loc[time, \"Outperform\"] = \"No\"\n",
    "        \n",
    "comparison_sharpe.head()"
   ]
  },
  {
   "cell_type": "code",
   "execution_count": 35,
   "metadata": {},
   "outputs": [
    {
     "data": {
      "text/plain": [
       "Yes    17\n",
       "No     11\n",
       "Name: Outperform, dtype: int64"
      ]
     },
     "execution_count": 35,
     "metadata": {},
     "output_type": "execute_result"
    }
   ],
   "source": [
    "comparison_sharpe[\"Outperform\"].value_counts()"
   ]
  },
  {
   "cell_type": "markdown",
   "metadata": {},
   "source": [
    "<b> 〈結果〉兩投資組合第二段期間的整體Sharpe ratio比較"
   ]
  },
  {
   "cell_type": "code",
   "execution_count": 36,
   "metadata": {
    "scrolled": true
   },
   "outputs": [
    {
     "name": "stdout",
     "output_type": "stream",
     "text": [
      "Equilibrium Sharpe: 1.2673705188430884\n",
      "BL Model Sharpe: 1.6856351170608306\n"
     ]
    }
   ],
   "source": [
    "print(\"Equilibrium Sharpe:\", eq_ret/eq_vol)\n",
    "print(\"BL Model Sharpe:\", bl_ret/bl_vol)"
   ]
  },
  {
   "cell_type": "markdown",
   "metadata": {},
   "source": [
    "## 〈結論〉"
   ]
  },
  {
   "cell_type": "markdown",
   "metadata": {},
   "source": [
    "<b> 資產日報酬率 (僅列舉部分ETF)"
   ]
  },
  {
   "cell_type": "code",
   "execution_count": 37,
   "metadata": {},
   "outputs": [
    {
     "data": {
      "text/plain": [
       "<matplotlib.axes._subplots.AxesSubplot at 0x114eab588>"
      ]
     },
     "execution_count": 37,
     "metadata": {},
     "output_type": "execute_result"
    },
    {
     "data": {
      "image/png": "[encoded data removed]",
      "text/plain": [
       "<Figure size 432x288 with 4 Axes>"
      ]
     },
     "metadata": {
      "needs_background": "light"
     },
     "output_type": "display_data"
    }
   ],
   "source": [
    "#開始畫圖\n",
    "plt.subplots_adjust(top=1.5, bottom=0, left=0.3, right=2, hspace=0.8, wspace=0.2)\n",
    "plt.subplot(3,2,1)   #2：共兩列，2：共兩行，1：目前在第一格子圖\n",
    "plt.title(\"VTI Price\")\n",
    "data[tickers[0]].plot()\n",
    "plt.subplot(3,2,2)\n",
    "plt.title(\"VTI return\")\n",
    "returns[tickers[0]].plot()\n",
    "# color=\"m\"\n",
    "plt.subplot(3,2,3)   #2：共兩列，2：共兩行，1：目前在第一格子圖\n",
    "plt.title(\"USO Price\")\n",
    "data[tickers[15]].plot(color=\"orange\")\n",
    "plt.subplot(3,2,4)\n",
    "plt.title(\"USO return\")\n",
    "returns[tickers[15]].plot(color=\"orange\")"
   ]
  },
  {
   "cell_type": "markdown",
   "metadata": {},
   "source": [
    "<b> Portfolio Return比較"
   ]
  },
  {
   "cell_type": "code",
   "execution_count": 38,
   "metadata": {},
   "outputs": [
    {
     "data": {
      "image/png": "[encoded data removed]",
      "text/plain": [
       "<Figure size 864x432 with 1 Axes>"
      ]
     },
     "metadata": {
      "needs_background": "light"
     },
     "output_type": "display_data"
    },
    {
     "name": "stdout",
     "output_type": "stream",
     "text": [
      "Equilibrium total return: 0.10640639397742974\n",
      "BL Model total return: 0.1291231643760275\n"
     ]
    }
   ],
   "source": [
    "plt.figure(figsize=(12,6))\n",
    "\n",
    "comparison_ret[\"Equilibrium\"].plot(linewidth=2)\n",
    "comparison_ret[\"BL Model\"].plot(linewidth=2)\n",
    "\n",
    "plt.grid(True)\n",
    "plt.legend(loc='lower left', fontsize=12)\n",
    "plt.xlabel('time')\n",
    "plt.ylabel('portfolio return')\n",
    "plt.title('Comparison of Portfolio Return')\n",
    "plt.show()\n",
    "\n",
    "print(\"Equilibrium total return:\",eq_ret)\n",
    "print(\"BL Model total return:\", bl_ret)"
   ]
  },
  {
   "cell_type": "markdown",
   "metadata": {},
   "source": [
    "<b> Portfolio Volatility 比較"
   ]
  },
  {
   "cell_type": "code",
   "execution_count": 39,
   "metadata": {},
   "outputs": [
    {
     "data": {
      "image/png": "[encoded data removed]",
      "text/plain": [
       "<Figure size 864x432 with 1 Axes>"
      ]
     },
     "metadata": {
      "needs_background": "light"
     },
     "output_type": "display_data"
    },
    {
     "name": "stdout",
     "output_type": "stream",
     "text": [
      "Equilibrium volatility: 0.08395839448321883\n",
      "BL Model volatility: 0.07660208491691488\n"
     ]
    }
   ],
   "source": [
    "plt.figure(figsize=(12,6))\n",
    "\n",
    "comparison_vol[\"Equilibrium\"].plot(linewidth=2)\n",
    "comparison_vol[\"BL Model\"].plot(linewidth=2)\n",
    "\n",
    "plt.grid(True)\n",
    "plt.legend(loc='lower left', fontsize=12)\n",
    "plt.xlabel('time')\n",
    "plt.ylabel('portfolio volatility')\n",
    "plt.title('Comparison of Portfolio Volatility')\n",
    "plt.show()\n",
    "\n",
    "print(\"Equilibrium volatility:\", eq_vol)\n",
    "print(\"BL Model volatility:\", bl_vol)"
   ]
  },
  {
   "cell_type": "markdown",
   "metadata": {},
   "source": [
    "<b> Portfolio Sharpe Ratio比較"
   ]
  },
  {
   "cell_type": "code",
   "execution_count": 40,
   "metadata": {},
   "outputs": [
    {
     "data": {
      "image/png": "[encoded data removed]",
      "text/plain": [
       "<Figure size 864x504 with 1 Axes>"
      ]
     },
     "metadata": {
      "needs_background": "light"
     },
     "output_type": "display_data"
    },
    {
     "name": "stdout",
     "output_type": "stream",
     "text": [
      "Equilibrium Sharpe: 1.2673705188430884\n",
      "BL Model Sharpe: 1.6856351170608306\n"
     ]
    }
   ],
   "source": [
    "plt.figure(figsize=(12,7))\n",
    "\n",
    "plt.scatter(comparison_vol[\"Equilibrium\"], comparison_ret[\"Equilibrium\"], label=\"Equilibrium\",marker='^')\n",
    "plt.scatter(comparison_vol[\"BL Model\"], comparison_ret[\"BL Model\"], label=\"BL Model\",marker='.')\n",
    "\n",
    "plt.grid(True)\n",
    "plt.legend(loc='lower left', fontsize=12)\n",
    "plt.xlabel('return')\n",
    "plt.ylabel('portfolio volatility')\n",
    "plt.title('Comparison of Portfolio Performance')\n",
    "plt.show()\n",
    "\n",
    "print(\"Equilibrium Sharpe:\", eq_ret/eq_vol)\n",
    "print(\"BL Model Sharpe:\", bl_ret/bl_vol)"
   ]
  }
 ],
 "metadata": {
  "kernelspec": {
   "display_name": "Python 3",
   "language": "python",
   "name": "python3"
  },
  "language_info": {
   "codemirror_mode": {
    "name": "ipython",
    "version": 3
   },
   "file_extension": ".py",
   "mimetype": "text/x-python",
   "name": "python",
   "nbconvert_exporter": "python",
   "pygments_lexer": "ipython3",
   "version": "3.7.1"
  }
 },
 "nbformat": 4,
 "nbformat_minor": 2
}
