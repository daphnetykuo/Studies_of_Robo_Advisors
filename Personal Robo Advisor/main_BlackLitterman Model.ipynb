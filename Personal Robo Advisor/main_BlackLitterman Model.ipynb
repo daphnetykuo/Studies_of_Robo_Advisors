{
 "cells": [
  {
   "cell_type": "code",
   "execution_count": 1,
   "metadata": {},
   "outputs": [],
   "source": [
    "import pandas as pd\n",
    "import numpy as np\n",
    "import matplotlib.pyplot as plt\n",
    "import pandas_datareader.data as web\n",
    "import datetime as dt\n",
    "import statistics as stat\n",
    "import csv\n",
    "import talib"
   ]
  },
  {
   "cell_type": "markdown",
   "metadata": {},
   "source": [
    "## 1.  資料匯入"
   ]
  },
  {
   "cell_type": "code",
   "execution_count": 2,
   "metadata": {
    "scrolled": true
   },
   "outputs": [
    {
     "data": {
      "text/html": [
       "<div>\n",
       "<style scoped>\n",
       "    .dataframe tbody tr th:only-of-type {\n",
       "        vertical-align: middle;\n",
       "    }\n",
       "\n",
       "    .dataframe tbody tr th {\n",
       "        vertical-align: top;\n",
       "    }\n",
       "\n",
       "    .dataframe thead th {\n",
       "        text-align: right;\n",
       "    }\n",
       "</style>\n",
       "<table border=\"1\" class=\"dataframe\">\n",
       "  <thead>\n",
       "    <tr style=\"text-align: right;\">\n",
       "      <th></th>\n",
       "      <th>VTI</th>\n",
       "      <th>VGK</th>\n",
       "      <th>VPL</th>\n",
       "      <th>VWO</th>\n",
       "      <th>PFF</th>\n",
       "      <th>IEI</th>\n",
       "      <th>BWX</th>\n",
       "      <th>AGG</th>\n",
       "      <th>BND</th>\n",
       "      <th>FXY</th>\n",
       "      <th>FXF</th>\n",
       "      <th>UDN</th>\n",
       "      <th>IAU</th>\n",
       "      <th>AOA</th>\n",
       "      <th>AOK</th>\n",
       "      <th>USO</th>\n",
       "    </tr>\n",
       "    <tr>\n",
       "      <th>Date</th>\n",
       "      <th></th>\n",
       "      <th></th>\n",
       "      <th></th>\n",
       "      <th></th>\n",
       "      <th></th>\n",
       "      <th></th>\n",
       "      <th></th>\n",
       "      <th></th>\n",
       "      <th></th>\n",
       "      <th></th>\n",
       "      <th></th>\n",
       "      <th></th>\n",
       "      <th></th>\n",
       "      <th></th>\n",
       "      <th></th>\n",
       "      <th></th>\n",
       "    </tr>\n",
       "  </thead>\n",
       "  <tbody>\n",
       "    <tr>\n",
       "      <th>2014-01-02</th>\n",
       "      <td>84.378860</td>\n",
       "      <td>46.217941</td>\n",
       "      <td>51.057976</td>\n",
       "      <td>33.389236</td>\n",
       "      <td>25.745323</td>\n",
       "      <td>108.694878</td>\n",
       "      <td>27.300598</td>\n",
       "      <td>90.548790</td>\n",
       "      <td>67.201050</td>\n",
       "      <td>93.250000</td>\n",
       "      <td>108.667809</td>\n",
       "      <td>26.176607</td>\n",
       "      <td>11.88</td>\n",
       "      <td>37.321964</td>\n",
       "      <td>27.329165</td>\n",
       "      <td>273.839996</td>\n",
       "    </tr>\n",
       "    <tr>\n",
       "      <th>2014-01-03</th>\n",
       "      <td>84.361145</td>\n",
       "      <td>46.225983</td>\n",
       "      <td>51.244526</td>\n",
       "      <td>33.347179</td>\n",
       "      <td>25.898182</td>\n",
       "      <td>108.613411</td>\n",
       "      <td>27.233980</td>\n",
       "      <td>90.582863</td>\n",
       "      <td>67.209480</td>\n",
       "      <td>93.220001</td>\n",
       "      <td>108.008736</td>\n",
       "      <td>26.050152</td>\n",
       "      <td>12.01</td>\n",
       "      <td>37.347317</td>\n",
       "      <td>27.380636</td>\n",
       "      <td>270.000000</td>\n",
       "    </tr>\n",
       "    <tr>\n",
       "      <th>2014-01-06</th>\n",
       "      <td>84.139259</td>\n",
       "      <td>46.266125</td>\n",
       "      <td>51.032539</td>\n",
       "      <td>33.027584</td>\n",
       "      <td>26.051073</td>\n",
       "      <td>108.785301</td>\n",
       "      <td>27.352930</td>\n",
       "      <td>90.701874</td>\n",
       "      <td>67.268166</td>\n",
       "      <td>93.779999</td>\n",
       "      <td>108.208450</td>\n",
       "      <td>26.137697</td>\n",
       "      <td>12.01</td>\n",
       "      <td>37.296593</td>\n",
       "      <td>27.346323</td>\n",
       "      <td>268.559998</td>\n",
       "    </tr>\n",
       "    <tr>\n",
       "      <th>2014-01-07</th>\n",
       "      <td>84.680595</td>\n",
       "      <td>46.579334</td>\n",
       "      <td>51.185162</td>\n",
       "      <td>33.162144</td>\n",
       "      <td>26.002424</td>\n",
       "      <td>108.875786</td>\n",
       "      <td>27.371956</td>\n",
       "      <td>90.744354</td>\n",
       "      <td>67.352066</td>\n",
       "      <td>93.419998</td>\n",
       "      <td>107.549370</td>\n",
       "      <td>26.079332</td>\n",
       "      <td>11.95</td>\n",
       "      <td>37.465664</td>\n",
       "      <td>27.432093</td>\n",
       "      <td>268.640015</td>\n",
       "    </tr>\n",
       "    <tr>\n",
       "      <th>2014-01-08</th>\n",
       "      <td>84.742729</td>\n",
       "      <td>46.555244</td>\n",
       "      <td>51.261486</td>\n",
       "      <td>33.103275</td>\n",
       "      <td>26.044107</td>\n",
       "      <td>108.468697</td>\n",
       "      <td>27.272049</td>\n",
       "      <td>90.472290</td>\n",
       "      <td>67.133980</td>\n",
       "      <td>93.250000</td>\n",
       "      <td>107.409569</td>\n",
       "      <td>26.020967</td>\n",
       "      <td>11.89</td>\n",
       "      <td>37.448750</td>\n",
       "      <td>27.397795</td>\n",
       "      <td>265.279999</td>\n",
       "    </tr>\n",
       "  </tbody>\n",
       "</table>\n",
       "</div>"
      ],
      "text/plain": [
       "                  VTI        VGK        VPL        VWO        PFF         IEI  \\\n",
       "Date                                                                            \n",
       "2014-01-02  84.378860  46.217941  51.057976  33.389236  25.745323  108.694878   \n",
       "2014-01-03  84.361145  46.225983  51.244526  33.347179  25.898182  108.613411   \n",
       "2014-01-06  84.139259  46.266125  51.032539  33.027584  26.051073  108.785301   \n",
       "2014-01-07  84.680595  46.579334  51.185162  33.162144  26.002424  108.875786   \n",
       "2014-01-08  84.742729  46.555244  51.261486  33.103275  26.044107  108.468697   \n",
       "\n",
       "                  BWX        AGG        BND        FXY         FXF        UDN  \\\n",
       "Date                                                                            \n",
       "2014-01-02  27.300598  90.548790  67.201050  93.250000  108.667809  26.176607   \n",
       "2014-01-03  27.233980  90.582863  67.209480  93.220001  108.008736  26.050152   \n",
       "2014-01-06  27.352930  90.701874  67.268166  93.779999  108.208450  26.137697   \n",
       "2014-01-07  27.371956  90.744354  67.352066  93.419998  107.549370  26.079332   \n",
       "2014-01-08  27.272049  90.472290  67.133980  93.250000  107.409569  26.020967   \n",
       "\n",
       "              IAU        AOA        AOK         USO  \n",
       "Date                                                 \n",
       "2014-01-02  11.88  37.321964  27.329165  273.839996  \n",
       "2014-01-03  12.01  37.347317  27.380636  270.000000  \n",
       "2014-01-06  12.01  37.296593  27.346323  268.559998  \n",
       "2014-01-07  11.95  37.465664  27.432093  268.640015  \n",
       "2014-01-08  11.89  37.448750  27.397795  265.279999  "
      ]
     },
     "execution_count": 2,
     "metadata": {},
     "output_type": "execute_result"
    }
   ],
   "source": [
    "data = pd.read_csv(\"data_adjclose.csv\", index_col=0 )\n",
    "data.index = pd.to_datetime(data.index)\n",
    "tickers = [i for i in data]\n",
    "data.head()"
   ]
  },
  {
   "cell_type": "code",
   "execution_count": 3,
   "metadata": {},
   "outputs": [],
   "source": [
    "returns = (data - data.shift(1)) / data.shift(1)"
   ]
  },
  {
   "cell_type": "markdown",
   "metadata": {},
   "source": [
    "## 2. 兩種觀點下的long-short portfolio"
   ]
  },
  {
   "cell_type": "markdown",
   "metadata": {},
   "source": [
    "### 技術指標1：KD值"
   ]
  },
  {
   "cell_type": "code",
   "execution_count": 4,
   "metadata": {},
   "outputs": [],
   "source": [
    "from talib import abstract\n",
    "#匯入最高價、最低價、收盤價(未調整)資料\n",
    "high = pd.read_csv(\"data_high.csv\", index_col=0 )\n",
    "high.index = pd.to_datetime(high.index)\n",
    "\n",
    "low = pd.read_csv(\"data_low.csv\", index_col=0 )\n",
    "low.index = pd.to_datetime(low.index)\n",
    "\n",
    "close = pd.read_csv(\"data_close.csv\", index_col=0 )\n",
    "close.index = pd.to_datetime(close.index)"
   ]
  },
  {
   "cell_type": "markdown",
   "metadata": {},
   "source": [
    "<b> (1) 計算KD值"
   ]
  },
  {
   "cell_type": "code",
   "execution_count": 5,
   "metadata": {},
   "outputs": [],
   "source": [
    "def etf2pd(etf):\n",
    "    etf_pd = pd.DataFrame(index=data.index)\n",
    "    etf_pd[\"high\"] = high[etf]\n",
    "    etf_pd[\"low\"] = low[etf]\n",
    "    etf_pd[\"close\"] = close[etf]\n",
    "    return etf_pd"
   ]
  },
  {
   "cell_type": "code",
   "execution_count": 6,
   "metadata": {
    "scrolled": false
   },
   "outputs": [
    {
     "data": {
      "text/html": [
       "<div>\n",
       "<style scoped>\n",
       "    .dataframe tbody tr th:only-of-type {\n",
       "        vertical-align: middle;\n",
       "    }\n",
       "\n",
       "    .dataframe tbody tr th {\n",
       "        vertical-align: top;\n",
       "    }\n",
       "\n",
       "    .dataframe thead th {\n",
       "        text-align: right;\n",
       "    }\n",
       "</style>\n",
       "<table border=\"1\" class=\"dataframe\">\n",
       "  <thead>\n",
       "    <tr style=\"text-align: right;\">\n",
       "      <th></th>\n",
       "      <th>VTI</th>\n",
       "      <th>VGK</th>\n",
       "      <th>VPL</th>\n",
       "      <th>VWO</th>\n",
       "      <th>PFF</th>\n",
       "      <th>IEI</th>\n",
       "      <th>BWX</th>\n",
       "      <th>AGG</th>\n",
       "      <th>BND</th>\n",
       "      <th>FXY</th>\n",
       "      <th>FXF</th>\n",
       "      <th>UDN</th>\n",
       "      <th>IAU</th>\n",
       "      <th>AOA</th>\n",
       "      <th>AOK</th>\n",
       "      <th>USO</th>\n",
       "    </tr>\n",
       "    <tr>\n",
       "      <th>Date</th>\n",
       "      <th></th>\n",
       "      <th></th>\n",
       "      <th></th>\n",
       "      <th></th>\n",
       "      <th></th>\n",
       "      <th></th>\n",
       "      <th></th>\n",
       "      <th></th>\n",
       "      <th></th>\n",
       "      <th></th>\n",
       "      <th></th>\n",
       "      <th></th>\n",
       "      <th></th>\n",
       "      <th></th>\n",
       "      <th></th>\n",
       "      <th></th>\n",
       "    </tr>\n",
       "  </thead>\n",
       "  <tbody>\n",
       "    <tr>\n",
       "      <th>2014-01-31</th>\n",
       "      <td>-0.373405</td>\n",
       "      <td>-4.488967</td>\n",
       "      <td>-1.558912</td>\n",
       "      <td>-0.273394</td>\n",
       "      <td>8.108870</td>\n",
       "      <td>4.734404</td>\n",
       "      <td>-6.240443</td>\n",
       "      <td>6.611788</td>\n",
       "      <td>4.731743</td>\n",
       "      <td>1.876289</td>\n",
       "      <td>-15.047688</td>\n",
       "      <td>-24.857753</td>\n",
       "      <td>-11.111142</td>\n",
       "      <td>-1.024270</td>\n",
       "      <td>0.231531</td>\n",
       "      <td>-0.569352</td>\n",
       "    </tr>\n",
       "    <tr>\n",
       "      <th>2014-02-28</th>\n",
       "      <td>2.386223</td>\n",
       "      <td>-1.898027</td>\n",
       "      <td>-1.829584</td>\n",
       "      <td>5.207537</td>\n",
       "      <td>3.566856</td>\n",
       "      <td>8.161874</td>\n",
       "      <td>3.373307</td>\n",
       "      <td>5.773956</td>\n",
       "      <td>4.646533</td>\n",
       "      <td>11.068509</td>\n",
       "      <td>-2.339315</td>\n",
       "      <td>0.128231</td>\n",
       "      <td>-14.478681</td>\n",
       "      <td>2.319607</td>\n",
       "      <td>1.847188</td>\n",
       "      <td>-2.350346</td>\n",
       "    </tr>\n",
       "    <tr>\n",
       "      <th>2014-03-31</th>\n",
       "      <td>12.747101</td>\n",
       "      <td>15.961315</td>\n",
       "      <td>8.716466</td>\n",
       "      <td>1.808538</td>\n",
       "      <td>0.514737</td>\n",
       "      <td>-1.511757</td>\n",
       "      <td>-0.088840</td>\n",
       "      <td>3.886334</td>\n",
       "      <td>2.368098</td>\n",
       "      <td>-11.905247</td>\n",
       "      <td>-1.168874</td>\n",
       "      <td>-5.285479</td>\n",
       "      <td>0.457240</td>\n",
       "      <td>11.851646</td>\n",
       "      <td>13.777500</td>\n",
       "      <td>0.401607</td>\n",
       "    </tr>\n",
       "    <tr>\n",
       "      <th>2014-04-30</th>\n",
       "      <td>1.588648</td>\n",
       "      <td>3.886991</td>\n",
       "      <td>-6.688849</td>\n",
       "      <td>6.452840</td>\n",
       "      <td>1.286832</td>\n",
       "      <td>16.452395</td>\n",
       "      <td>8.217681</td>\n",
       "      <td>9.046464</td>\n",
       "      <td>7.844880</td>\n",
       "      <td>2.989304</td>\n",
       "      <td>5.062615</td>\n",
       "      <td>7.175798</td>\n",
       "      <td>3.987554</td>\n",
       "      <td>3.378424</td>\n",
       "      <td>1.542213</td>\n",
       "      <td>1.045620</td>\n",
       "    </tr>\n",
       "    <tr>\n",
       "      <th>2014-05-30</th>\n",
       "      <td>-0.198858</td>\n",
       "      <td>4.226532</td>\n",
       "      <td>0.034360</td>\n",
       "      <td>-12.878495</td>\n",
       "      <td>11.366503</td>\n",
       "      <td>-11.109611</td>\n",
       "      <td>4.261365</td>\n",
       "      <td>-0.082890</td>\n",
       "      <td>-6.337857</td>\n",
       "      <td>4.958068</td>\n",
       "      <td>6.990604</td>\n",
       "      <td>0.926050</td>\n",
       "      <td>-0.830660</td>\n",
       "      <td>-2.546350</td>\n",
       "      <td>-11.685799</td>\n",
       "      <td>-13.322157</td>\n",
       "    </tr>\n",
       "  </tbody>\n",
       "</table>\n",
       "</div>"
      ],
      "text/plain": [
       "                  VTI        VGK       VPL        VWO        PFF        IEI  \\\n",
       "Date                                                                          \n",
       "2014-01-31  -0.373405  -4.488967 -1.558912  -0.273394   8.108870   4.734404   \n",
       "2014-02-28   2.386223  -1.898027 -1.829584   5.207537   3.566856   8.161874   \n",
       "2014-03-31  12.747101  15.961315  8.716466   1.808538   0.514737  -1.511757   \n",
       "2014-04-30   1.588648   3.886991 -6.688849   6.452840   1.286832  16.452395   \n",
       "2014-05-30  -0.198858   4.226532  0.034360 -12.878495  11.366503 -11.109611   \n",
       "\n",
       "                 BWX       AGG       BND        FXY        FXF        UDN  \\\n",
       "Date                                                                        \n",
       "2014-01-31 -6.240443  6.611788  4.731743   1.876289 -15.047688 -24.857753   \n",
       "2014-02-28  3.373307  5.773956  4.646533  11.068509  -2.339315   0.128231   \n",
       "2014-03-31 -0.088840  3.886334  2.368098 -11.905247  -1.168874  -5.285479   \n",
       "2014-04-30  8.217681  9.046464  7.844880   2.989304   5.062615   7.175798   \n",
       "2014-05-30  4.261365 -0.082890 -6.337857   4.958068   6.990604   0.926050   \n",
       "\n",
       "                  IAU        AOA        AOK        USO  \n",
       "Date                                                    \n",
       "2014-01-31 -11.111142  -1.024270   0.231531  -0.569352  \n",
       "2014-02-28 -14.478681   2.319607   1.847188  -2.350346  \n",
       "2014-03-31   0.457240  11.851646  13.777500   0.401607  \n",
       "2014-04-30   3.987554   3.378424   1.542213   1.045620  \n",
       "2014-05-30  -0.830660  -2.546350 -11.685799 -13.322157  "
      ]
     },
     "execution_count": 6,
     "metadata": {},
     "output_type": "execute_result"
    }
   ],
   "source": [
    "#K-D>0:買進；K-D<0:賣出\n",
    "kd = pd.DataFrame()\n",
    "for i in tickers:\n",
    "    tmp_kd = abstract.STOCH(etf2pd(i), fastk_period=9, slowk_period=3,slowd_period=3).fillna(value=0).asfreq(\"BM\")\n",
    "    comp_kd = tmp_kd[\"slowk\"] - tmp_kd[\"slowd\"]   #series\n",
    "    kd[i] = comp_kd\n",
    "\n",
    "kd.head()"
   ]
  },
  {
   "cell_type": "markdown",
   "metadata": {},
   "source": [
    "<b> (2) 定義函數：抓每個月KD前四和後四檔的ETF"
   ]
  },
  {
   "cell_type": "code",
   "execution_count": 7,
   "metadata": {},
   "outputs": [],
   "source": [
    "def get_8_etf_kd(time):   #time: \"y-m\" ex.\"2005-1\"   #output: 兩個list(long, short)\n",
    "    temp_kd_set = kd[time]   #type: pd.dataframe\n",
    "    monthly_kd_set = []   #每個月的etf排名及其kd值\n",
    "    for j in range(temp_kd_set.shape[1]):   #df行數\n",
    "        etf_kd = [tickers[j], temp_kd_set.iloc[0, j]]\n",
    "        monthly_kd_set.append(etf_kd)\n",
    "    monthly_kd_set.sort(key=lambda x: x[1], reverse=True)\n",
    "    #print(monthly_kd_set)\n",
    "    #取出每月前四檔和後四檔etf名稱\n",
    "    long_4_etf = [k[0] for k in monthly_kd_set[:4]]\n",
    "    short_4_etf = [l[0] for l in monthly_kd_set[-4:]]\n",
    "    return long_4_etf, short_4_etf"
   ]
  },
  {
   "cell_type": "markdown",
   "metadata": {},
   "source": [
    "<b> (3) 使用函數跑每月的權重與最終整體報酬率（period: 2014/1~2016/12)"
   ]
  },
  {
   "cell_type": "code",
   "execution_count": 8,
   "metadata": {
    "scrolled": false
   },
   "outputs": [],
   "source": [
    "weight_kd = pd.DataFrame(columns=tickers,index=kd.index).fillna(value=0)\n",
    "\n",
    "for y in range(2014, 2017):   #2014/1~2016/12\n",
    "    for m in range(1, 13):\n",
    "        time = str(y)+'-'+str(m)\n",
    "        #print(time)\n",
    "        tmp_etf = get_8_etf_kd(time)\n",
    "        for a in tmp_etf[0]:\n",
    "            weight_kd.loc[time, a] = 0.25\n",
    "        for b in tmp_etf[1]:\n",
    "            weight_kd.loc[time, b] = -0.25"
   ]
  },
  {
   "cell_type": "code",
   "execution_count": 9,
   "metadata": {
    "scrolled": false
   },
   "outputs": [
    {
     "name": "stdout",
     "output_type": "stream",
     "text": [
      "KD mean: -0.00044436467789216524\n"
     ]
    }
   ],
   "source": [
    "q_kd = []    #q1~q95\n",
    "tmp_weight_kd = weight_kd.shift(1) #把前個月的權重換成下個月index，使ret_次月和weight_這個月配在一起\n",
    "for y in range(2014, 2017):\n",
    "    for m in range(1, 13):\n",
    "        time = str(y)+'-'+str(m)   #這個月\n",
    "        #print(time)\n",
    "        if time != '2014-1':\n",
    "            tmp_ret = returns[time].mean()    #series   #若沒有取mean,則為dataframe\n",
    "            monthly_q_kd = float(tmp_weight_kd[time].dot(tmp_ret).to_numpy())\n",
    "            q_kd.append(monthly_q_kd)\n",
    "        else:\n",
    "            pass\n",
    "#print(len(q_kd))\n",
    "print('KD mean:', stat.mean(q_kd))"
   ]
  },
  {
   "cell_type": "markdown",
   "metadata": {},
   "source": [
    "<b/> ➤以KD作為投資組合選擇指標建構long-short portfolio，則平均報酬率為-0.0444%。"
   ]
  },
  {
   "cell_type": "markdown",
   "metadata": {},
   "source": [
    "### 技術指標2：指數移動平均線 EMA"
   ]
  },
  {
   "cell_type": "markdown",
   "metadata": {},
   "source": [
    "<b> (1) 計算每日20日(短線)與35日(長線)的EMA差值，取每月月底MA數值作為預測。"
   ]
  },
  {
   "cell_type": "code",
   "execution_count": 10,
   "metadata": {},
   "outputs": [],
   "source": [
    "ma = pd.DataFrame()\n",
    "for i in tickers:\n",
    "    ma[i] = talib.EMA(data[i], timeperiod=20) - talib.EMA(data[i], timeperiod=35)\n",
    "monthly_ma = ma.asfreq(\"BM\")"
   ]
  },
  {
   "cell_type": "markdown",
   "metadata": {},
   "source": [
    "若為正數，即表示當日短均線超過長均線，為看漲的股票；反之則看跌。"
   ]
  },
  {
   "cell_type": "markdown",
   "metadata": {},
   "source": [
    "<b> (2) 同上步驟，抓出每月long-short portfolio的資產分配權重，並試算出2014~2016年的整體報酬率。"
   ]
  },
  {
   "cell_type": "code",
   "execution_count": 11,
   "metadata": {},
   "outputs": [],
   "source": [
    "def get_8_etf_ma(time):   #time: \"y-m\" ex.\"2014-1\"   #output: 兩個list(long, short)\n",
    "    temp_ma_set = monthly_ma[time]   #type: pd.dataframe\n",
    "    monthly_ma_set = []   #每個月的etf排名及其ma值\n",
    "    for j in range(temp_ma_set.shape[1]):   #df行數\n",
    "        etf_ma = [tickers[j], temp_ma_set.iloc[0, j]]   #ix: label or index searching\n",
    "        monthly_ma_set.append(etf_ma)\n",
    "    monthly_ma_set.sort(key=lambda x: x[1], reverse=True)\n",
    "    #取出每月前四檔和後四檔etf名稱\n",
    "    long_4_etf = [k[0] for k in monthly_ma_set[:4]]\n",
    "    short_4_etf = [l[0] for l in monthly_ma_set[-4:]]\n",
    "    return long_4_etf, short_4_etf"
   ]
  },
  {
   "cell_type": "code",
   "execution_count": 12,
   "metadata": {
    "scrolled": true
   },
   "outputs": [],
   "source": [
    "weight_ma = pd.DataFrame(columns=tickers,index=pd.date_range('2014/1/1','2019/4/30', freq='BM')).fillna(value=0)\n",
    "\n",
    "for y in range(2014, 2017):\n",
    "    for m in range(1, 13):\n",
    "        time = str(y)+'-'+str(m)\n",
    "        #print(time)\n",
    "        tmp_etf = get_8_etf_ma(time)\n",
    "        for a in tmp_etf[0]:\n",
    "            weight_ma.loc[time, a] = 0.25\n",
    "        for b in tmp_etf[1]:\n",
    "            weight_ma.loc[time, b] = -0.25"
   ]
  },
  {
   "cell_type": "code",
   "execution_count": 13,
   "metadata": {
    "scrolled": true
   },
   "outputs": [
    {
     "name": "stdout",
     "output_type": "stream",
     "text": [
      "EMA mean: 0.00031016332840625154\n"
     ]
    }
   ],
   "source": [
    "q_ma = []    #q1~q36\n",
    "tmp_weight_ma = weight_ma.shift(1)\n",
    "for y in range(2014, 2017):\n",
    "    for m in range(1, 13):\n",
    "        time = str(y)+'-'+str(m)   #這個月\n",
    "        #print(time)\n",
    "        if time != '2014-1':\n",
    "            tmp_ret = returns[time].mean()    #series   #若沒有取mean,則為dataframe\n",
    "            monthly_q_ma = float(tmp_weight_ma[time].dot(tmp_ret).to_numpy())\n",
    "            q_ma.append(monthly_q_ma)\n",
    "        else:\n",
    "            pass\n",
    "\n",
    "print('EMA mean:', stat.mean(q_ma))"
   ]
  },
  {
   "cell_type": "markdown",
   "metadata": {},
   "source": [
    "<b/> ➤以EMA作為投資組合選擇的指標，則平均報酬率為0.0310%。"
   ]
  },
  {
   "cell_type": "markdown",
   "metadata": {},
   "source": [
    "### 合併兩種view的估計資料"
   ]
  },
  {
   "cell_type": "code",
   "execution_count": 14,
   "metadata": {},
   "outputs": [
    {
     "data": {
      "text/plain": [
       "array([[-0.00044436],\n",
       "       [ 0.00031016]])"
      ]
     },
     "execution_count": 14,
     "metadata": {},
     "output_type": "execute_result"
    }
   ],
   "source": [
    "Q = np.array([\n",
    "    [stat.mean(q_kd)],\n",
    "    [stat.mean(q_ma)]\n",
    "])\n",
    "Q"
   ]
  },
  {
   "cell_type": "code",
   "execution_count": 15,
   "metadata": {
    "scrolled": true
   },
   "outputs": [
    {
     "name": "stdout",
     "output_type": "stream",
     "text": [
      "[[ 2.03565566e-06 -3.90139048e-07]\n",
      " [-3.90139048e-07  3.07498364e-06]]\n"
     ]
    }
   ],
   "source": [
    "omega = np.cov(np.stack((q_kd, q_ma), axis = 0)  )\n",
    "print(omega) "
   ]
  },
  {
   "cell_type": "markdown",
   "metadata": {},
   "source": [
    "## 3. 代入Blacklitterman Model (period2： 2017/1/2 ~ 2019/4/30)"
   ]
  },
  {
   "cell_type": "markdown",
   "metadata": {},
   "source": [
    "<b> (1) 以KD與EMA作為技術指標，預測第二期的long-short portfolio權重"
   ]
  },
  {
   "cell_type": "code",
   "execution_count": 16,
   "metadata": {},
   "outputs": [],
   "source": [
    "asset_value = [860690000000, 15350000000, 5850000000, 74430000000, 15370000000, 12160000000, 786970000,\n",
    "              72640000000, 269050000000, 237470000, 238750000, 36110000, 24550000000, 957340000, 680370000, 8400000000]\n",
    "total_value = sum(asset_value)\n",
    "w_eq = [(i/total_value) for i in asset_value]"
   ]
  },
  {
   "cell_type": "code",
   "execution_count": 17,
   "metadata": {},
   "outputs": [],
   "source": [
    "#每個月一個共變數矩陣sigma\n",
    "tau = 0.05\n",
    "delta = 3  #風險趨避係數\n",
    "omega_inv = np.linalg.inv(omega)"
   ]
  },
  {
   "cell_type": "code",
   "execution_count": 18,
   "metadata": {},
   "outputs": [],
   "source": [
    "#第二段區間的時間(2017/1~2019/4)\n",
    "period_2 = []\n",
    "for y in range(2017, 2019):\n",
    "    for m in range(1, 13):\n",
    "        time = str(y)+'-'+str(m)\n",
    "        period_2.append(time)\n",
    "\n",
    "for m in range(1, 5):\n",
    "    time = '2019-'+str(m)\n",
    "    period_2.append(time)"
   ]
  },
  {
   "cell_type": "code",
   "execution_count": 19,
   "metadata": {
    "scrolled": true
   },
   "outputs": [],
   "source": [
    "for time in period_2:\n",
    "    tmp_etf = get_8_etf_kd(time)\n",
    "    for a in tmp_etf[0]:\n",
    "        weight_kd.loc[time, a] = 0.25\n",
    "    for b in tmp_etf[1]:\n",
    "        weight_kd.loc[time, b] = -0.25"
   ]
  },
  {
   "cell_type": "code",
   "execution_count": 20,
   "metadata": {
    "scrolled": true
   },
   "outputs": [],
   "source": [
    "for time in period_2:\n",
    "    tmp_etf = get_8_etf_ma(time)\n",
    "    for a in tmp_etf[0]:\n",
    "        weight_ma.loc[time, a] = 0.25\n",
    "    for b in tmp_etf[1]:\n",
    "        weight_ma.loc[time, b] = -0.25"
   ]
  },
  {
   "cell_type": "markdown",
   "metadata": {},
   "source": [
    "<b> (2) 代入Blacklitterman Model進行觀點調整，試算出每月最佳權重w*"
   ]
  },
  {
   "cell_type": "code",
   "execution_count": 21,
   "metadata": {},
   "outputs": [],
   "source": [
    "# 每個月的P矩陣(技術指標權重)\n",
    "def get_p_matrix(time):\n",
    "    view1 = weight_kd[time].values.tolist()[0]\n",
    "    view2 = weight_ma[time].values.tolist()[0]\n",
    "    p = np.stack([view1, view2])   #matrix:2x19，type:ndarray\n",
    "    return p  "
   ]
  },
  {
   "cell_type": "code",
   "execution_count": 22,
   "metadata": {},
   "outputs": [],
   "source": [
    "def get_optimal_weight(time):\n",
    "    P = get_p_matrix(time)\n",
    "    sigma = returns[time].cov()\n",
    "    A = omega/tau + (P.dot(sigma).dot(np.transpose(P))/(1+tau))\n",
    "    A_inv = np.linalg.inv(A)   #反矩陣\n",
    "    lmda = (omega_inv.dot(Q)*tau/delta) - A_inv.dot(P).dot((sigma/(1+tau))).dot(np.transpose(w_eq)) \\\n",
    "    - (A_inv.dot(P).dot((sigma/(1+tau))).dot(np.transpose(P)).dot(omega_inv).dot(Q))*(tau/delta)\n",
    "    optimal_w = (1/(1+tau))*(w_eq + np.transpose(np.transpose(P).dot(lmda)))\n",
    "    return optimal_w"
   ]
  },
  {
   "cell_type": "code",
   "execution_count": 23,
   "metadata": {},
   "outputs": [
    {
     "data": {
      "text/html": [
       "<div>\n",
       "<style scoped>\n",
       "    .dataframe tbody tr th:only-of-type {\n",
       "        vertical-align: middle;\n",
       "    }\n",
       "\n",
       "    .dataframe tbody tr th {\n",
       "        vertical-align: top;\n",
       "    }\n",
       "\n",
       "    .dataframe thead th {\n",
       "        text-align: right;\n",
       "    }\n",
       "</style>\n",
       "<table border=\"1\" class=\"dataframe\">\n",
       "  <thead>\n",
       "    <tr style=\"text-align: right;\">\n",
       "      <th></th>\n",
       "      <th>VTI</th>\n",
       "      <th>VGK</th>\n",
       "      <th>VPL</th>\n",
       "      <th>VWO</th>\n",
       "      <th>PFF</th>\n",
       "      <th>IEI</th>\n",
       "      <th>BWX</th>\n",
       "      <th>AGG</th>\n",
       "      <th>BND</th>\n",
       "      <th>FXY</th>\n",
       "      <th>FXF</th>\n",
       "      <th>UDN</th>\n",
       "      <th>IAU</th>\n",
       "      <th>AOA</th>\n",
       "      <th>AOK</th>\n",
       "      <th>USO</th>\n",
       "    </tr>\n",
       "  </thead>\n",
       "  <tbody>\n",
       "    <tr>\n",
       "      <th>2017-01-31</th>\n",
       "      <td>1.13938</td>\n",
       "      <td>0.548025</td>\n",
       "      <td>0.541379</td>\n",
       "      <td>0.0520672</td>\n",
       "      <td>0.010752</td>\n",
       "      <td>-0.52878</td>\n",
       "      <td>-0.0934079</td>\n",
       "      <td>-0.486472</td>\n",
       "      <td>-0.255116</td>\n",
       "      <td>-0.0937923</td>\n",
       "      <td>0.000167017</td>\n",
       "      <td>2.52606e-05</td>\n",
       "      <td>-0.426155</td>\n",
       "      <td>0.443998</td>\n",
       "      <td>0.00047595</td>\n",
       "      <td>0.0998346</td>\n",
       "    </tr>\n",
       "    <tr>\n",
       "      <th>2017-02-28</th>\n",
       "      <td>0.729101</td>\n",
       "      <td>0.520747</td>\n",
       "      <td>0.64111</td>\n",
       "      <td>0.689085</td>\n",
       "      <td>-0.499257</td>\n",
       "      <td>-0.118502</td>\n",
       "      <td>-0.636467</td>\n",
       "      <td>0.050815</td>\n",
       "      <td>0.188213</td>\n",
       "      <td>0.000166121</td>\n",
       "      <td>-0.63685</td>\n",
       "      <td>-0.636992</td>\n",
       "      <td>0.0171739</td>\n",
       "      <td>0.637687</td>\n",
       "      <td>0.00047595</td>\n",
       "      <td>0.00587619</td>\n",
       "    </tr>\n",
       "    <tr>\n",
       "      <th>2017-03-31</th>\n",
       "      <td>0.265172</td>\n",
       "      <td>0.184969</td>\n",
       "      <td>0.178324</td>\n",
       "      <td>0.73745</td>\n",
       "      <td>0.010752</td>\n",
       "      <td>-0.502645</td>\n",
       "      <td>0.511702</td>\n",
       "      <td>0.050815</td>\n",
       "      <td>0.0139816</td>\n",
       "      <td>0.000166121</td>\n",
       "      <td>0.511319</td>\n",
       "      <td>0.336946</td>\n",
       "      <td>-0.157057</td>\n",
       "      <td>-0.510482</td>\n",
       "      <td>0.00047595</td>\n",
       "      <td>-0.679507</td>\n",
       "    </tr>\n",
       "    <tr>\n",
       "      <th>2017-04-28</th>\n",
       "      <td>1.48334</td>\n",
       "      <td>0.241548</td>\n",
       "      <td>0.00409234</td>\n",
       "      <td>0.0520672</td>\n",
       "      <td>0.010752</td>\n",
       "      <td>-0.41112</td>\n",
       "      <td>0.650987</td>\n",
       "      <td>-0.599622</td>\n",
       "      <td>-0.462224</td>\n",
       "      <td>0.230976</td>\n",
       "      <td>0.419794</td>\n",
       "      <td>0.419652</td>\n",
       "      <td>-0.213636</td>\n",
       "      <td>0.000669703</td>\n",
       "      <td>-0.649961</td>\n",
       "      <td>-0.224934</td>\n",
       "    </tr>\n",
       "    <tr>\n",
       "      <th>2017-05-31</th>\n",
       "      <td>0.859971</td>\n",
       "      <td>0.716552</td>\n",
       "      <td>0.261971</td>\n",
       "      <td>0.0520672</td>\n",
       "      <td>0.200808</td>\n",
       "      <td>-0.439428</td>\n",
       "      <td>0.000550522</td>\n",
       "      <td>-0.39712</td>\n",
       "      <td>-0.259722</td>\n",
       "      <td>-0.705648</td>\n",
       "      <td>0.258046</td>\n",
       "      <td>0.44796</td>\n",
       "      <td>-0.240705</td>\n",
       "      <td>0.000669703</td>\n",
       "      <td>0.00047595</td>\n",
       "      <td>0.195932</td>\n",
       "    </tr>\n",
       "  </tbody>\n",
       "</table>\n",
       "</div>"
      ],
      "text/plain": [
       "                 VTI       VGK         VPL        VWO       PFF       IEI  \\\n",
       "2017-01-31   1.13938  0.548025    0.541379  0.0520672  0.010752  -0.52878   \n",
       "2017-02-28  0.729101  0.520747     0.64111   0.689085 -0.499257 -0.118502   \n",
       "2017-03-31  0.265172  0.184969    0.178324    0.73745  0.010752 -0.502645   \n",
       "2017-04-28   1.48334  0.241548  0.00409234  0.0520672  0.010752  -0.41112   \n",
       "2017-05-31  0.859971  0.716552    0.261971  0.0520672  0.200808 -0.439428   \n",
       "\n",
       "                    BWX       AGG        BND          FXY          FXF  \\\n",
       "2017-01-31   -0.0934079 -0.486472  -0.255116   -0.0937923  0.000167017   \n",
       "2017-02-28    -0.636467  0.050815   0.188213  0.000166121     -0.63685   \n",
       "2017-03-31     0.511702  0.050815  0.0139816  0.000166121     0.511319   \n",
       "2017-04-28     0.650987 -0.599622  -0.462224     0.230976     0.419794   \n",
       "2017-05-31  0.000550522  -0.39712  -0.259722    -0.705648     0.258046   \n",
       "\n",
       "                    UDN        IAU          AOA         AOK         USO  \n",
       "2017-01-31  2.52606e-05  -0.426155     0.443998  0.00047595   0.0998346  \n",
       "2017-02-28    -0.636992  0.0171739     0.637687  0.00047595  0.00587619  \n",
       "2017-03-31     0.336946  -0.157057    -0.510482  0.00047595   -0.679507  \n",
       "2017-04-28     0.419652  -0.213636  0.000669703   -0.649961   -0.224934  \n",
       "2017-05-31      0.44796  -0.240705  0.000669703  0.00047595    0.195932  "
      ]
     },
     "execution_count": 23,
     "metadata": {},
     "output_type": "execute_result"
    }
   ],
   "source": [
    "# BL模型的optimal weight\n",
    "w_bl = pd.DataFrame(columns=tickers,index=pd.date_range('2017/1/1','2019/4/30', freq='BM'))\n",
    "for time in period_2:\n",
    "    opt_w = [get_optimal_weight(time)[0]]\n",
    "    #print(len(opt_w))\n",
    "    w_bl[time] = opt_w\n",
    "\n",
    "w_bl.head()"
   ]
  },
  {
   "cell_type": "markdown",
   "metadata": {},
   "source": [
    "## 4. 模型投資組合績效比較"
   ]
  },
  {
   "cell_type": "markdown",
   "metadata": {},
   "source": [
    "<b> (1) 投資組合報酬率比較"
   ]
  },
  {
   "cell_type": "markdown",
   "metadata": {},
   "source": [
    "個別ETF報酬率比較：BL Model v.s. Equilibrium"
   ]
  },
  {
   "cell_type": "code",
   "execution_count": 24,
   "metadata": {},
   "outputs": [
    {
     "data": {
      "text/html": [
       "<div>\n",
       "<style scoped>\n",
       "    .dataframe tbody tr th:only-of-type {\n",
       "        vertical-align: middle;\n",
       "    }\n",
       "\n",
       "    .dataframe tbody tr th {\n",
       "        vertical-align: top;\n",
       "    }\n",
       "\n",
       "    .dataframe thead th {\n",
       "        text-align: right;\n",
       "    }\n",
       "</style>\n",
       "<table border=\"1\" class=\"dataframe\">\n",
       "  <thead>\n",
       "    <tr style=\"text-align: right;\">\n",
       "      <th></th>\n",
       "      <th>VTI</th>\n",
       "      <th>VGK</th>\n",
       "      <th>VPL</th>\n",
       "      <th>VWO</th>\n",
       "      <th>PFF</th>\n",
       "      <th>IEI</th>\n",
       "      <th>BWX</th>\n",
       "      <th>AGG</th>\n",
       "      <th>BND</th>\n",
       "      <th>FXY</th>\n",
       "      <th>FXF</th>\n",
       "      <th>UDN</th>\n",
       "      <th>IAU</th>\n",
       "      <th>AOA</th>\n",
       "      <th>AOK</th>\n",
       "      <th>USO</th>\n",
       "    </tr>\n",
       "  </thead>\n",
       "  <tbody>\n",
       "    <tr>\n",
       "      <th>2017-01-31</th>\n",
       "      <td>0.00105927</td>\n",
       "      <td>0.000807896</td>\n",
       "      <td>0.00131081</td>\n",
       "      <td>0.000146803</td>\n",
       "      <td>1.28173e-05</td>\n",
       "      <td>-7.86941e-05</td>\n",
       "      <td>-6.97556e-05</td>\n",
       "      <td>-5.29089e-05</td>\n",
       "      <td>-2.43948e-05</td>\n",
       "      <td>-0.000165607</td>\n",
       "      <td>2.33045e-07</td>\n",
       "      <td>3.33023e-08</td>\n",
       "      <td>-0.00111801</td>\n",
       "      <td>0.000449557</td>\n",
       "      <td>1.4706e-07</td>\n",
       "      <td>-0.000160724</td>\n",
       "    </tr>\n",
       "    <tr>\n",
       "      <th>2017-02-28</th>\n",
       "      <td>0.00139719</td>\n",
       "      <td>0.000164479</td>\n",
       "      <td>0.000722239</td>\n",
       "      <td>0.000816815</td>\n",
       "      <td>-0.000543935</td>\n",
       "      <td>-1.64875e-05</td>\n",
       "      <td>-0.000105127</td>\n",
       "      <td>1.73047e-05</td>\n",
       "      <td>6.12313e-05</td>\n",
       "      <td>4.31191e-08</td>\n",
       "      <td>0.000514299</td>\n",
       "      <td>0.000496136</td>\n",
       "      <td>2.84689e-05</td>\n",
       "      <td>0.000808214</td>\n",
       "      <td>3.80329e-07</td>\n",
       "      <td>3.83582e-06</td>\n",
       "    </tr>\n",
       "    <tr>\n",
       "      <th>2017-03-31</th>\n",
       "      <td>1.00527e-05</td>\n",
       "      <td>0.000352056</td>\n",
       "      <td>0.000141377</td>\n",
       "      <td>0.000932297</td>\n",
       "      <td>2.37605e-06</td>\n",
       "      <td>-2.44264e-05</td>\n",
       "      <td>0.000175263</td>\n",
       "      <td>-1.09286e-06</td>\n",
       "      <td>-2.03556e-07</td>\n",
       "      <td>6.19104e-08</td>\n",
       "      <td>4.61914e-05</td>\n",
       "      <td>8.81096e-05</td>\n",
       "      <td>1.38125e-05</td>\n",
       "      <td>-0.000267937</td>\n",
       "      <td>1.17617e-07</td>\n",
       "      <td>0.00207746</td>\n",
       "    </tr>\n",
       "    <tr>\n",
       "      <th>2017-04-28</th>\n",
       "      <td>0.000842477</td>\n",
       "      <td>0.000496769</td>\n",
       "      <td>1.67759e-06</td>\n",
       "      <td>4.34546e-05</td>\n",
       "      <td>7.34747e-06</td>\n",
       "      <td>-0.000143532</td>\n",
       "      <td>0.00048899</td>\n",
       "      <td>-0.000286171</td>\n",
       "      <td>-0.00019375</td>\n",
       "      <td>-1.54165e-05</td>\n",
       "      <td>0.000119803</td>\n",
       "      <td>0.000308385</td>\n",
       "      <td>-0.000189241</td>\n",
       "      <td>5.51171e-07</td>\n",
       "      <td>-0.000374903</td>\n",
       "      <td>0.000434322</td>\n",
       "    </tr>\n",
       "    <tr>\n",
       "      <th>2017-05-31</th>\n",
       "      <td>0.000403784</td>\n",
       "      <td>0.00158069</td>\n",
       "      <td>0.000261951</td>\n",
       "      <td>2.52028e-05</td>\n",
       "      <td>5.06625e-05</td>\n",
       "      <td>-8.72587e-05</td>\n",
       "      <td>4.81596e-07</td>\n",
       "      <td>-0.000124217</td>\n",
       "      <td>-8.39314e-05</td>\n",
       "      <td>-0.000200189</td>\n",
       "      <td>0.000308733</td>\n",
       "      <td>0.000394891</td>\n",
       "      <td>2.82745e-06</td>\n",
       "      <td>5.53448e-07</td>\n",
       "      <td>2.42348e-07</td>\n",
       "      <td>-0.000202928</td>\n",
       "    </tr>\n",
       "  </tbody>\n",
       "</table>\n",
       "</div>"
      ],
      "text/plain": [
       "                    VTI          VGK          VPL          VWO          PFF  \\\n",
       "2017-01-31   0.00105927  0.000807896   0.00131081  0.000146803  1.28173e-05   \n",
       "2017-02-28   0.00139719  0.000164479  0.000722239  0.000816815 -0.000543935   \n",
       "2017-03-31  1.00527e-05  0.000352056  0.000141377  0.000932297  2.37605e-06   \n",
       "2017-04-28  0.000842477  0.000496769  1.67759e-06  4.34546e-05  7.34747e-06   \n",
       "2017-05-31  0.000403784   0.00158069  0.000261951  2.52028e-05  5.06625e-05   \n",
       "\n",
       "                    IEI          BWX          AGG          BND          FXY  \\\n",
       "2017-01-31 -7.86941e-05 -6.97556e-05 -5.29089e-05 -2.43948e-05 -0.000165607   \n",
       "2017-02-28 -1.64875e-05 -0.000105127  1.73047e-05  6.12313e-05  4.31191e-08   \n",
       "2017-03-31 -2.44264e-05  0.000175263 -1.09286e-06 -2.03556e-07  6.19104e-08   \n",
       "2017-04-28 -0.000143532   0.00048899 -0.000286171  -0.00019375 -1.54165e-05   \n",
       "2017-05-31 -8.72587e-05  4.81596e-07 -0.000124217 -8.39314e-05 -0.000200189   \n",
       "\n",
       "                    FXF          UDN          IAU          AOA          AOK  \\\n",
       "2017-01-31  2.33045e-07  3.33023e-08  -0.00111801  0.000449557   1.4706e-07   \n",
       "2017-02-28  0.000514299  0.000496136  2.84689e-05  0.000808214  3.80329e-07   \n",
       "2017-03-31  4.61914e-05  8.81096e-05  1.38125e-05 -0.000267937  1.17617e-07   \n",
       "2017-04-28  0.000119803  0.000308385 -0.000189241  5.51171e-07 -0.000374903   \n",
       "2017-05-31  0.000308733  0.000394891  2.82745e-06  5.53448e-07  2.42348e-07   \n",
       "\n",
       "                    USO  \n",
       "2017-01-31 -0.000160724  \n",
       "2017-02-28  3.83582e-06  \n",
       "2017-03-31   0.00207746  \n",
       "2017-04-28  0.000434322  \n",
       "2017-05-31 -0.000202928  "
      ]
     },
     "execution_count": 24,
     "metadata": {},
     "output_type": "execute_result"
    }
   ],
   "source": [
    "# BL Model各資產每月報酬率\n",
    "returns_bl = pd.DataFrame(columns=tickers,index=pd.date_range('2017/1/1','2019/4/30', freq='BM'))\n",
    "for time in period_2:\n",
    "    r = np.array(returns[time].mean().values)\n",
    "    w = w_bl[time].values\n",
    "    tmp_ret_bl = r * w\n",
    "    returns_bl[time] = tmp_ret_bl\n",
    "        \n",
    "returns_bl.head()"
   ]
  },
  {
   "cell_type": "code",
   "execution_count": 25,
   "metadata": {},
   "outputs": [
    {
     "data": {
      "text/html": [
       "<div>\n",
       "<style scoped>\n",
       "    .dataframe tbody tr th:only-of-type {\n",
       "        vertical-align: middle;\n",
       "    }\n",
       "\n",
       "    .dataframe tbody tr th {\n",
       "        vertical-align: top;\n",
       "    }\n",
       "\n",
       "    .dataframe thead th {\n",
       "        text-align: right;\n",
       "    }\n",
       "</style>\n",
       "<table border=\"1\" class=\"dataframe\">\n",
       "  <thead>\n",
       "    <tr style=\"text-align: right;\">\n",
       "      <th></th>\n",
       "      <th>VTI</th>\n",
       "      <th>VGK</th>\n",
       "      <th>VPL</th>\n",
       "      <th>VWO</th>\n",
       "      <th>PFF</th>\n",
       "      <th>IEI</th>\n",
       "      <th>BWX</th>\n",
       "      <th>AGG</th>\n",
       "      <th>BND</th>\n",
       "      <th>FXY</th>\n",
       "      <th>FXF</th>\n",
       "      <th>UDN</th>\n",
       "      <th>IAU</th>\n",
       "      <th>AOA</th>\n",
       "      <th>AOK</th>\n",
       "      <th>USO</th>\n",
       "    </tr>\n",
       "  </thead>\n",
       "  <tbody>\n",
       "    <tr>\n",
       "      <th>2017-01-31</th>\n",
       "      <td>0.00058775</td>\n",
       "      <td>1.66215e-05</td>\n",
       "      <td>1.04039e-05</td>\n",
       "      <td>0.000154144</td>\n",
       "      <td>1.34581e-05</td>\n",
       "      <td>1.32925e-06</td>\n",
       "      <td>4.31677e-07</td>\n",
       "      <td>5.803e-06</td>\n",
       "      <td>1.88973e-05</td>\n",
       "      <td>3.07981e-07</td>\n",
       "      <td>2.44697e-07</td>\n",
       "      <td>3.49674e-08</td>\n",
       "      <td>4.73081e-05</td>\n",
       "      <td>7.11992e-07</td>\n",
       "      <td>1.54413e-07</td>\n",
       "      <td>-9.93307e-06</td>\n",
       "    </tr>\n",
       "    <tr>\n",
       "      <th>2017-02-28</th>\n",
       "      <td>0.00121149</td>\n",
       "      <td>3.56121e-06</td>\n",
       "      <td>4.84072e-06</td>\n",
       "      <td>6.48044e-05</td>\n",
       "      <td>1.22999e-05</td>\n",
       "      <td>1.2427e-06</td>\n",
       "      <td>9.54775e-08</td>\n",
       "      <td>1.81699e-05</td>\n",
       "      <td>6.42929e-05</td>\n",
       "      <td>4.52751e-08</td>\n",
       "      <td>-1.41621e-07</td>\n",
       "      <td>-2.06585e-08</td>\n",
       "      <td>2.98924e-05</td>\n",
       "      <td>8.91232e-07</td>\n",
       "      <td>3.99346e-07</td>\n",
       "      <td>4.02762e-06</td>\n",
       "    </tr>\n",
       "    <tr>\n",
       "      <th>2017-03-31</th>\n",
       "      <td>2.39667e-05</td>\n",
       "      <td>2.14598e-05</td>\n",
       "      <td>3.40669e-06</td>\n",
       "      <td>6.91155e-05</td>\n",
       "      <td>2.49485e-06</td>\n",
       "      <td>4.34047e-07</td>\n",
       "      <td>1.97987e-07</td>\n",
       "      <td>-1.1475e-06</td>\n",
       "      <td>-2.87718e-06</td>\n",
       "      <td>6.5006e-08</td>\n",
       "      <td>1.58423e-08</td>\n",
       "      <td>6.9358e-09</td>\n",
       "      <td>-1.58588e-06</td>\n",
       "      <td>3.69084e-07</td>\n",
       "      <td>1.23498e-07</td>\n",
       "      <td>-1.88636e-05</td>\n",
       "    </tr>\n",
       "    <tr>\n",
       "      <th>2017-04-28</th>\n",
       "      <td>0.000359062</td>\n",
       "      <td>2.31881e-05</td>\n",
       "      <td>1.76147e-06</td>\n",
       "      <td>4.56273e-05</td>\n",
       "      <td>7.71485e-06</td>\n",
       "      <td>3.11831e-06</td>\n",
       "      <td>4.34201e-07</td>\n",
       "      <td>2.54642e-05</td>\n",
       "      <td>8.28375e-05</td>\n",
       "      <td>-1.16421e-08</td>\n",
       "      <td>5.00473e-08</td>\n",
       "      <td>1.94912e-08</td>\n",
       "      <td>1.59734e-05</td>\n",
       "      <td>5.78729e-07</td>\n",
       "      <td>2.88259e-07</td>\n",
       "      <td>-1.19136e-05</td>\n",
       "    </tr>\n",
       "    <tr>\n",
       "      <th>2017-05-31</th>\n",
       "      <td>0.000296836</td>\n",
       "      <td>2.48722e-05</td>\n",
       "      <td>4.29663e-06</td>\n",
       "      <td>2.6463e-05</td>\n",
       "      <td>2.8483e-06</td>\n",
       "      <td>1.77362e-06</td>\n",
       "      <td>5.05676e-07</td>\n",
       "      <td>1.66893e-05</td>\n",
       "      <td>6.38637e-05</td>\n",
       "      <td>4.94841e-08</td>\n",
       "      <td>2.09815e-07</td>\n",
       "      <td>2.33814e-08</td>\n",
       "      <td>-2.1182e-07</td>\n",
       "      <td>5.8112e-07</td>\n",
       "      <td>2.54466e-07</td>\n",
       "      <td>-6.3903e-06</td>\n",
       "    </tr>\n",
       "  </tbody>\n",
       "</table>\n",
       "</div>"
      ],
      "text/plain": [
       "                    VTI          VGK          VPL          VWO          PFF  \\\n",
       "2017-01-31   0.00058775  1.66215e-05  1.04039e-05  0.000154144  1.34581e-05   \n",
       "2017-02-28   0.00121149  3.56121e-06  4.84072e-06  6.48044e-05  1.22999e-05   \n",
       "2017-03-31  2.39667e-05  2.14598e-05  3.40669e-06  6.91155e-05  2.49485e-06   \n",
       "2017-04-28  0.000359062  2.31881e-05  1.76147e-06  4.56273e-05  7.71485e-06   \n",
       "2017-05-31  0.000296836  2.48722e-05  4.29663e-06   2.6463e-05   2.8483e-06   \n",
       "\n",
       "                    IEI          BWX          AGG          BND          FXY  \\\n",
       "2017-01-31  1.32925e-06  4.31677e-07    5.803e-06  1.88973e-05  3.07981e-07   \n",
       "2017-02-28   1.2427e-06  9.54775e-08  1.81699e-05  6.42929e-05  4.52751e-08   \n",
       "2017-03-31  4.34047e-07  1.97987e-07  -1.1475e-06 -2.87718e-06   6.5006e-08   \n",
       "2017-04-28  3.11831e-06  4.34201e-07  2.54642e-05  8.28375e-05 -1.16421e-08   \n",
       "2017-05-31  1.77362e-06  5.05676e-07  1.66893e-05  6.38637e-05  4.94841e-08   \n",
       "\n",
       "                    FXF          UDN          IAU          AOA          AOK  \\\n",
       "2017-01-31  2.44697e-07  3.49674e-08  4.73081e-05  7.11992e-07  1.54413e-07   \n",
       "2017-02-28 -1.41621e-07 -2.06585e-08  2.98924e-05  8.91232e-07  3.99346e-07   \n",
       "2017-03-31  1.58423e-08   6.9358e-09 -1.58588e-06  3.69084e-07  1.23498e-07   \n",
       "2017-04-28  5.00473e-08  1.94912e-08  1.59734e-05  5.78729e-07  2.88259e-07   \n",
       "2017-05-31  2.09815e-07  2.33814e-08  -2.1182e-07   5.8112e-07  2.54466e-07   \n",
       "\n",
       "                    USO  \n",
       "2017-01-31 -9.93307e-06  \n",
       "2017-02-28  4.02762e-06  \n",
       "2017-03-31 -1.88636e-05  \n",
       "2017-04-28 -1.19136e-05  \n",
       "2017-05-31  -6.3903e-06  "
      ]
     },
     "execution_count": 25,
     "metadata": {},
     "output_type": "execute_result"
    }
   ],
   "source": [
    "# Equilibrium 各資產每月報酬率\n",
    "returns_eq = pd.DataFrame(columns=tickers,index=pd.date_range('2017/1/1','2019/4/30', freq='BM'))\n",
    "for time in period_2:\n",
    "    r = np.array(returns[time].mean().values)\n",
    "    w = w_eq\n",
    "    tmp_ret_eq = r * w\n",
    "    #print(\"port ret:\", tmp_ret_eq)\n",
    "    returns_eq[time] = tmp_ret_eq[np.newaxis,:]    #ret[time].shape = (1,16)\n",
    "\n",
    "returns_eq.head()"
   ]
  },
  {
   "cell_type": "markdown",
   "metadata": {},
   "source": [
    "<b>兩投資組合每月報酬率比較"
   ]
  },
  {
   "cell_type": "code",
   "execution_count": 26,
   "metadata": {
    "scrolled": true
   },
   "outputs": [
    {
     "data": {
      "text/html": [
       "<div>\n",
       "<style scoped>\n",
       "    .dataframe tbody tr th:only-of-type {\n",
       "        vertical-align: middle;\n",
       "    }\n",
       "\n",
       "    .dataframe tbody tr th {\n",
       "        vertical-align: top;\n",
       "    }\n",
       "\n",
       "    .dataframe thead th {\n",
       "        text-align: right;\n",
       "    }\n",
       "</style>\n",
       "<table border=\"1\" class=\"dataframe\">\n",
       "  <thead>\n",
       "    <tr style=\"text-align: right;\">\n",
       "      <th></th>\n",
       "      <th>Equilibrium</th>\n",
       "      <th>BL Model</th>\n",
       "      <th>Outperform</th>\n",
       "    </tr>\n",
       "  </thead>\n",
       "  <tbody>\n",
       "    <tr>\n",
       "      <th>2017-01</th>\n",
       "      <td>0.000847667</td>\n",
       "      <td>0.00211747</td>\n",
       "      <td>Yes</td>\n",
       "    </tr>\n",
       "    <tr>\n",
       "      <th>2017-02</th>\n",
       "      <td>0.00141589</td>\n",
       "      <td>0.00436509</td>\n",
       "      <td>Yes</td>\n",
       "    </tr>\n",
       "    <tr>\n",
       "      <th>2017-03</th>\n",
       "      <td>9.71818e-05</td>\n",
       "      <td>0.00354552</td>\n",
       "      <td>Yes</td>\n",
       "    </tr>\n",
       "    <tr>\n",
       "      <th>2017-04</th>\n",
       "      <td>0.000554193</td>\n",
       "      <td>0.00154076</td>\n",
       "      <td>Yes</td>\n",
       "    </tr>\n",
       "    <tr>\n",
       "      <th>2017-05</th>\n",
       "      <td>0.000432665</td>\n",
       "      <td>0.0023315</td>\n",
       "      <td>Yes</td>\n",
       "    </tr>\n",
       "  </tbody>\n",
       "</table>\n",
       "</div>"
      ],
      "text/plain": [
       "         Equilibrium    BL Model Outperform\n",
       "2017-01  0.000847667  0.00211747        Yes\n",
       "2017-02   0.00141589  0.00436509        Yes\n",
       "2017-03  9.71818e-05  0.00354552        Yes\n",
       "2017-04  0.000554193  0.00154076        Yes\n",
       "2017-05  0.000432665   0.0023315        Yes"
      ]
     },
     "execution_count": 26,
     "metadata": {},
     "output_type": "execute_result"
    }
   ],
   "source": [
    "port_ret_bl = returns_bl.sum(axis=1)   #列加總\n",
    "port_ret_eq = returns_eq.sum(axis=1)\n",
    "\n",
    "comparison_ret = pd.DataFrame(columns=[\"Equilibrium\", \"BL Model\", \"Outperform\"], index=pd.period_range('2017/1',freq='M', periods=28))\n",
    "for time in period_2:\n",
    "    comparison_ret.loc[time, \"Equilibrium\"] = port_ret_eq[time].values[0]   #type: ndarray\n",
    "    comparison_ret.loc[time, \"BL Model\"] = port_ret_bl[time].values[0]\n",
    "    if port_ret_eq[time].values[0] < port_ret_bl[time].values[0]:\n",
    "        comparison_ret.loc[time, \"Outperform\"] = \"Yes\"\n",
    "    else:\n",
    "        comparison_ret.loc[time, \"Outperform\"] = \"No\"\n",
    "\n",
    "comparison_ret.head()"
   ]
  },
  {
   "cell_type": "code",
   "execution_count": 27,
   "metadata": {},
   "outputs": [
    {
     "data": {
      "text/plain": [
       "Yes    23\n",
       "No      5\n",
       "Name: Outperform, dtype: int64"
      ]
     },
     "execution_count": 27,
     "metadata": {},
     "output_type": "execute_result"
    }
   ],
   "source": [
    "comparison_ret[\"Outperform\"].value_counts()"
   ]
  },
  {
   "cell_type": "markdown",
   "metadata": {},
   "source": [
    "<b> 〈結果〉兩投資組合第二段期間的整體年報酬率比較"
   ]
  },
  {
   "cell_type": "code",
   "execution_count": 28,
   "metadata": {
    "scrolled": true
   },
   "outputs": [
    {
     "name": "stdout",
     "output_type": "stream",
     "text": [
      "Equilibrium return: 0.005073918537274045\n",
      "BL Model return: 0.01996998927752841\n"
     ]
    }
   ],
   "source": [
    "eq_ret = comparison_ret[\"Equilibrium\"].mean()*12\n",
    "bl_ret = comparison_ret[\"BL Model\"].mean()*12\n",
    "print(\"Equilibrium return:\", eq_ret)\n",
    "print(\"BL Model return:\", bl_ret)"
   ]
  },
  {
   "cell_type": "markdown",
   "metadata": {},
   "source": [
    "<b> (2) 投資組合波動率比較"
   ]
  },
  {
   "cell_type": "markdown",
   "metadata": {},
   "source": [
    "投資組合波動率公式：var(p) = wa^2 * var(a) + wb^2 * var(b) + 2 * wa * wb * cov(a,b)\n",
    "<br>matrix method： var(p) = w(1,19) * var-cov matrix(19,19) * w'(19,1)"
   ]
  },
  {
   "cell_type": "code",
   "execution_count": 29,
   "metadata": {},
   "outputs": [],
   "source": [
    "volatility = pd.DataFrame(columns=tickers, index=pd.period_range('2017/1',freq='M', periods=28))\n",
    "for time in period_2:\n",
    "    volatility[time] = returns[time].std().values[np.newaxis, :]   #增加dim from (19,)to (1,19)"
   ]
  },
  {
   "cell_type": "markdown",
   "metadata": {},
   "source": [
    "<b>兩投資組合每月波動率比較"
   ]
  },
  {
   "cell_type": "code",
   "execution_count": 30,
   "metadata": {
    "scrolled": true
   },
   "outputs": [
    {
     "data": {
      "text/html": [
       "<div>\n",
       "<style scoped>\n",
       "    .dataframe tbody tr th:only-of-type {\n",
       "        vertical-align: middle;\n",
       "    }\n",
       "\n",
       "    .dataframe tbody tr th {\n",
       "        vertical-align: top;\n",
       "    }\n",
       "\n",
       "    .dataframe thead th {\n",
       "        text-align: right;\n",
       "    }\n",
       "</style>\n",
       "<table border=\"1\" class=\"dataframe\">\n",
       "  <thead>\n",
       "    <tr style=\"text-align: right;\">\n",
       "      <th></th>\n",
       "      <th>Equilibrium</th>\n",
       "      <th>BL Model</th>\n",
       "      <th>Outperform</th>\n",
       "    </tr>\n",
       "  </thead>\n",
       "  <tbody>\n",
       "    <tr>\n",
       "      <th>2017-01</th>\n",
       "      <td>0.00298959</td>\n",
       "      <td>0.0143468</td>\n",
       "      <td>No</td>\n",
       "    </tr>\n",
       "    <tr>\n",
       "      <th>2017-02</th>\n",
       "      <td>0.00208415</td>\n",
       "      <td>0.0133456</td>\n",
       "      <td>No</td>\n",
       "    </tr>\n",
       "    <tr>\n",
       "      <th>2017-03</th>\n",
       "      <td>0.00399513</td>\n",
       "      <td>0.0122293</td>\n",
       "      <td>No</td>\n",
       "    </tr>\n",
       "    <tr>\n",
       "      <th>2017-04</th>\n",
       "      <td>0.00310141</td>\n",
       "      <td>0.0121574</td>\n",
       "      <td>No</td>\n",
       "    </tr>\n",
       "    <tr>\n",
       "      <th>2017-05</th>\n",
       "      <td>0.00326688</td>\n",
       "      <td>0.0142757</td>\n",
       "      <td>No</td>\n",
       "    </tr>\n",
       "  </tbody>\n",
       "</table>\n",
       "</div>"
      ],
      "text/plain": [
       "        Equilibrium   BL Model Outperform\n",
       "2017-01  0.00298959  0.0143468         No\n",
       "2017-02  0.00208415  0.0133456         No\n",
       "2017-03  0.00399513  0.0122293         No\n",
       "2017-04  0.00310141  0.0121574         No\n",
       "2017-05  0.00326688  0.0142757         No"
      ]
     },
     "execution_count": 30,
     "metadata": {},
     "output_type": "execute_result"
    }
   ],
   "source": [
    "#cov(assets) = sigma\n",
    "comparison_vol = pd.DataFrame(columns=[\"Equilibrium\", \"BL Model\", \"Outperform\"], index=pd.period_range('2017/1',freq='M', periods=28))\n",
    "#print(comparison_vol)\n",
    "for time in period_2:\n",
    "    sigma = returns[time].cov()\n",
    "    # variance\n",
    "    tmp_bl = np.array(w_bl[time].values.dot(sigma).dot(np.transpose(w_bl[time])), dtype=np.float64)  #.values shape: (1,19) #outcome: (1,1)\n",
    "    tmp_eq = np.array(w_eq).dot(sigma).dot(np.transpose(w_eq))\n",
    "    #print(type(tmp_bl))\n",
    "    # std\n",
    "    #print(comparison_vol.ix[time,0])\n",
    "    comparison_vol.loc[time, \"Equilibrium\"] = np.sqrt(tmp_eq)\n",
    "    comparison_vol.loc[time, \"BL Model\"] = np.sqrt(tmp_bl)[0][0]  #float64才能使用sqrt\n",
    "    if tmp_bl < tmp_eq:\n",
    "        comparison_vol.loc[time, \"Outperform\"] = \"Yes\"\n",
    "    else:\n",
    "        comparison_vol.loc[time, \"Outperform\"] = \"No\"\n",
    "    \n",
    "comparison_vol.head()"
   ]
  },
  {
   "cell_type": "code",
   "execution_count": 31,
   "metadata": {
    "scrolled": false
   },
   "outputs": [
    {
     "data": {
      "text/plain": [
       "No     26\n",
       "Yes     2\n",
       "Name: Outperform, dtype: int64"
      ]
     },
     "execution_count": 31,
     "metadata": {},
     "output_type": "execute_result"
    }
   ],
   "source": [
    "comparison_vol[\"Outperform\"].value_counts()"
   ]
  },
  {
   "cell_type": "markdown",
   "metadata": {},
   "source": [
    "<b> 〈結果〉兩投資組合第二段期間的整體年波動率比較"
   ]
  },
  {
   "cell_type": "code",
   "execution_count": 32,
   "metadata": {},
   "outputs": [
    {
     "name": "stdout",
     "output_type": "stream",
     "text": [
      "Equilibrium volatility: 0.004077624142311125\n",
      "BL Model volatility: 0.0069073000579407545\n"
     ]
    }
   ],
   "source": [
    "eq_vol = comparison_ret[\"Equilibrium\"].std()*np.sqrt(12)\n",
    "bl_vol = comparison_ret[\"BL Model\"].std()*np.sqrt(12)\n",
    "print(\"Equilibrium volatility:\", eq_vol)\n",
    "print(\"BL Model volatility:\", bl_vol)"
   ]
  },
  {
   "cell_type": "markdown",
   "metadata": {},
   "source": [
    "<b> (3) 投資組合Sharpe ratio比較"
   ]
  },
  {
   "cell_type": "markdown",
   "metadata": {},
   "source": [
    "<b>兩投資組合每月Sharpe ratio比較"
   ]
  },
  {
   "cell_type": "code",
   "execution_count": 33,
   "metadata": {
    "scrolled": true
   },
   "outputs": [
    {
     "data": {
      "text/html": [
       "<div>\n",
       "<style scoped>\n",
       "    .dataframe tbody tr th:only-of-type {\n",
       "        vertical-align: middle;\n",
       "    }\n",
       "\n",
       "    .dataframe tbody tr th {\n",
       "        vertical-align: top;\n",
       "    }\n",
       "\n",
       "    .dataframe thead th {\n",
       "        text-align: right;\n",
       "    }\n",
       "</style>\n",
       "<table border=\"1\" class=\"dataframe\">\n",
       "  <thead>\n",
       "    <tr style=\"text-align: right;\">\n",
       "      <th></th>\n",
       "      <th>Equilibrium</th>\n",
       "      <th>BL Model</th>\n",
       "      <th>Outperform</th>\n",
       "    </tr>\n",
       "  </thead>\n",
       "  <tbody>\n",
       "    <tr>\n",
       "      <th>2017-01</th>\n",
       "      <td>0.28354</td>\n",
       "      <td>0.147592</td>\n",
       "      <td>No</td>\n",
       "    </tr>\n",
       "    <tr>\n",
       "      <th>2017-02</th>\n",
       "      <td>0.679362</td>\n",
       "      <td>0.32708</td>\n",
       "      <td>No</td>\n",
       "    </tr>\n",
       "    <tr>\n",
       "      <th>2017-03</th>\n",
       "      <td>0.0243251</td>\n",
       "      <td>0.28992</td>\n",
       "      <td>Yes</td>\n",
       "    </tr>\n",
       "    <tr>\n",
       "      <th>2017-04</th>\n",
       "      <td>0.178691</td>\n",
       "      <td>0.126735</td>\n",
       "      <td>No</td>\n",
       "    </tr>\n",
       "    <tr>\n",
       "      <th>2017-05</th>\n",
       "      <td>0.13244</td>\n",
       "      <td>0.163319</td>\n",
       "      <td>Yes</td>\n",
       "    </tr>\n",
       "  </tbody>\n",
       "</table>\n",
       "</div>"
      ],
      "text/plain": [
       "        Equilibrium  BL Model Outperform\n",
       "2017-01     0.28354  0.147592         No\n",
       "2017-02    0.679362   0.32708         No\n",
       "2017-03   0.0243251   0.28992        Yes\n",
       "2017-04    0.178691  0.126735         No\n",
       "2017-05     0.13244  0.163319        Yes"
      ]
     },
     "execution_count": 33,
     "metadata": {},
     "output_type": "execute_result"
    }
   ],
   "source": [
    "comparison_sharpe = pd.DataFrame(columns=[\"Equilibrium\", \"BL Model\", \"Outperform\"], index=pd.period_range('2017/1',freq='M', periods=28))\n",
    "for time in period_2:\n",
    "    tmp_eq = comparison_ret.loc[time,\"Equilibrium\"] / comparison_vol.loc[time,\"Equilibrium\"]\n",
    "    tmp_bl = comparison_ret.loc[time,\"BL Model\"] / comparison_vol.loc[time,\"BL Model\"]\n",
    "    comparison_sharpe.loc[time, \"Equilibrium\"] = tmp_eq\n",
    "    comparison_sharpe.loc[time, \"BL Model\"] = tmp_bl\n",
    "    if tmp_bl > tmp_eq:\n",
    "        comparison_sharpe.loc[time, \"Outperform\"] = \"Yes\"\n",
    "    else:\n",
    "        comparison_sharpe.loc[time, \"Outperform\"] = \"No\"\n",
    "        \n",
    "comparison_sharpe.head()"
   ]
  },
  {
   "cell_type": "code",
   "execution_count": 34,
   "metadata": {},
   "outputs": [
    {
     "data": {
      "text/plain": [
       "No     15\n",
       "Yes    13\n",
       "Name: Outperform, dtype: int64"
      ]
     },
     "execution_count": 34,
     "metadata": {},
     "output_type": "execute_result"
    }
   ],
   "source": [
    "comparison_sharpe[\"Outperform\"].value_counts()"
   ]
  },
  {
   "cell_type": "markdown",
   "metadata": {},
   "source": [
    "<b> 〈結果〉兩投資組合第二段期間的整體Sharpe ratio比較"
   ]
  },
  {
   "cell_type": "code",
   "execution_count": 35,
   "metadata": {
    "scrolled": true
   },
   "outputs": [
    {
     "name": "stdout",
     "output_type": "stream",
     "text": [
      "Equilibrium Sharpe: 1.2443320816710286\n",
      "BL Model Sharpe: 2.8911425752484226\n"
     ]
    }
   ],
   "source": [
    "print(\"Equilibrium Sharpe:\", eq_ret/eq_vol)\n",
    "print(\"BL Model Sharpe:\", bl_ret/bl_vol)"
   ]
  },
  {
   "cell_type": "markdown",
   "metadata": {},
   "source": [
    "## 〈結論〉"
   ]
  },
  {
   "cell_type": "markdown",
   "metadata": {},
   "source": [
    "<b> 資產日報酬率 (僅列舉部分ETF)"
   ]
  },
  {
   "cell_type": "code",
   "execution_count": 36,
   "metadata": {},
   "outputs": [
    {
     "data": {
      "text/plain": [
       "<matplotlib.axes._subplots.AxesSubplot at 0x11d797240>"
      ]
     },
     "execution_count": 36,
     "metadata": {},
     "output_type": "execute_result"
    },
    {
     "data": {
      "image/png": "[encoded data removed]",
      "text/plain": [
       "<Figure size 432x288 with 4 Axes>"
      ]
     },
     "metadata": {
      "needs_background": "light"
     },
     "output_type": "display_data"
    }
   ],
   "source": [
    "#開始畫圖\n",
    "plt.subplots_adjust(top=1.5, bottom=0, left=0.3, right=2, hspace=0.8, wspace=0.2)\n",
    "plt.subplot(3,2,1)   #2：共兩列，2：共兩行，1：目前在第一格子圖\n",
    "plt.title(\"VTI Price\")\n",
    "data[tickers[0]].plot()\n",
    "plt.subplot(3,2,2)\n",
    "plt.title(\"VTI return\")\n",
    "returns[tickers[0]].plot()\n",
    "# color=\"m\"\n",
    "plt.subplot(3,2,3)   #2：共兩列，2：共兩行，1：目前在第一格子圖\n",
    "plt.title(\"USO Price\")\n",
    "data[tickers[15]].plot(color=\"orange\")\n",
    "plt.subplot(3,2,4)\n",
    "plt.title(\"USO return\")\n",
    "returns[tickers[15]].plot(color=\"orange\")"
   ]
  },
  {
   "cell_type": "markdown",
   "metadata": {},
   "source": [
    "<b> Portfolio Return比較"
   ]
  },
  {
   "cell_type": "code",
   "execution_count": 37,
   "metadata": {},
   "outputs": [
    {
     "data": {
      "image/png": "[encoded data removed]",
      "text/plain": [
       "<Figure size 864x504 with 1 Axes>"
      ]
     },
     "metadata": {
      "needs_background": "light"
     },
     "output_type": "display_data"
    },
    {
     "name": "stdout",
     "output_type": "stream",
     "text": [
      "Equilibrium total return: 0.005073918537274045\n",
      "BL Model total return: 0.01996998927752841\n"
     ]
    }
   ],
   "source": [
    "plt.figure(figsize=(12,7))\n",
    "\n",
    "comparison_ret[\"Equilibrium\"].plot(linewidth=2)\n",
    "comparison_ret[\"BL Model\"].plot(linewidth=2)\n",
    "\n",
    "plt.grid(True)\n",
    "plt.legend(loc='lower left', fontsize=12)\n",
    "plt.xlabel('time')\n",
    "plt.ylabel('portfolio return')\n",
    "plt.title('Comparison of Portfolio Return')\n",
    "plt.show()\n",
    "\n",
    "print(\"Equilibrium total return:\",eq_ret)\n",
    "print(\"BL Model total return:\", bl_ret)"
   ]
  },
  {
   "cell_type": "markdown",
   "metadata": {},
   "source": [
    "<b> Portfolio Volatility 比較"
   ]
  },
  {
   "cell_type": "code",
   "execution_count": 38,
   "metadata": {},
   "outputs": [
    {
     "data": {
      "image/png": "[encoded data removed]",
      "text/plain": [
       "<Figure size 864x504 with 1 Axes>"
      ]
     },
     "metadata": {
      "needs_background": "light"
     },
     "output_type": "display_data"
    },
    {
     "name": "stdout",
     "output_type": "stream",
     "text": [
      "Equilibrium volatility: 0.004077624142311125\n",
      "BL Model volatility: 0.0069073000579407545\n"
     ]
    }
   ],
   "source": [
    "plt.figure(figsize=(12,7))\n",
    "\n",
    "comparison_vol[\"Equilibrium\"].plot(linewidth=2)\n",
    "comparison_vol[\"BL Model\"].plot(linewidth=2)\n",
    "\n",
    "plt.grid(True)\n",
    "plt.legend(loc='lower left', fontsize=12)\n",
    "plt.xlabel('time')\n",
    "plt.ylabel('portfolio volatility')\n",
    "plt.title('Comparison of Portfolio Volatility')\n",
    "plt.show()\n",
    "\n",
    "print(\"Equilibrium volatility:\", eq_vol)\n",
    "print(\"BL Model volatility:\", bl_vol)"
   ]
  },
  {
   "cell_type": "markdown",
   "metadata": {},
   "source": [
    "<b> Portfolio Sharpe Ratio比較"
   ]
  },
  {
   "cell_type": "code",
   "execution_count": 39,
   "metadata": {},
   "outputs": [
    {
     "data": {
      "image/png": "[encoded data removed]",
      "text/plain": [
       "<Figure size 864x504 with 1 Axes>"
      ]
     },
     "metadata": {
      "needs_background": "light"
     },
     "output_type": "display_data"
    },
    {
     "name": "stdout",
     "output_type": "stream",
     "text": [
      "Equilibrium Sharpe: 1.2443320816710286\n",
      "BL Model Sharpe: 2.8911425752484226\n"
     ]
    }
   ],
   "source": [
    "plt.figure(figsize=(12,7))\n",
    "\n",
    "plt.scatter(comparison_vol[\"Equilibrium\"], comparison_ret[\"Equilibrium\"], label=\"Equilibrium\",marker='^')\n",
    "plt.scatter(comparison_vol[\"BL Model\"], comparison_ret[\"BL Model\"], label=\"BL Model\",marker='.')\n",
    "\n",
    "plt.grid(True)\n",
    "plt.legend(loc='lower left', fontsize=12)\n",
    "plt.xlabel('return')\n",
    "plt.ylabel('portfolio volatility')\n",
    "plt.title('Comparison of Portfolio Performance')\n",
    "plt.show()\n",
    "\n",
    "print(\"Equilibrium Sharpe:\", eq_ret/eq_vol)\n",
    "print(\"BL Model Sharpe:\", bl_ret/bl_vol)"
   ]
  },
  {
   "cell_type": "code",
   "execution_count": null,
   "metadata": {},
   "outputs": [],
   "source": []
  }
 ],
 "metadata": {
  "kernelspec": {
   "display_name": "Python 3",
   "language": "python",
   "name": "python3"
  },
  "language_info": {
   "codemirror_mode": {
    "name": "ipython",
    "version": 3
   },
   "file_extension": ".py",
   "mimetype": "text/x-python",
   "name": "python",
   "nbconvert_exporter": "python",
   "pygments_lexer": "ipython3",
   "version": "3.7.1"
  }
 },
 "nbformat": 4,
 "nbformat_minor": 2
}
