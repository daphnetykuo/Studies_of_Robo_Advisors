{
 "cells": [
  {
   "cell_type": "markdown",
   "metadata": {},
   "source": [
    "## RSI算法（1)"
   ]
  },
  {
   "cell_type": "markdown",
   "metadata": {},
   "source": [
    "適用於完整股價資料的dataframe（有open, close...等）"
   ]
  },
  {
   "cell_type": "markdown",
   "metadata": {},
   "source": [
    "#計算RSI的方法，入參periodList傳入週期列表 \n",
    "def calRSI(df, period):\n",
    "    #計算和上一個交易日收盤價的差值\n",
    "    df['change'] = df - df.shift(1)\n",
    "    df['change'].fillna(0, inplace=True)\n",
    "    df['up'] = df['change']\n",
    "    #過濾掉小於0的值\n",
    "    df['up'][df['up']] = 0\n",
    "    df['down'] = df['change']\n",
    "    #過濾掉大於0的值\n",
    "    df['down'][df['down']] = 0\n",
    "    #計算不同週期的RSI\n",
    "    df['upAvg'+str(period)] = df['up'].rolling(period).sum()/period\n",
    "    df['upAvg'+str(period)].fillna(0, inplace = True)\n",
    "    df['downAvg'+str(period)] = abs(df['down'].rolling(period).sum()/period)\n",
    "    df['downAvg'+str(period)].fillna(0, inplace = True)\n",
    "    df['RSI'+str(period)] = 100 - 100/((df['upAvg'+str(period)]/df['downAvg'+str(period)]+1))\n",
    "    return df\n",
    "\n",
    "'''for period in periodList:\n",
    "18\t        df['upAvg'+str(period)] = df['up'].rolling(period).sum()/period\n",
    "19\t        df['upAvg'+str(period)].fillna(0, inplace = True)\n",
    "20\t        df['downAvg'+str(period)] = abs(df['down'].rolling(period).sum()/period)\n",
    "21\t        df['downAvg'+str(period)].fillna(0, inplace = True)\n",
    "22\t        df['RSI'+str(period)] = 100 - 100/((df['upAvg'+str(period)]/df['downAvg'+str(period)]+1))\n",
    "23\t    return df'''\n",
    "\n",
    "\n",
    "stockDataFrame = calRSI(data_1,10) \n",
    "stockDataFrame.head()"
   ]
  },
  {
   "cell_type": "markdown",
   "metadata": {},
   "source": [
    "## RSI算法（2）"
   ]
  },
  {
   "cell_type": "code",
   "execution_count": null,
   "metadata": {},
   "outputs": [],
   "source": [
    "def cal_rsi(series):    #series: data_1[\"ticker\"]\n",
    "    up_days = series[series > 0]\n",
    "    down_days = series[series < 0]\n",
    "    up = up_days.mean() if len(up_days) > 0 else 0\n",
    "    down = abs(down_days.mean()) if len(down_days) > 0 else 0\n",
    "    return 100 * up / (up + down)"
   ]
  },
  {
   "cell_type": "markdown",
   "metadata": {},
   "source": [
    "### 做RSI的dataframe"
   ]
  },
  {
   "cell_type": "code",
   "execution_count": null,
   "metadata": {},
   "outputs": [],
   "source": [
    "rsi = pd.DataFrame()\n",
    "for i in tickers:\n",
    "    rsi[i] = change[i].rolling(6).agg(cal_rsi)   #6d-RSI\n",
    "rsi"
   ]
  }
 ],
 "metadata": {
  "kernelspec": {
   "display_name": "Python 3",
   "language": "python",
   "name": "python3"
  },
  "language_info": {
   "codemirror_mode": {
    "name": "ipython",
    "version": 3
   },
   "file_extension": ".py",
   "mimetype": "text/x-python",
   "name": "python",
   "nbconvert_exporter": "python",
   "pygments_lexer": "ipython3",
   "version": "3.7.1"
  }
 },
 "nbformat": 4,
 "nbformat_minor": 2
}
